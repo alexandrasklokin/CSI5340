{
 "cells": [
  {
   "cell_type": "code",
   "execution_count": null,
   "metadata": {},
   "outputs": [],
   "source": [
    "import numpy as np\n",
    "import time\n",
    "import sys\n",
    "import matplotlib.pyplot as plt\n",
    "import torch\n",
    "import torch.nn as nn\n",
    "import tensorflow as tf\n",
    "import torchvision\n",
    "import torch\n",
    "\n",
    "from sklearn.metrics import accuracy_score\n",
    "\n",
    "from torch.utils.data import DataLoader\n",
    "from torch import optim\n",
    "from torch.autograd import Variable"
   ]
  },
  {
   "cell_type": "markdown",
   "metadata": {},
   "source": [
    "# IMPORTING FUNCTIONS"
   ]
  },
  {
   "cell_type": "code",
   "execution_count": null,
   "metadata": {},
   "outputs": [],
   "source": [
    "from CNN_PGD import *"
   ]
  },
  {
   "cell_type": "markdown",
   "metadata": {},
   "source": [
    "# IMPORTING DATA"
   ]
  },
  {
   "cell_type": "code",
   "execution_count": null,
   "metadata": {},
   "outputs": [],
   "source": [
    "from torchvision import datasets\n",
    "from torchvision.transforms import ToTensor\n",
    "\n",
    "training_data = datasets.MNIST(\n",
    "    root = 'data',\n",
    "    train = True,                         \n",
    "    transform = ToTensor(),\n",
    ")\n",
    "\n",
    "testing_data = datasets.MNIST(\n",
    "    root = 'data', \n",
    "    train = False, \n",
    "    transform = ToTensor()\n",
    ")"
   ]
  },
  {
   "cell_type": "code",
   "execution_count": null,
   "metadata": {},
   "outputs": [],
   "source": [
    "BATCH_SIZE = 100\n",
    "\n",
    "data_loaders = {\n",
    "    'train' : DataLoader(training_data, batch_size=BATCH_SIZE, shuffle=True, num_workers=1),\n",
    "    'test'  : DataLoader(testing_data, batch_size=BATCH_SIZE, shuffle=True, num_workers=1),\n",
    "}"
   ]
  },
  {
   "cell_type": "markdown",
   "metadata": {},
   "source": [
    "# FIRST CLASSIFIER"
   ]
  },
  {
   "cell_type": "code",
   "execution_count": null,
   "metadata": {},
   "outputs": [],
   "source": [
    "# PARAMETERS\n",
    "\n",
    "# CNN Training Params\n",
    "EPOCHS = 10\n",
    "LEARNING_RATE = 0.001\n",
    "\n",
    "# PGD Params\n",
    "eps = 0.3\n",
    "alpha = 0.02\n",
    "iterations = 20"
   ]
  },
  {
   "cell_type": "code",
   "execution_count": null,
   "metadata": {},
   "outputs": [],
   "source": [
    "classifier_one = CNN()\n",
    "optimizer_one = optim.Adam(classifier_one.parameters(), lr = LEARNING_RATE)  "
   ]
  },
  {
   "cell_type": "code",
   "execution_count": null,
   "metadata": {},
   "outputs": [],
   "source": [
    "# TRAINING\n",
    "\n",
    "(one_orginal_images, one_pgd_images, one_pgd_labels, \n",
    " one_training_loss, one_training_accuracy, \n",
    " one_adv_training_loss, one_adv_training_accuracy) = pgd_train(cnn_model = classifier_one, \n",
    "                                                               data_load = data_loaders, \n",
    "                                                               optim = optimizer_one, \n",
    "                                                               pgd_function = untargeted_pgd_attack, \n",
    "                                                               EPOCHS = EPOCHS, \n",
    "                                                               eps = eps, \n",
    "                                                               alpha = alpha,\n",
    "                                                               iterations = iterations)"
   ]
  },
  {
   "cell_type": "code",
   "execution_count": null,
   "metadata": {},
   "outputs": [],
   "source": [
    "# TESTING\n",
    "\n",
    "(one_test_accuracy, one_adv_test_accuracy) = pgd_test(pgd_test(cnn_model = classifier_one, \n",
    "                                                      data_load = data_loaders, \n",
    "                                                      pgd_function = untargeted_pgd_attack, \n",
    "                                                      eps = eps, \n",
    "                                                      alpha = alpha,\n",
    "                                                      iterations = iterations,\n",
    "                                                      details=True)"
   ]
  },
  {
   "cell_type": "markdown",
   "metadata": {},
   "source": [
    "# SECOND CLASSIFIER"
   ]
  },
  {
   "cell_type": "code",
   "execution_count": null,
   "metadata": {},
   "outputs": [],
   "source": [
    "# PARAMETERS\n",
    "\n",
    "# CNN Training Params\n",
    "EPOCHS = 2\n",
    "LEARNING_RATE = 0.001\n",
    "\n",
    "# PGD Params\n",
    "eps = 0.3\n",
    "alpha = 0.5\n",
    "iterations = 1"
   ]
  },
  {
   "cell_type": "code",
   "execution_count": null,
   "metadata": {},
   "outputs": [],
   "source": [
    "classifier_two = CNN()\n",
    "optimizer_two = optim.Adam(classifier_two.parameters(), lr = LEARNING_RATE) "
   ]
  },
  {
   "cell_type": "code",
   "execution_count": null,
   "metadata": {},
   "outputs": [],
   "source": [
    "# TRAINING\n",
    "\n",
    "(two_orginal_images, two_pgd_images, two_pgd_labels, \n",
    " two_training_loss, two_training_accuracy, \n",
    " two_adv_training_loss, two_adv_training_accuracy) = pgd_train(cnn_model = classifier_two, \n",
    "                                                               data_load = data_loaders, \n",
    "                                                               optim = optimizer_two, \n",
    "                                                               pgd_function = untargeted_pgd_attack, \n",
    "                                                               EPOCHS = EPOCHS, \n",
    "                                                               eps = eps, \n",
    "                                                               alpha = alpha,\n",
    "                                                               iterations = iterations)"
   ]
  },
  {
   "cell_type": "code",
   "execution_count": null,
   "metadata": {},
   "outputs": [],
   "source": [
    "# TESTING\n",
    "\n",
    "(two_test_accuracy, two_adv_test_accuracy) = pgd_test(cnn_model = classifier_two, \n",
    "                                                      data_load = data_loaders, \n",
    "                                                      pgd_function = untargeted_pgd_attack, \n",
    "                                                      eps = eps, \n",
    "                                                      alpha = alpha,\n",
    "                                                      iterations = iterations,\n",
    "                                                      details=True)"
   ]
  },
  {
   "cell_type": "code",
   "execution_count": null,
   "metadata": {},
   "outputs": [],
   "source": [
    "# GET A FEW IMAGES (UNPERTURBED, PERTURBED FROM TRAINING SET)"
   ]
  },
  {
   "cell_type": "markdown",
   "metadata": {},
   "source": [
    "# THIRD CLASSIFIER"
   ]
  },
  {
   "cell_type": "code",
   "execution_count": null,
   "metadata": {},
   "outputs": [],
   "source": [
    "# PARAMETERS\n",
    "\n",
    "# CNN Training Params\n",
    "EPOCHS = 10\n",
    "LEARNING_RATE = 0.001\n",
    "\n",
    "# PGD Params\n",
    "eps = 0.3\n",
    "alpha = 0.02\n",
    "iterations = 20"
   ]
  },
  {
   "cell_type": "code",
   "execution_count": null,
   "metadata": {},
   "outputs": [],
   "source": [
    "classifier_three = CNN()\n",
    "optimizer_three = optim.Adam(classifier_three.parameters(), lr = LEARNING_RATE) "
   ]
  },
  {
   "cell_type": "code",
   "execution_count": null,
   "metadata": {},
   "outputs": [],
   "source": [
    "# TRAINING\n",
    "\n",
    "(three_orginal_images, three_pgd_images, three_pgd_labels, \n",
    " three_training_loss, three_training_accuracy, \n",
    " three_adv_training_loss, three_adv_training_accuracy) = pgd_train(cnn_model = classifier_three, \n",
    "                                                               data_load = data_loaders, \n",
    "                                                               optim = optimizer_three, \n",
    "                                                               pgd_function = targeted_pgd_attack, \n",
    "                                                               EPOCHS = EPOCHS, \n",
    "                                                               eps = eps, \n",
    "                                                               alpha = alpha,\n",
    "                                                               iterations = iterations)"
   ]
  },
  {
   "cell_type": "code",
   "execution_count": null,
   "metadata": {},
   "outputs": [],
   "source": [
    "# TESTING\n",
    "\n",
    "(three_test_accuracy, three_adv_test_accuracy) = pgd_test(cnn_model = classifier_three, \n",
    "                                                      data_load = data_loaders, \n",
    "                                                      pgd_function = targeted_pgd_attack, \n",
    "                                                      eps = eps, \n",
    "                                                      alpha = alpha,\n",
    "                                                      iterations = iterations,\n",
    "                                                      details=True)"
   ]
  }
 ],
 "metadata": {
  "kernelspec": {
   "display_name": "Python 3",
   "language": "python",
   "name": "python3"
  },
  "language_info": {
   "codemirror_mode": {
    "name": "ipython",
    "version": 3
   },
   "file_extension": ".py",
   "mimetype": "text/x-python",
   "name": "python",
   "nbconvert_exporter": "python",
   "pygments_lexer": "ipython3",
   "version": "3.8.5"
  }
 },
 "nbformat": 4,
 "nbformat_minor": 4
}
