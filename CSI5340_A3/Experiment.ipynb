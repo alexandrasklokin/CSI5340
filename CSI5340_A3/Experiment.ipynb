{
 "cells": [
  {
   "cell_type": "code",
   "execution_count": 1,
   "metadata": {},
   "outputs": [],
   "source": [
    "import numpy as np\n",
    "import time\n",
    "import sys\n",
    "import matplotlib.pyplot as plt\n",
    "import torch\n",
    "import torch.nn as nn\n",
    "import tensorflow as tf\n",
    "import torchvision\n",
    "import torch\n",
    "import pandas as pd\n",
    "\n",
    "from sklearn.metrics import accuracy_score\n",
    "\n",
    "from torch.utils.data import DataLoader\n",
    "from torch import optim\n",
    "from torch.autograd import Variable"
   ]
  },
  {
   "cell_type": "markdown",
   "metadata": {},
   "source": [
    "# IMPORTING FUNCTIONS"
   ]
  },
  {
   "cell_type": "code",
   "execution_count": 2,
   "metadata": {},
   "outputs": [],
   "source": [
    "from CNN_PGD import *"
   ]
  },
  {
   "cell_type": "markdown",
   "metadata": {},
   "source": [
    "# IMPORTING DATA"
   ]
  },
  {
   "cell_type": "code",
   "execution_count": 3,
   "metadata": {},
   "outputs": [],
   "source": [
    "from torchvision import datasets\n",
    "from torchvision.transforms import ToTensor\n",
    "\n",
    "training_data = datasets.MNIST(\n",
    "    root = 'data',\n",
    "    train = True,                         \n",
    "    transform = ToTensor(),\n",
    ")\n",
    "\n",
    "testing_data = datasets.MNIST(\n",
    "    root = 'data', \n",
    "    train = False, \n",
    "    transform = ToTensor()\n",
    ")"
   ]
  },
  {
   "cell_type": "code",
   "execution_count": 4,
   "metadata": {},
   "outputs": [],
   "source": [
    "BATCH_SIZE = 100\n",
    "\n",
    "data_loaders = {\n",
    "    'train' : DataLoader(training_data, batch_size=BATCH_SIZE, shuffle=True, num_workers=1),\n",
    "    'test'  : DataLoader(testing_data, batch_size=BATCH_SIZE, shuffle=True, num_workers=1),\n",
    "}"
   ]
  },
  {
   "cell_type": "markdown",
   "metadata": {},
   "source": [
    "# PARAMETERS"
   ]
  },
  {
   "cell_type": "code",
   "execution_count": 5,
   "metadata": {},
   "outputs": [],
   "source": [
    "# CNN Training Params\n",
    "EPOCHS = 10\n",
    "\n",
    "# Testing\n",
    "epses = [0, 0.1, 0.2, 0.3, 0.45]\n",
    "TESTING_ITERATIONS = 40\n",
    "TESTING_ALPHA = 0.01"
   ]
  },
  {
   "cell_type": "markdown",
   "metadata": {},
   "source": [
    "# BASELINE"
   ]
  },
  {
   "cell_type": "code",
   "execution_count": 32,
   "metadata": {},
   "outputs": [
    {
     "name": "stdout",
     "output_type": "stream",
     "text": [
      "Epoch [1/10], Progress [200/600], Loss: 0.1859\n",
      "Epoch [1/10], Progress [400/600], Loss: 0.0506\n",
      "Epoch [1/10], Progress [600/600], Loss: 0.0506\n",
      "Epoch [2/10], Progress [200/600], Loss: 0.0520\n",
      "Epoch [2/10], Progress [400/600], Loss: 0.0513\n",
      "Epoch [2/10], Progress [600/600], Loss: 0.1541\n",
      "Epoch [3/10], Progress [200/600], Loss: 0.0477\n",
      "Epoch [3/10], Progress [400/600], Loss: 0.1275\n",
      "Epoch [3/10], Progress [600/600], Loss: 0.0807\n",
      "Epoch [4/10], Progress [200/600], Loss: 0.0164\n",
      "Epoch [4/10], Progress [400/600], Loss: 0.0673\n",
      "Epoch [4/10], Progress [600/600], Loss: 0.0038\n",
      "Epoch [5/10], Progress [200/600], Loss: 0.0039\n",
      "Epoch [5/10], Progress [400/600], Loss: 0.0428\n",
      "Epoch [5/10], Progress [600/600], Loss: 0.0275\n",
      "Epoch [6/10], Progress [200/600], Loss: 0.0006\n",
      "Epoch [6/10], Progress [400/600], Loss: 0.0297\n",
      "Epoch [6/10], Progress [600/600], Loss: 0.1255\n",
      "Epoch [7/10], Progress [200/600], Loss: 0.2227\n",
      "Epoch [7/10], Progress [400/600], Loss: 0.1285\n",
      "Epoch [7/10], Progress [600/600], Loss: 0.0388\n",
      "Epoch [8/10], Progress [200/600], Loss: 0.0130\n",
      "Epoch [8/10], Progress [400/600], Loss: 0.0479\n",
      "Epoch [8/10], Progress [600/600], Loss: 0.0521\n",
      "Epoch [9/10], Progress [200/600], Loss: 0.0002\n",
      "Epoch [9/10], Progress [400/600], Loss: 0.1514\n",
      "Epoch [9/10], Progress [600/600], Loss: 0.0077\n",
      "Epoch [10/10], Progress [200/600], Loss: 0.0169\n",
      "Epoch [10/10], Progress [400/600], Loss: 0.0001\n",
      "Epoch [10/10], Progress [600/600], Loss: 0.0054\n"
     ]
    }
   ],
   "source": [
    "# TRAINING\n",
    "\n",
    "classifier_baseline = CNN()\n",
    "optimizer_baseline = optim.Adam(classifier_baseline.parameters(), lr = LEARNING_RATE)\n",
    "\n",
    "(train_loss_baseline, train_accuracy_baseline) = train(cnn_model = classifier_baseline, \n",
    "                                                       data_load = data_loaders, \n",
    "                                                       optim = optimizer_baseline,\n",
    "                                                       EPOCHS = EPOCHS)"
   ]
  },
  {
   "cell_type": "code",
   "execution_count": 33,
   "metadata": {},
   "outputs": [
    {
     "name": "stdout",
     "output_type": "stream",
     "text": [
      "test loss: 0.08035\n",
      "test accuracy: 0.98000\n"
     ]
    }
   ],
   "source": [
    "(test_loss_baseline, test_accuracy_baseline) = getLossAccuracy(classifier_baseline, data_loaders, 'test', details=True)"
   ]
  },
  {
   "cell_type": "code",
   "execution_count": 34,
   "metadata": {},
   "outputs": [],
   "source": [
    "# SAVE DATA TO EXCEL\n",
    "\n",
    "data = {'Testing': [test_loss_baseline, test_accuracy_baseline]}\n",
    "\n",
    "for i, (tr_loss, tr_acc) in enumerate(zip(train_loss_baseline, train_accuracy_baseline)):\n",
    "    data['Training_epoch'+str(i)] = [tr_loss, tr_acc]\n",
    "\n",
    "df_baseline = pd.DataFrame(data, index=['Loss', 'Accuracy'])\n",
    "df_baseline = df_baseline.transpose()\n",
    "df_baseline.to_csv(\"output\\Baseline.csv\")"
   ]
  },
  {
   "cell_type": "markdown",
   "metadata": {},
   "source": [
    "# FIRST CLASSIFIER"
   ]
  },
  {
   "cell_type": "code",
   "execution_count": 35,
   "metadata": {},
   "outputs": [],
   "source": [
    "# PARAMETERS (for PGD)\n",
    "\n",
    "eps = 0.3\n",
    "alpha = 0.02\n",
    "iterations = 20"
   ]
  },
  {
   "cell_type": "code",
   "execution_count": 36,
   "metadata": {},
   "outputs": [],
   "source": [
    "classifier_one = CNN()\n",
    "optimizer_one = optim.Adam(classifier_one.parameters(), lr = LEARNING_RATE)  "
   ]
  },
  {
   "cell_type": "code",
   "execution_count": 37,
   "metadata": {},
   "outputs": [
    {
     "name": "stdout",
     "output_type": "stream",
     "text": [
      "Epoch [1/10], Progress [200/600], Loss: 2.3059\n",
      "Epoch [1/10], Progress [400/600], Loss: 2.3033\n",
      "Epoch [1/10], Progress [600/600], Loss: 2.3003\n",
      "Epoch [2/10], Progress [200/600], Loss: 2.3077\n",
      "Epoch [2/10], Progress [400/600], Loss: 2.2990\n",
      "Epoch [2/10], Progress [600/600], Loss: 2.3039\n",
      "Epoch [3/10], Progress [200/600], Loss: 2.3122\n",
      "Epoch [3/10], Progress [400/600], Loss: 2.3039\n",
      "Epoch [3/10], Progress [600/600], Loss: 2.3047\n",
      "Epoch [4/10], Progress [200/600], Loss: 2.3067\n",
      "Epoch [4/10], Progress [400/600], Loss: 2.2954\n",
      "Epoch [4/10], Progress [600/600], Loss: 2.3128\n",
      "Epoch [5/10], Progress [200/600], Loss: 2.2980\n",
      "Epoch [5/10], Progress [400/600], Loss: 2.2948\n",
      "Epoch [5/10], Progress [600/600], Loss: 2.2862\n",
      "Epoch [6/10], Progress [200/600], Loss: 2.3018\n",
      "Epoch [6/10], Progress [400/600], Loss: 2.3091\n",
      "Epoch [6/10], Progress [600/600], Loss: 2.2967\n",
      "Epoch [7/10], Progress [200/600], Loss: 2.3057\n",
      "Epoch [7/10], Progress [400/600], Loss: 2.3031\n",
      "Epoch [7/10], Progress [600/600], Loss: 2.3016\n",
      "Epoch [8/10], Progress [200/600], Loss: 2.3052\n",
      "Epoch [8/10], Progress [400/600], Loss: 2.3152\n",
      "Epoch [8/10], Progress [600/600], Loss: 2.3105\n",
      "Epoch [9/10], Progress [200/600], Loss: 2.2934\n",
      "Epoch [9/10], Progress [400/600], Loss: 2.3071\n",
      "Epoch [9/10], Progress [600/600], Loss: 2.3099\n",
      "Epoch [10/10], Progress [200/600], Loss: 2.2977\n",
      "Epoch [10/10], Progress [400/600], Loss: 2.3118\n",
      "Epoch [10/10], Progress [600/600], Loss: 2.2961\n"
     ]
    }
   ],
   "source": [
    "# TRAINING\n",
    "\n",
    "(one_orginal_images, one_pgd_images, one_pgd_labels, \n",
    " one_training_loss, one_training_accuracy, \n",
    " one_adv_training_loss, one_adv_training_accuracy) = pgd_train(cnn_model = classifier_one, \n",
    "                                                               data_load = data_loaders, \n",
    "                                                               optim = optimizer_one, \n",
    "                                                               pgd_function = untargeted_pgd_attack, \n",
    "                                                               EPOCHS = EPOCHS, \n",
    "                                                               eps = eps, \n",
    "                                                               alpha = alpha,\n",
    "                                                               iterations = iterations)"
   ]
  },
  {
   "cell_type": "code",
   "execution_count": 39,
   "metadata": {},
   "outputs": [
    {
     "name": "stdout",
     "output_type": "stream",
     "text": [
      "_____________________________________________ EPS:0\n",
      "Accuracy on original Test Set: 0.15000\n",
      "Accuracy of Perturbed Test Set: 0.15000\n",
      "_____________________________________________ EPS:0.1\n",
      "Accuracy on original Test Set: 0.12000\n",
      "Accuracy of Perturbed Test Set: 0.10280\n",
      "_____________________________________________ EPS:0.2\n",
      "Accuracy on original Test Set: 0.07000\n",
      "Accuracy of Perturbed Test Set: 0.10280\n",
      "_____________________________________________ EPS:0.3\n",
      "Accuracy on original Test Set: 0.08000\n",
      "Accuracy of Perturbed Test Set: 0.10280\n",
      "_____________________________________________ EPS:0.45\n",
      "Accuracy on original Test Set: 0.06000\n",
      "Accuracy of Perturbed Test Set: 0.10280\n"
     ]
    }
   ],
   "source": [
    "# TESTING\n",
    "\n",
    "one_test_accuracies = []\n",
    "one_adv_test_accuracies = []\n",
    "\n",
    "for test_eps in epses:\n",
    "    \n",
    "    print(\"_____________________________________________ EPS:\"+str(test_eps))\n",
    "\n",
    "    (one_test_accuracy, one_adv_test_accuracy) = pgd_test(cnn_model = classifier_one, \n",
    "                                                          data_load = data_loaders, \n",
    "                                                          pgd_function = untargeted_pgd_attack, \n",
    "                                                          eps = test_eps, \n",
    "                                                          alpha = TESTING_ALPHA,\n",
    "                                                          iterations = TESTING_ITERATIONS,\n",
    "                                                          details=True)\n",
    "    \n",
    "    one_test_accuracies.append(one_test_accuracy)\n",
    "    one_adv_test_accuracies.append(one_adv_test_accuracy)"
   ]
  },
  {
   "cell_type": "code",
   "execution_count": 40,
   "metadata": {},
   "outputs": [],
   "source": [
    "# SAVE DATA TO EXCEL\n",
    "\n",
    "data = {}\n",
    "\n",
    "for i, (test, pert) in enumerate(zip(one_test_accuracies, one_adv_test_accuracies)):\n",
    "    data['Testing_eps'+str(epses[i])] = [test, pert]\n",
    "\n",
    "for i, (train, pert) in enumerate(zip(one_training_accuracy, one_adv_training_accuracy)):\n",
    "    data['Training_epoch'+str(i)] = [train, pert]\n",
    "\n",
    "df_one = pd.DataFrame(data, index=['Original_Data', 'Perturbed_Data'])\n",
    "df_one = df_one.transpose()\n",
    "df_one.to_csv(\"output\\Classifier_One.csv\")"
   ]
  },
  {
   "cell_type": "markdown",
   "metadata": {},
   "source": [
    "# SECOND CLASSIFIER"
   ]
  },
  {
   "cell_type": "code",
   "execution_count": 9,
   "metadata": {},
   "outputs": [],
   "source": [
    "# PARAMETERS (for PGD)\n",
    "\n",
    "eps = 0.3\n",
    "alpha = 0.5\n",
    "iterations = 1"
   ]
  },
  {
   "cell_type": "code",
   "execution_count": 10,
   "metadata": {},
   "outputs": [],
   "source": [
    "classifier_two = CNN()\n",
    "optimizer_two = optim.Adam(classifier_two.parameters(), lr = LEARNING_RATE) "
   ]
  },
  {
   "cell_type": "code",
   "execution_count": 11,
   "metadata": {},
   "outputs": [
    {
     "name": "stdout",
     "output_type": "stream",
     "text": [
      "Epoch [1/10], Progress [200/600], Loss: 2.3002\n",
      "Epoch [1/10], Progress [400/600], Loss: 2.2985\n",
      "Epoch [1/10], Progress [600/600], Loss: 2.3032\n",
      "Epoch [2/10], Progress [200/600], Loss: 2.2973\n",
      "Epoch [2/10], Progress [400/600], Loss: 2.2898\n",
      "Epoch [2/10], Progress [600/600], Loss: 2.2990\n",
      "Epoch [3/10], Progress [200/600], Loss: 2.3057\n",
      "Epoch [3/10], Progress [400/600], Loss: 2.3002\n",
      "Epoch [3/10], Progress [600/600], Loss: 2.3015\n",
      "Epoch [4/10], Progress [200/600], Loss: 2.2940\n",
      "Epoch [4/10], Progress [400/600], Loss: 2.3073\n",
      "Epoch [4/10], Progress [600/600], Loss: 2.2926\n",
      "Epoch [5/10], Progress [200/600], Loss: 2.3063\n",
      "Epoch [5/10], Progress [400/600], Loss: 2.3044\n",
      "Epoch [5/10], Progress [600/600], Loss: 2.2953\n",
      "Epoch [6/10], Progress [200/600], Loss: 2.2943\n",
      "Epoch [6/10], Progress [400/600], Loss: 2.3084\n",
      "Epoch [6/10], Progress [600/600], Loss: 2.3035\n",
      "Epoch [7/10], Progress [200/600], Loss: 2.3031\n",
      "Epoch [7/10], Progress [400/600], Loss: 2.3103\n",
      "Epoch [7/10], Progress [600/600], Loss: 2.3157\n",
      "Epoch [8/10], Progress [200/600], Loss: 2.3113\n",
      "Epoch [8/10], Progress [400/600], Loss: 2.3074\n",
      "Epoch [8/10], Progress [600/600], Loss: 2.3022\n",
      "Epoch [9/10], Progress [200/600], Loss: 2.3025\n",
      "Epoch [9/10], Progress [400/600], Loss: 2.3029\n",
      "Epoch [9/10], Progress [600/600], Loss: 2.3134\n",
      "Epoch [10/10], Progress [200/600], Loss: 2.2993\n",
      "Epoch [10/10], Progress [400/600], Loss: 2.3015\n",
      "Epoch [10/10], Progress [600/600], Loss: 2.3055\n"
     ]
    }
   ],
   "source": [
    "# TRAINING\n",
    "\n",
    "(two_orginal_images, two_pgd_images, two_pgd_labels, \n",
    " two_training_loss, two_training_accuracy, \n",
    " two_adv_training_loss, two_adv_training_accuracy) = pgd_train(cnn_model = classifier_two, \n",
    "                                                               data_load = data_loaders, \n",
    "                                                               optim = optimizer_two, \n",
    "                                                               pgd_function = untargeted_pgd_attack, \n",
    "                                                               EPOCHS = EPOCHS, \n",
    "                                                               eps = eps, \n",
    "                                                               alpha = alpha,\n",
    "                                                               iterations = iterations)"
   ]
  },
  {
   "cell_type": "code",
   "execution_count": 12,
   "metadata": {},
   "outputs": [
    {
     "name": "stdout",
     "output_type": "stream",
     "text": [
      "_____________________________________________ EPS:0\n",
      "Accuracy on original Test Set: 0.15000\n",
      "Accuracy of Perturbed Test Set: 0.15000\n",
      "_____________________________________________ EPS:0.1\n",
      "Accuracy on original Test Set: 0.13000\n",
      "Accuracy of Perturbed Test Set: 0.11350\n",
      "_____________________________________________ EPS:0.2\n",
      "Accuracy on original Test Set: 0.11000\n",
      "Accuracy of Perturbed Test Set: 0.11350\n",
      "_____________________________________________ EPS:0.3\n",
      "Accuracy on original Test Set: 0.12000\n",
      "Accuracy of Perturbed Test Set: 0.11350\n",
      "_____________________________________________ EPS:0.45\n",
      "Accuracy on original Test Set: 0.08000\n",
      "Accuracy of Perturbed Test Set: 0.11350\n"
     ]
    }
   ],
   "source": [
    "# TESTING\n",
    "\n",
    "two_test_accuracies = []\n",
    "two_adv_test_accuracies = []\n",
    "\n",
    "for test_eps in epses:\n",
    "    \n",
    "    print(\"_____________________________________________ EPS:\"+str(test_eps))\n",
    "\n",
    "    (two_test_accuracy, two_adv_test_accuracy) = pgd_test(cnn_model = classifier_two, \n",
    "                                                          data_load = data_loaders, \n",
    "                                                          pgd_function = untargeted_pgd_attack, \n",
    "                                                          eps = test_eps, \n",
    "                                                          alpha = TESTING_ALPHA,\n",
    "                                                          iterations = TESTING_ITERATIONS,\n",
    "                                                          details=True)\n",
    "    \n",
    "    two_test_accuracies.append(two_test_accuracy)\n",
    "    two_adv_test_accuracies.append(two_adv_test_accuracy)\n",
    "    \n",
    "#print(\"Testing accuracies:(for growing eps)\" + str(two_test_accuracies))\n",
    "#print(\"Perturbed Testing accuracies:(for growing eps)\" + str(two_adv_test_accuracies))"
   ]
  },
  {
   "cell_type": "code",
   "execution_count": 21,
   "metadata": {},
   "outputs": [],
   "source": [
    "# SAVE DATA TO EXCEL\n",
    "\n",
    "data = {}\n",
    "\n",
    "for i, (test, pert) in enumerate(zip(two_test_accuracies, two_adv_test_accuracies)):\n",
    "    data['Testing_eps'+str(epses[i])] = [test, pert]\n",
    "\n",
    "for i, (train, pert) in enumerate(zip(two_training_accuracy, two_adv_training_accuracy)):\n",
    "    data['Training_epoch'+str(i)] = [train, pert]\n",
    "\n",
    "df_two = pd.DataFrame(data, index=['Original_Data', 'Perturbed_Data'])\n",
    "df_two = df_two.transpose()\n",
    "df_two.to_csv(\"output\\Classifier_Two.csv\")"
   ]
  },
  {
   "cell_type": "code",
   "execution_count": null,
   "metadata": {},
   "outputs": [],
   "source": [
    "# GET A FEW IMAGES (UNPERTURBED, PERTURBED FROM TRAINING SET)"
   ]
  },
  {
   "cell_type": "markdown",
   "metadata": {},
   "source": [
    "# THIRD CLASSIFIER"
   ]
  },
  {
   "cell_type": "code",
   "execution_count": 6,
   "metadata": {},
   "outputs": [],
   "source": [
    "# PARAMETERS (for PGD)\n",
    "\n",
    "eps = 0.3\n",
    "alpha = 0.02\n",
    "iterations = 20"
   ]
  },
  {
   "cell_type": "code",
   "execution_count": 7,
   "metadata": {},
   "outputs": [
    {
     "ename": "NameError",
     "evalue": "name 'LEARNING_RATE' is not defined",
     "output_type": "error",
     "traceback": [
      "\u001b[1;31m---------------------------------------------------------------------------\u001b[0m",
      "\u001b[1;31mNameError\u001b[0m                                 Traceback (most recent call last)",
      "\u001b[1;32m<ipython-input-7-b6de3c50c494>\u001b[0m in \u001b[0;36m<module>\u001b[1;34m\u001b[0m\n\u001b[0;32m      1\u001b[0m \u001b[0mclassifier_three\u001b[0m \u001b[1;33m=\u001b[0m \u001b[0mCNN\u001b[0m\u001b[1;33m(\u001b[0m\u001b[1;33m)\u001b[0m\u001b[1;33m\u001b[0m\u001b[1;33m\u001b[0m\u001b[0m\n\u001b[1;32m----> 2\u001b[1;33m \u001b[0moptimizer_three\u001b[0m \u001b[1;33m=\u001b[0m \u001b[0moptim\u001b[0m\u001b[1;33m.\u001b[0m\u001b[0mAdam\u001b[0m\u001b[1;33m(\u001b[0m\u001b[0mclassifier_three\u001b[0m\u001b[1;33m.\u001b[0m\u001b[0mparameters\u001b[0m\u001b[1;33m(\u001b[0m\u001b[1;33m)\u001b[0m\u001b[1;33m,\u001b[0m \u001b[0mlr\u001b[0m \u001b[1;33m=\u001b[0m \u001b[0mLEARNING_RATE\u001b[0m\u001b[1;33m)\u001b[0m\u001b[1;33m\u001b[0m\u001b[1;33m\u001b[0m\u001b[0m\n\u001b[0m",
      "\u001b[1;31mNameError\u001b[0m: name 'LEARNING_RATE' is not defined"
     ]
    }
   ],
   "source": [
    "classifier_three = CNN()\n",
    "optimizer_three = optim.Adam(classifier_three.parameters(), lr = LEARNING_RATE) "
   ]
  },
  {
   "cell_type": "code",
   "execution_count": null,
   "metadata": {},
   "outputs": [],
   "source": [
    "# TRAINING\n",
    "\n",
    "(three_orginal_images, three_pgd_images, three_pgd_labels, \n",
    " three_training_loss, three_training_accuracy, \n",
    " three_adv_training_loss, three_adv_training_accuracy) = pgd_train(cnn_model = classifier_three, \n",
    "                                                               data_load = data_loaders, \n",
    "                                                               optim = optimizer_three, \n",
    "                                                               pgd_function = targeted_pgd_attack, \n",
    "                                                               EPOCHS = EPOCHS, \n",
    "                                                               eps = eps, \n",
    "                                                               alpha = alpha,\n",
    "                                                               iterations = iterations)"
   ]
  },
  {
   "cell_type": "code",
   "execution_count": null,
   "metadata": {},
   "outputs": [],
   "source": [
    "# TESTING\n",
    "\n",
    "epses = [0, 0.1, 0.2, 0.3, 0.45]\n",
    "\n",
    "(three_test_accuracy, three_adv_test_accuracy) = pgd_test(cnn_model = classifier_three, \n",
    "                                                      data_load = data_loaders, \n",
    "                                                      pgd_function = targeted_pgd_attack, \n",
    "                                                      eps = eps, \n",
    "                                                      alpha = alpha,\n",
    "                                                      iterations = iterations,\n",
    "                                                      details=True)"
   ]
  },
  {
   "cell_type": "code",
   "execution_count": null,
   "metadata": {},
   "outputs": [],
   "source": []
  }
 ],
 "metadata": {
  "kernelspec": {
   "display_name": "Python 3",
   "language": "python",
   "name": "python3"
  },
  "language_info": {
   "codemirror_mode": {
    "name": "ipython",
    "version": 3
   },
   "file_extension": ".py",
   "mimetype": "text/x-python",
   "name": "python",
   "nbconvert_exporter": "python",
   "pygments_lexer": "ipython3",
   "version": "3.8.5"
  }
 },
 "nbformat": 4,
 "nbformat_minor": 4
}
