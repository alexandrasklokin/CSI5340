{
 "cells": [
  {
   "cell_type": "code",
   "execution_count": 333,
   "metadata": {},
   "outputs": [],
   "source": [
    "import numpy as np\n",
    "import time\n",
    "import sys\n",
    "import matplotlib.pyplot as plt\n",
    "import torch\n",
    "import torch.nn as nn\n",
    "import tensorflow as tf\n",
    "import torchvision\n",
    "import torch\n",
    "\n",
    "from sklearn.metrics import accuracy_score\n",
    "\n",
    "from torch.utils.data import DataLoader\n",
    "from torch import optim\n",
    "from torch.autograd import Variable"
   ]
  },
  {
   "cell_type": "code",
   "execution_count": 146,
   "metadata": {},
   "outputs": [
    {
     "name": "stdout",
     "output_type": "stream",
     "text": [
      "CUDA Available:  False\n"
     ]
    }
   ],
   "source": [
    "print(\"CUDA Available: \",torch.cuda.is_available())\n",
    "device = torch.device(\"cuda\" if (torch.cuda.is_available()) else \"cpu\")"
   ]
  },
  {
   "cell_type": "markdown",
   "metadata": {},
   "source": [
    "# Parameters"
   ]
  },
  {
   "cell_type": "code",
   "execution_count": 442,
   "metadata": {},
   "outputs": [],
   "source": [
    "BATCH_SIZE = 100\n",
    "EPOCHS = 2\n",
    "LEARNING_RATE = 0.01\n",
    "LOSS_FUNCTION = nn.CrossEntropyLoss()"
   ]
  },
  {
   "cell_type": "markdown",
   "metadata": {},
   "source": [
    "# Importing Data"
   ]
  },
  {
   "cell_type": "code",
   "execution_count": 148,
   "metadata": {},
   "outputs": [],
   "source": [
    "from torchvision import datasets\n",
    "from torchvision.transforms import ToTensor\n",
    "\n",
    "training_data = datasets.MNIST(\n",
    "    root = 'data',\n",
    "    train = True,                         \n",
    "    transform = ToTensor(),\n",
    ")\n",
    "\n",
    "testing_data = datasets.MNIST(\n",
    "    root = 'data', \n",
    "    train = False, \n",
    "    transform = ToTensor()\n",
    ")"
   ]
  },
  {
   "cell_type": "code",
   "execution_count": 149,
   "metadata": {},
   "outputs": [],
   "source": [
    "data_loaders = {\n",
    "    'train' : DataLoader(training_data, batch_size=BATCH_SIZE, shuffle=True, num_workers=1),\n",
    "    'test'  : DataLoader(testing_data, batch_size=BATCH_SIZE, shuffle=True, num_workers=1),\n",
    "}"
   ]
  },
  {
   "cell_type": "markdown",
   "metadata": {},
   "source": [
    "# Helper Functions"
   ]
  },
  {
   "cell_type": "code",
   "execution_count": 383,
   "metadata": {},
   "outputs": [],
   "source": [
    "def displayMNIST(data, index):\n",
    "    \n",
    "    plt.imshow(data.data[index], cmap='gray')\n",
    "    plt.show()"
   ]
  },
  {
   "cell_type": "code",
   "execution_count": 389,
   "metadata": {},
   "outputs": [],
   "source": [
    "def displayImage(data, index):\n",
    "    \n",
    "    data = [item.detach().numpy() for item in data]\n",
    "    \n",
    "    plt.imshow(data[index].reshape(28,28), cmap='gray')\n",
    "    plt.show()"
   ]
  },
  {
   "cell_type": "code",
   "execution_count": 151,
   "metadata": {},
   "outputs": [],
   "source": [
    "def getLabel(data, index):\n",
    "    \n",
    "    return data.targets[index].numpy().item()"
   ]
  },
  {
   "cell_type": "code",
   "execution_count": 152,
   "metadata": {},
   "outputs": [],
   "source": [
    "def plotAccuracy(accuracy, title, save=False):\n",
    "    \n",
    "    plt.plot(range(len(accuracy)), accuracy, '-g', label='Accuracy')\n",
    "    \n",
    "    plt.legend(loc='upper left')\n",
    "    \n",
    "    if save: plt.savefig(title+\"_Accuracy.png\")\n",
    "\n",
    "    plt.show()"
   ]
  },
  {
   "cell_type": "code",
   "execution_count": 153,
   "metadata": {},
   "outputs": [],
   "source": [
    "def plotLoss(loss, title, save=False):\n",
    "    \n",
    "    plt.plot(range(len(loss)), loss, '-r', label='Loss')\n",
    "    \n",
    "    plt.legend(loc='upper left')\n",
    "    \n",
    "    if save: plt.savefig(title+\"_Loss.png\")\n",
    "\n",
    "    plt.show()"
   ]
  },
  {
   "cell_type": "markdown",
   "metadata": {},
   "source": [
    "# CNN Implementation"
   ]
  },
  {
   "cell_type": "code",
   "execution_count": 466,
   "metadata": {},
   "outputs": [],
   "source": [
    "class CNN (nn.Module) :\n",
    "    \n",
    "    def __init__(self):\n",
    "        \n",
    "        super(CNN, self).__init__()\n",
    "        \n",
    "        self.layer1 = nn.Sequential(         \n",
    "            nn.Conv2d(\n",
    "                in_channels=1,              \n",
    "                out_channels=16,            \n",
    "                kernel_size=3,              \n",
    "                stride=1,                   \n",
    "                padding=2,                  \n",
    "            ),                              \n",
    "            nn.ReLU(),                      \n",
    "            nn.MaxPool2d(kernel_size=2),    \n",
    "        )\n",
    "        self.out = nn.Linear(3600, 10)\n",
    "    \n",
    "    def forward(self, x):\n",
    "        \n",
    "        x = self.layer1(x)\n",
    "        x = x.view(x.size(0), -1)       \n",
    "        output = self.out(x)\n",
    "        return output, x    # return x for visualization"
   ]
  },
  {
   "cell_type": "code",
   "execution_count": 467,
   "metadata": {},
   "outputs": [],
   "source": [
    "def getLossAccuracy(cnn_model, data_load, dataset, details=False):\n",
    "\n",
    "    cnn_model.eval()\n",
    "    \n",
    "    with torch.no_grad():\n",
    "        \n",
    "        correct = 0\n",
    "        total = 0\n",
    "        \n",
    "        for data, label in data_load[dataset]:\n",
    "            \n",
    "            output_label, last_layer = cnn_model(data)\n",
    "            pred_y = torch.max(output_label, 1)[1].data.squeeze()\n",
    "            \n",
    "            accuracy = (pred_y == label).sum().item() / float(label.size(0))\n",
    "            loss = LOSS_FUNCTION(output_label, label).item()\n",
    "    \n",
    "    if details: print(dataset+' loss: %.5f' % loss)\n",
    "    if details: print(dataset+' accuracy: %.5f' % accuracy)\n",
    "        \n",
    "    return (loss, accuracy)"
   ]
  },
  {
   "cell_type": "code",
   "execution_count": 468,
   "metadata": {},
   "outputs": [],
   "source": [
    "def train(cnn_model, data_load, optim):\n",
    "    \n",
    "    training_accuracy = []\n",
    "    training_loss = []\n",
    "    \n",
    "    cnn_model.train()\n",
    "    \n",
    "    # Initial Training Loss and Accuracy\n",
    "    (tr_loss, tr_accuracy) = getLossAccuracy(cnn_model, data_load, 'train')            \n",
    "    training_loss.append(tr_loss)\n",
    "    training_accuracy.append(tr_accuracy)\n",
    "\n",
    "    # Train the model\n",
    "    total_step = len(data_load['train'])\n",
    "\n",
    "    for epoch in range(EPOCHS):\n",
    "        for i, (training_data, training_label) in enumerate(data_load['train']):\n",
    "            \n",
    "            batch_data = Variable(training_data)\n",
    "            batch_label = Variable(training_label) \n",
    "            output_label, _ = cnn_model(batch_data)               \n",
    "            \n",
    "            loss = LOSS_FUNCTION(output_label, batch_label)\n",
    "  \n",
    "            optim.zero_grad()           \n",
    "            loss.backward()             \n",
    "            optim.step()                \n",
    "\n",
    "            if (i+1) % 200 == 0:\n",
    "                print ('Epoch [{}/{}], Progress [{}/{}], Loss: {:.4f}' .format(epoch + 1, EPOCHS, i + 1, total_step, loss.item()))\n",
    "            \n",
    "        \n",
    "        # GET LOSS AND ACCURACY AT EVERY EPOCH\n",
    "        (tr_loss, tr_accuracy) = getLossAccuracy(cnn_model, data_load, 'train')            \n",
    "        training_loss.append(tr_loss)\n",
    "        training_accuracy.append(tr_accuracy)\n",
    "        #print ('      Training Loss: {:.4f}, Training Accuracy: {:.4f}' .format(tr_loss, tr_accuracy))\n",
    "            \n",
    "    return (training_loss, training_accuracy)"
   ]
  },
  {
   "cell_type": "markdown",
   "metadata": {},
   "source": [
    "### Example"
   ]
  },
  {
   "cell_type": "code",
   "execution_count": 469,
   "metadata": {},
   "outputs": [],
   "source": [
    "cnn_test = CNN()\n",
    "optimizer = optim.Adam(cnn_test.parameters(), lr = LEARNING_RATE)  "
   ]
  },
  {
   "cell_type": "code",
   "execution_count": 470,
   "metadata": {},
   "outputs": [
    {
     "name": "stdout",
     "output_type": "stream",
     "text": [
      "Epoch [1/2], Progress [200/600], Loss: 0.3881\n",
      "Epoch [1/2], Progress [400/600], Loss: 0.3503\n",
      "Epoch [1/2], Progress [600/600], Loss: 0.1985\n",
      "Epoch [2/2], Progress [200/600], Loss: 0.2676\n",
      "Epoch [2/2], Progress [400/600], Loss: 0.1340\n",
      "Epoch [2/2], Progress [600/600], Loss: 0.1521\n"
     ]
    }
   ],
   "source": [
    "(train_loss, train_accuracy) = train(cnn_test, data_loaders, optimizer)"
   ]
  },
  {
   "cell_type": "code",
   "execution_count": 471,
   "metadata": {},
   "outputs": [
    {
     "data": {
      "image/png": "[encoded data removed]",
      "text/plain": [
       "<Figure size 432x288 with 1 Axes>"
      ]
     },
     "metadata": {
      "needs_background": "light"
     },
     "output_type": "display_data"
    }
   ],
   "source": [
    "plotLoss(train_loss, \"Loss_Train\")"
   ]
  },
  {
   "cell_type": "code",
   "execution_count": 472,
   "metadata": {},
   "outputs": [
    {
     "data": {
      "image/png": "[encoded data removed]",
      "text/plain": [
       "<Figure size 432x288 with 1 Axes>"
      ]
     },
     "metadata": {
      "needs_background": "light"
     },
     "output_type": "display_data"
    }
   ],
   "source": [
    "plotAccuracy(train_accuracy, \"Accuracy_Train\")"
   ]
  },
  {
   "cell_type": "code",
   "execution_count": 473,
   "metadata": {},
   "outputs": [
    {
     "name": "stdout",
     "output_type": "stream",
     "text": [
      "test loss: 0.04038\n",
      "test accuracy: 0.99000\n"
     ]
    }
   ],
   "source": [
    "(test_loss, test_accuracy) = getLossAccuracy(cnn_test, data_loaders, 'test', details=True)"
   ]
  },
  {
   "cell_type": "markdown",
   "metadata": {},
   "source": [
    "# PGD (UNTARGETED)"
   ]
  },
  {
   "cell_type": "code",
   "execution_count": 531,
   "metadata": {},
   "outputs": [],
   "source": [
    "def getLossAccuracyAdversarial(cnn_model, adversarial_imgs, true_labels, details=False):\n",
    "    \n",
    "    true_labels = true_labels.type(torch.int64)\n",
    "    \n",
    "    cnn_model.eval()\n",
    "    \n",
    "    with torch.no_grad():\n",
    "        \n",
    "        correct = 0\n",
    "        total = 0\n",
    "        \n",
    "        output_label, last_layer = cnn_model(adversarial_imgs)\n",
    "        pred_y = torch.max(output_label, 1)[1].data.squeeze()\n",
    "        \n",
    "        #print(pred_y[0:20])\n",
    "        #print(true_labels[0:20])\n",
    "        \n",
    "        accuracy = (pred_y == true_labels).sum().item() / float(true_labels.size(0))\n",
    "        loss = LOSS_FUNCTION(output_label, true_labels).item()\n",
    "    \n",
    "    \n",
    "    if details: print(dataset+' loss: %.5f' % loss)\n",
    "    if details: print(dataset+' accuracy: %.5f' % accuracy)\n",
    "        \n",
    "    return (loss, accuracy)"
   ]
  },
  {
   "cell_type": "code",
   "execution_count": 474,
   "metadata": {},
   "outputs": [],
   "source": [
    "def untargeted_pgd_attack(cnn_model, images, true_labels, eps=0.3, alpha=0.001, iterations=1):\n",
    "    \n",
    "    original_images = images.data\n",
    "    \n",
    "    for j in range(iterations):\n",
    "\n",
    "        images.requires_grad = True\n",
    "        (pred_label, _) = cnn_model(images)\n",
    "        \n",
    "        loss = LOSS_FUNCTION(pred_label, true_labels)\n",
    "        loss.backward()\n",
    "\n",
    "        adv_images = images + alpha * images.grad.sign()\n",
    "        eta = torch.clamp(adv_images - original_images, min=-eps, max=eps)\n",
    "        images = torch.clamp(original_images + eta, min=0, max=1).detach_()\n",
    "            \n",
    "    return (loss, images, true_labels)"
   ]
  },
  {
   "cell_type": "code",
   "execution_count": 479,
   "metadata": {},
   "outputs": [],
   "source": [
    "def pgd_train(cnn_model, data_load, optim, pgd_function, eps=0.3, alpha=0.01, iterations=1):\n",
    "    \n",
    "    training_accuracy = []\n",
    "    training_loss = []\n",
    "    adv_training_loss = []\n",
    "    adv_training_accuracy = []\n",
    "    \n",
    "    cnn_model.train()\n",
    "    \n",
    "    # Initial Training Loss and Accuracy\n",
    "    (tr_loss, tr_accuracy) = getLossAccuracy(cnn_model, data_load, 'train')            \n",
    "    training_loss.append(tr_loss)\n",
    "    adv_training_loss.append(tr_loss)\n",
    "    training_accuracy.append(tr_accuracy)\n",
    "    adv_training_accuracy.append(tr_accuracy)\n",
    "\n",
    "    # Train the model\n",
    "    total_step = len(data_load['train'])\n",
    "\n",
    "    for epoch in range(EPOCHS):\n",
    "        \n",
    "        original_images = torch.empty(0,)\n",
    "        adversarial_images = torch.empty(0,)\n",
    "        adversarial_labels = torch.empty(0,)\n",
    "        \n",
    "        for i, (training_data, training_label) in enumerate(data_load['train']):            \n",
    "            \n",
    "            # PGD ATTACK TO PRODUCE ADVERSARIAL EXAMPLES ON THIS BATCH\n",
    "            (pgd_loss, perturbed_imgs, pgd_label) = pgd_function(cnn_model, training_data, training_label, eps, alpha, iterations)\n",
    "            \n",
    "            # COLLECT ALL ADVERSARIAL EXAMPLES\n",
    "            original_images = torch.cat((original_images, training_data),0)\n",
    "            adversarial_images = torch.cat((adversarial_images, perturbed_imgs),0)\n",
    "            adversarial_labels = torch.cat((adversarial_labels, pgd_label),0)\n",
    "            \n",
    "            # TRAIN MODEL BASED ON PERTURBED DATA AND UNTARGETTED LABEL\n",
    "            batch_data = Variable(perturbed_imgs)\n",
    "            batch_label = Variable(pgd_label)\n",
    "            \n",
    "            # PERFORM THE PREDICTION ON CURRENT DATA\n",
    "            output_label, _ = cnn_model(batch_data)             \n",
    "            \n",
    "            # LOSS FUNCTION\n",
    "            batch_training_loss = LOSS_FUNCTION(output_label, batch_label)\n",
    "  \n",
    "            # CLEAR GRADIENTS\n",
    "            optim.zero_grad() \n",
    "        \n",
    "            # CALCULATE GRADIENTS\n",
    "            batch_training_loss.backward()   \n",
    "            \n",
    "            # UPDATE MODEL PARAMS\n",
    "            optim.step()                \n",
    "\n",
    "            if (i+1) % 200 == 0:\n",
    "                print ('Epoch [{}/{}], Progress [{}/{}], Loss: {:.4f}' .format(epoch + 1, EPOCHS, i + 1, total_step, batch_training_loss))\n",
    "        \n",
    "        # GET LOSS AND ACCURACY AT EVERY EPOCH (ON PERTURBED DATA)            \n",
    "        (tr_loss, tr_accuracy) = getLossAccuracyAdversarial(cnn_pgd, avd_img, avd_lab)\n",
    "        adv_training_loss.append(tr_loss)\n",
    "        adv_training_accuracy.append(tr_accuracy)\n",
    "        #print ('      Adversarial Loss: {:.4f}, Adversarial Accuracy: {:.4f}' .format(tr_loss, tr_accuracy))\n",
    "        \n",
    "        # GET LOSS AND ACCURACY AT EVERY EPOCH (ON ORIGINAL TRAINING DATA)\n",
    "        (tr_loss, tr_accuracy) = getLossAccuracy(cnn_model, data_load, 'train')            \n",
    "        training_loss.append(tr_loss)\n",
    "        training_accuracy.append(tr_accuracy)\n",
    "        #print ('      Training Loss: {:.4f}, Training Accuracy: {:.4f}' .format(tr_loss, tr_accuracy))\n",
    "            \n",
    "    return (original_images, adversarial_images, adversarial_labels, \n",
    "            training_loss, training_accuracy, adv_training_loss, adv_training_accuracy)"
   ]
  },
  {
   "cell_type": "markdown",
   "metadata": {},
   "source": [
    "### Example"
   ]
  },
  {
   "cell_type": "code",
   "execution_count": 480,
   "metadata": {},
   "outputs": [],
   "source": [
    "cnn_pgd = CNN()\n",
    "optimizer_pgd = optim.Adam(cnn_pgd.parameters(), lr = LEARNING_RATE)"
   ]
  },
  {
   "cell_type": "code",
   "execution_count": 482,
   "metadata": {},
   "outputs": [
    {
     "name": "stdout",
     "output_type": "stream",
     "text": [
      "Epoch [1/2], Progress [200/600], Loss: 0.2580\n",
      "Epoch [1/2], Progress [400/600], Loss: 0.3063\n",
      "Epoch [1/2], Progress [600/600], Loss: 0.1745\n",
      "tensor([7, 9, 1, 6, 6, 1, 8, 0, 8, 0, 6, 3, 1, 0, 6, 6, 6, 8, 8, 9])\n",
      "tensor([7, 9, 1, 6, 6, 1, 8, 0, 8, 0, 6, 3, 1, 0, 6, 6, 6, 8, 8, 9])\n",
      "Epoch [2/2], Progress [200/600], Loss: 0.1145\n",
      "Epoch [2/2], Progress [400/600], Loss: 0.1632\n",
      "Epoch [2/2], Progress [600/600], Loss: 0.1714\n",
      "tensor([7, 9, 1, 6, 6, 1, 8, 0, 8, 0, 6, 3, 1, 0, 6, 6, 6, 8, 8, 9])\n",
      "tensor([7, 9, 1, 6, 6, 1, 8, 0, 8, 0, 6, 3, 1, 0, 6, 6, 6, 8, 8, 9])\n"
     ]
    }
   ],
   "source": [
    "(original_images, avd_img, avd_lab, \n",
    " train_loss, train_acc, adv_loss, adv_acc) = pgd_train(cnn_pgd, data_loaders, optimizer_pgd, untargeted_pgd_attack)"
   ]
  },
  {
   "cell_type": "code",
   "execution_count": 483,
   "metadata": {},
   "outputs": [
    {
     "data": {
      "image/png": "[encoded data removed]",
      "text/plain": [
       "<Figure size 432x288 with 1 Axes>"
      ]
     },
     "metadata": {
      "needs_background": "light"
     },
     "output_type": "display_data"
    }
   ],
   "source": [
    "displayImage(original_images, 0)"
   ]
  },
  {
   "cell_type": "code",
   "execution_count": 484,
   "metadata": {},
   "outputs": [
    {
     "data": {
      "image/png": "[encoded data removed]",
      "text/plain": [
       "<Figure size 432x288 with 1 Axes>"
      ]
     },
     "metadata": {
      "needs_background": "light"
     },
     "output_type": "display_data"
    }
   ],
   "source": [
    "displayImage(avd_img, 0) #IMPERSEPTIBLE ADVERSARIAL EXAMPLE"
   ]
  },
  {
   "cell_type": "code",
   "execution_count": 485,
   "metadata": {},
   "outputs": [
    {
     "data": {
      "text/plain": [
       "tensor([[[False, False, False,  True, False,  True,  True, False, False,  True,\n",
       "           True,  True, False, False, False, False, False, False, False,  True,\n",
       "          False, False, False, False, False,  True,  True, False],\n",
       "         [ True, False, False,  True, False,  True, False,  True,  True,  True,\n",
       "           True,  True, False, False,  True, False,  True, False, False, False,\n",
       "          False, False, False, False, False,  True,  True,  True],\n",
       "         [ True,  True,  True, False,  True,  True,  True, False, False, False,\n",
       "          False, False, False,  True,  True,  True,  True,  True,  True,  True,\n",
       "           True,  True,  True,  True,  True,  True, False,  True],\n",
       "         [ True,  True,  True,  True,  True, False, False,  True,  True, False,\n",
       "          False, False, False,  True,  True,  True,  True,  True,  True,  True,\n",
       "           True,  True,  True, False, False, False,  True,  True],\n",
       "         [ True,  True,  True, False,  True,  True,  True,  True,  True, False,\n",
       "          False, False, False, False, False, False,  True, False,  True,  True,\n",
       "           True,  True,  True,  True,  True,  True,  True, False],\n",
       "         [False,  True,  True,  True, False,  True, False,  True,  True, False,\n",
       "          False, False, False,  True,  True,  True,  True,  True,  True,  True,\n",
       "           True,  True,  True,  True,  True,  True,  True,  True],\n",
       "         [False, False, False, False,  True, False, False, False, False, False,\n",
       "          False, False, False, False, False, False, False, False, False, False,\n",
       "          False, False, False,  True,  True,  True,  True, False],\n",
       "         [ True, False,  True,  True,  True,  True,  True, False, False, False,\n",
       "          False, False, False,  True,  True,  True,  True, False, False, False,\n",
       "          False, False, False, False, False,  True,  True, False],\n",
       "         [ True, False,  True, False,  True, False,  True, False, False, False,\n",
       "          False, False, False, False, False, False, False, False, False, False,\n",
       "          False, False, False, False, False, False,  True, False],\n",
       "         [False,  True,  True, False, False,  True, False, False, False, False,\n",
       "          False, False, False,  True,  True, False, False, False, False, False,\n",
       "          False, False, False, False, False,  True,  True,  True],\n",
       "         [False, False, False,  True,  True,  True,  True,  True, False, False,\n",
       "          False, False, False, False, False,  True,  True,  True,  True, False,\n",
       "           True,  True,  True,  True,  True,  True, False, False],\n",
       "         [ True,  True,  True, False,  True,  True,  True,  True, False, False,\n",
       "          False,  True,  True,  True,  True, False, False, False, False, False,\n",
       "          False, False, False,  True, False, False,  True,  True],\n",
       "         [ True, False,  True,  True,  True,  True,  True,  True, False, False,\n",
       "          False,  True,  True,  True,  True, False, False, False, False, False,\n",
       "          False, False,  True,  True,  True,  True,  True, False],\n",
       "         [False, False, False,  True,  True,  True,  True,  True, False, False,\n",
       "          False, False, False, False, False, False, False, False, False, False,\n",
       "          False, False, False,  True,  True,  True,  True,  True],\n",
       "         [ True,  True,  True, False, False, False,  True,  True, False, False,\n",
       "          False,  True, False, False, False, False, False, False, False, False,\n",
       "          False, False, False, False,  True,  True,  True, False],\n",
       "         [ True,  True, False,  True, False,  True, False, False, False, False,\n",
       "          False, False, False, False, False, False, False,  True, False,  True,\n",
       "          False, False, False, False,  True,  True,  True,  True],\n",
       "         [ True,  True, False, False, False, False, False, False, False, False,\n",
       "          False, False, False, False,  True, False, False,  True,  True,  True,\n",
       "          False, False, False, False, False, False,  True, False],\n",
       "         [ True,  True,  True, False, False, False,  True,  True, False, False,\n",
       "          False, False,  True,  True,  True,  True,  True, False, False, False,\n",
       "          False, False, False, False, False,  True,  True, False],\n",
       "         [ True,  True, False, False, False, False, False,  True,  True, False,\n",
       "          False, False, False,  True,  True, False,  True, False, False, False,\n",
       "          False, False, False, False, False,  True,  True, False],\n",
       "         [ True,  True,  True, False, False, False, False, False,  True,  True,\n",
       "          False, False, False, False, False, False, False, False, False, False,\n",
       "          False, False, False, False, False, False,  True,  True],\n",
       "         [ True,  True, False, False, False, False, False, False, False,  True,\n",
       "          False, False, False, False, False, False, False, False, False, False,\n",
       "          False, False, False,  True, False, False, False, False],\n",
       "         [ True,  True,  True,  True, False, False, False, False, False, False,\n",
       "           True, False, False, False, False, False, False, False, False, False,\n",
       "          False, False, False,  True,  True,  True, False,  True],\n",
       "         [ True, False, False, False, False, False, False, False, False, False,\n",
       "          False,  True, False,  True,  True,  True, False, False, False, False,\n",
       "          False, False, False, False, False, False, False,  True],\n",
       "         [False,  True,  True,  True,  True,  True,  True, False,  True, False,\n",
       "          False,  True, False, False,  True,  True, False, False,  True, False,\n",
       "          False, False,  True,  True, False, False,  True,  True],\n",
       "         [False,  True,  True, False, False, False, False, False, False, False,\n",
       "          False, False, False, False, False, False, False, False, False, False,\n",
       "          False, False, False, False, False, False, False, False],\n",
       "         [False,  True, False,  True, False, False,  True,  True,  True, False,\n",
       "           True, False, False, False, False,  True, False,  True,  True,  True,\n",
       "          False,  True,  True, False, False, False, False,  True],\n",
       "         [ True,  True, False,  True,  True,  True, False,  True, False, False,\n",
       "           True,  True, False,  True, False,  True, False, False, False,  True,\n",
       "          False, False,  True,  True,  True,  True, False,  True],\n",
       "         [ True,  True, False, False,  True,  True,  True,  True, False,  True,\n",
       "           True,  True, False,  True, False, False, False,  True, False, False,\n",
       "          False,  True, False,  True, False, False,  True,  True]]])"
      ]
     },
     "execution_count": 485,
     "metadata": {},
     "output_type": "execute_result"
    }
   ],
   "source": [
    "torch.eq(original_images[0], avd_img[0]) #ALTHOUGH IMPERSEPTIBLE TO HUMAN EYE, STILL HAS A LOT OF DIFFERENCES IN VALUES"
   ]
  },
  {
   "cell_type": "code",
   "execution_count": 486,
   "metadata": {},
   "outputs": [
    {
     "data": {
      "text/plain": [
       "6.0"
      ]
     },
     "execution_count": 486,
     "metadata": {},
     "output_type": "execute_result"
    }
   ],
   "source": [
    "avd_lab[0].item()"
   ]
  },
  {
   "cell_type": "code",
   "execution_count": 487,
   "metadata": {},
   "outputs": [
    {
     "name": "stdout",
     "output_type": "stream",
     "text": [
      "Accuracy on Adversarial Examples: [0.07, 0.9467, 0.9658]\n",
      "Accuracy on Original Training data: [0.07, 0.93, 0.96]\n"
     ]
    }
   ],
   "source": [
    "print(\"Accuracy on Adversarial Examples: \"+str(adv_acc))\n",
    "print(\"Accuracy on Original Training data: \"+str(train_acc))"
   ]
  },
  {
   "cell_type": "code",
   "execution_count": 488,
   "metadata": {},
   "outputs": [
    {
     "name": "stdout",
     "output_type": "stream",
     "text": [
      "Loss on Adversarial Examples: [2.3306796550750732, 0.1864008903503418, 0.12164515256881714]\n",
      "Loss on Original Training data: [2.3306796550750732, 0.29214951395988464, 0.1082693487405777]\n"
     ]
    }
   ],
   "source": [
    "print(\"Loss on Adversarial Examples: \"+str(adv_loss))\n",
    "print(\"Loss on Original Training data: \"+str(train_loss))"
   ]
  },
  {
   "cell_type": "code",
   "execution_count": 489,
   "metadata": {},
   "outputs": [
    {
     "data": {
      "image/png": "[encoded data removed]",
      "text/plain": [
       "<Figure size 432x288 with 1 Axes>"
      ]
     },
     "metadata": {
      "needs_background": "light"
     },
     "output_type": "display_data"
    },
    {
     "name": "stdout",
     "output_type": "stream",
     "text": [
      "6.0\n"
     ]
    }
   ],
   "source": [
    "plt.imshow(avd_img[0].reshape(28,28), cmap='gray')\n",
    "plt.show()\n",
    "\n",
    "print(avd_lab[0].item())"
   ]
  },
  {
   "cell_type": "markdown",
   "metadata": {},
   "source": [
    "### Example of Images Produced by NonTrageted PGD"
   ]
  },
  {
   "cell_type": "code",
   "execution_count": 515,
   "metadata": {},
   "outputs": [],
   "source": [
    "for i, (training_data, training_label) in enumerate(data_loaders['train']):  \n",
    "    if i==0:\n",
    "        ex_train_img = training_data\n",
    "        ex_train_lab = training_label\n",
    "\n",
    "(_, adv_image_1, adv_label_1) = untargeted_pgd_attack(cnn_pgd, ex_train_img, ex_train_lab, eps=0.3, alpha=0.01, iterations=1)\n",
    "(_, adv_image_40, adv_label_40) = untargeted_pgd_attack(cnn_pgd, ex_train_img, ex_train_lab, eps=0.3, alpha=0.01, iterations=40)"
   ]
  },
  {
   "cell_type": "code",
   "execution_count": 516,
   "metadata": {},
   "outputs": [
    {
     "data": {
      "image/png": "[encoded data removed]",
      "text/plain": [
       "<Figure size 432x288 with 1 Axes>"
      ]
     },
     "metadata": {
      "needs_background": "light"
     },
     "output_type": "display_data"
    },
    {
     "name": "stdout",
     "output_type": "stream",
     "text": [
      "tensor(4)\n"
     ]
    }
   ],
   "source": [
    "displayImage(ex_train_img, 0)\n",
    "\n",
    "print(ex_train_lab[0])"
   ]
  },
  {
   "cell_type": "code",
   "execution_count": 517,
   "metadata": {},
   "outputs": [
    {
     "data": {
      "image/png": "[encoded data removed]",
      "text/plain": [
       "<Figure size 432x288 with 1 Axes>"
      ]
     },
     "metadata": {
      "needs_background": "light"
     },
     "output_type": "display_data"
    },
    {
     "name": "stdout",
     "output_type": "stream",
     "text": [
      "tensor(4)\n"
     ]
    }
   ],
   "source": [
    "displayImage(adv_image_1, 0)\n",
    "\n",
    "print(adv_label_1[0])"
   ]
  },
  {
   "cell_type": "code",
   "execution_count": 518,
   "metadata": {},
   "outputs": [
    {
     "data": {
      "image/png": "[encoded data removed]",
      "text/plain": [
       "<Figure size 432x288 with 1 Axes>"
      ]
     },
     "metadata": {
      "needs_background": "light"
     },
     "output_type": "display_data"
    },
    {
     "name": "stdout",
     "output_type": "stream",
     "text": [
      "tensor(4)\n"
     ]
    }
   ],
   "source": [
    "displayImage(adv_image_40, 0)\n",
    "\n",
    "print(adv_label_40[0])"
   ]
  },
  {
   "cell_type": "markdown",
   "metadata": {},
   "source": [
    "# PGD (TARGETED)"
   ]
  },
  {
   "cell_type": "code",
   "execution_count": 523,
   "metadata": {},
   "outputs": [],
   "source": [
    "def targeted_pgd_attack(cnn_model, images, true_labels, eps=0.3, alpha=0.001, iterations=1):\n",
    "    \n",
    "    original_images = images.data\n",
    "    \n",
    "    for j in range(iterations):\n",
    "\n",
    "        images.requires_grad = True\n",
    "        (pred_label, _) = cnn_model(images)\n",
    "        \n",
    "        loss = LOSS_FUNCTION(pred_label, true_labels)\n",
    "        loss.backward()\n",
    "\n",
    "        adv_images = images + alpha * images.grad.sign()\n",
    "        eta = torch.clamp(adv_images - original_images, min=-eps, max=eps)\n",
    "        images = torch.clamp(original_images + eta, min=0, max=1).detach_()\n",
    "        \n",
    "        targeted_label, _ = cnn_model(adv_images)\n",
    "        targeted_label = torch.max(targeted_label, 1)[1].data.squeeze()\n",
    "            \n",
    "    return (loss, images, targeted_label)"
   ]
  },
  {
   "cell_type": "markdown",
   "metadata": {},
   "source": [
    "### Example"
   ]
  },
  {
   "cell_type": "code",
   "execution_count": 530,
   "metadata": {},
   "outputs": [
    {
     "name": "stdout",
     "output_type": "stream",
     "text": [
      "Epoch [1/2], Progress [200/600], Loss: 0.0012\n",
      "Epoch [1/2], Progress [400/600], Loss: 0.0631\n",
      "Epoch [1/2], Progress [600/600], Loss: 0.0232\n",
      "tensor([2, 3, 2, 8, 2, 8, 3, 8, 8, 3, 8, 2, 8, 8, 3, 8, 8, 8, 8, 2])\n",
      "tensor([6, 3, 2, 4, 2, 5, 8, 9, 0, 3, 0, 2, 4, 5, 0, 4, 8, 2, 4, 2])\n",
      "Epoch [2/2], Progress [200/600], Loss: 0.0528\n",
      "Epoch [2/2], Progress [400/600], Loss: 0.0111\n",
      "Epoch [2/2], Progress [600/600], Loss: 0.0661\n",
      "tensor([2, 3, 2, 8, 2, 8, 3, 8, 8, 3, 8, 2, 8, 8, 3, 8, 8, 8, 8, 2])\n",
      "tensor([6, 3, 2, 4, 2, 5, 8, 9, 0, 3, 0, 2, 4, 5, 0, 4, 8, 2, 4, 2])\n"
     ]
    }
   ],
   "source": [
    "(original_images, avd_img, avd_lab, \n",
    " train_loss, train_acc, adv_loss, adv_acc) = pgd_train(cnn_pgd, data_loaders, optimizer_pgd, targeted_pgd_attack)"
   ]
  },
  {
   "cell_type": "code",
   "execution_count": 524,
   "metadata": {},
   "outputs": [],
   "source": [
    "for i, (training_data, training_label) in enumerate(data_loaders['train']):  \n",
    "    if i in [0]:\n",
    "        ex_train_img = training_data\n",
    "        ex_train_lab = training_label\n",
    "\n",
    "(_, adv_image_1, adv_label_1) = targeted_pgd_attack(cnn_pgd, ex_train_img, ex_train_lab, eps=0.3, alpha=0.01, iterations=1)\n",
    "(_, adv_image_40, adv_label_40) = targeted_pgd_attack(cnn_pgd, ex_train_img, ex_train_lab, eps=0.3, alpha=0.01, iterations=40)"
   ]
  },
  {
   "cell_type": "code",
   "execution_count": 525,
   "metadata": {},
   "outputs": [
    {
     "data": {
      "image/png": "[encoded data removed]",
      "text/plain": [
       "<Figure size 432x288 with 1 Axes>"
      ]
     },
     "metadata": {
      "needs_background": "light"
     },
     "output_type": "display_data"
    },
    {
     "name": "stdout",
     "output_type": "stream",
     "text": [
      "tensor(7)\n"
     ]
    }
   ],
   "source": [
    "displayImage(ex_train_img, 0)\n",
    "\n",
    "print(ex_train_lab[0])"
   ]
  },
  {
   "cell_type": "code",
   "execution_count": 526,
   "metadata": {},
   "outputs": [
    {
     "data": {
      "image/png": "[encoded data removed]",
      "text/plain": [
       "<Figure size 432x288 with 1 Axes>"
      ]
     },
     "metadata": {
      "needs_background": "light"
     },
     "output_type": "display_data"
    },
    {
     "name": "stdout",
     "output_type": "stream",
     "text": [
      "tensor(8)\n"
     ]
    }
   ],
   "source": [
    "displayImage(adv_image_1, 0)\n",
    "\n",
    "print(adv_label_1[0])"
   ]
  },
  {
   "cell_type": "code",
   "execution_count": 527,
   "metadata": {},
   "outputs": [
    {
     "data": {
      "image/png": "[encoded data removed]",
      "text/plain": [
       "<Figure size 432x288 with 1 Axes>"
      ]
     },
     "metadata": {
      "needs_background": "light"
     },
     "output_type": "display_data"
    },
    {
     "name": "stdout",
     "output_type": "stream",
     "text": [
      "tensor(3)\n"
     ]
    }
   ],
   "source": [
    "displayImage(adv_image_40, 0)\n",
    "\n",
    "print(adv_label_40[0])"
   ]
  },
  {
   "cell_type": "code",
   "execution_count": 529,
   "metadata": {},
   "outputs": [
    {
     "data": {
      "text/plain": [
       "tensor([[[False, False, False, False, False, False, False, False, False, False,\n",
       "          False, False, False, False, False, False, False, False, False, False,\n",
       "          False, False, False, False, False, False, False, False],\n",
       "         [False, False, False, False, False, False, False, False, False, False,\n",
       "          False, False, False, False, False, False, False, False, False, False,\n",
       "          False, False, False, False, False, False, False, False],\n",
       "         [False, False, False, False, False, False, False, False, False, False,\n",
       "          False, False, False, False, False, False, False, False, False, False,\n",
       "          False, False, False, False, False, False, False, False],\n",
       "         [False, False, False, False, False, False, False, False, False, False,\n",
       "          False, False, False, False, False, False, False, False, False, False,\n",
       "          False, False, False, False, False, False, False, False],\n",
       "         [False, False, False, False, False, False, False, False, False, False,\n",
       "          False, False, False, False, False, False, False, False, False, False,\n",
       "          False, False, False, False, False, False, False, False],\n",
       "         [False, False, False, False, False, False, False, False, False, False,\n",
       "          False, False, False, False, False, False, False, False, False, False,\n",
       "          False, False, False, False, False, False, False, False],\n",
       "         [False, False, False, False, False, False, False, False, False, False,\n",
       "          False, False, False, False, False, False, False, False, False, False,\n",
       "          False, False, False, False, False, False, False, False],\n",
       "         [False, False, False, False, False, False, False, False, False, False,\n",
       "          False, False, False, False, False, False, False, False, False,  True,\n",
       "          False, False, False, False, False, False, False, False],\n",
       "         [False, False, False, False, False, False, False, False, False, False,\n",
       "          False, False, False, False, False, False, False, False, False, False,\n",
       "          False, False, False, False, False, False, False, False],\n",
       "         [False, False, False, False, False, False, False, False, False, False,\n",
       "          False, False, False, False, False, False, False, False, False, False,\n",
       "          False, False, False, False, False, False, False, False],\n",
       "         [False, False, False, False, False, False, False, False, False, False,\n",
       "          False, False, False, False, False, False, False, False, False, False,\n",
       "          False, False, False, False, False, False, False, False],\n",
       "         [False, False, False, False, False, False, False, False, False, False,\n",
       "          False, False, False, False, False, False, False, False, False, False,\n",
       "          False, False, False, False, False, False, False, False],\n",
       "         [False, False, False, False, False, False, False, False, False, False,\n",
       "          False, False, False, False, False, False, False, False, False,  True,\n",
       "          False, False, False, False, False, False, False, False],\n",
       "         [False, False, False, False, False, False, False, False, False, False,\n",
       "          False, False, False, False, False, False, False, False, False, False,\n",
       "          False, False, False, False, False, False, False, False],\n",
       "         [False, False, False, False, False, False, False, False, False, False,\n",
       "          False, False, False, False, False, False, False, False, False, False,\n",
       "          False, False, False, False, False, False, False, False],\n",
       "         [False, False, False, False, False, False, False, False, False, False,\n",
       "          False, False, False, False, False, False, False, False, False, False,\n",
       "          False, False, False, False, False, False, False, False],\n",
       "         [False, False, False, False, False, False, False, False, False, False,\n",
       "          False, False, False, False, False, False, False, False, False, False,\n",
       "          False, False, False, False, False, False, False, False],\n",
       "         [False, False, False, False, False, False, False, False, False, False,\n",
       "          False, False, False, False,  True, False, False, False, False, False,\n",
       "          False, False, False, False, False, False, False, False],\n",
       "         [False, False, False, False, False, False, False, False, False, False,\n",
       "          False, False, False, False, False, False, False, False, False, False,\n",
       "          False, False, False, False, False, False, False, False],\n",
       "         [False, False, False, False, False, False, False, False, False, False,\n",
       "          False, False, False, False, False, False, False, False, False, False,\n",
       "          False, False, False, False, False, False, False, False],\n",
       "         [False, False, False, False, False, False, False, False, False, False,\n",
       "          False, False, False, False, False, False, False, False, False, False,\n",
       "          False, False, False, False, False, False, False, False],\n",
       "         [False, False, False, False, False, False, False, False, False, False,\n",
       "          False, False, False, False, False, False, False, False, False, False,\n",
       "          False, False, False, False, False, False, False, False],\n",
       "         [False, False, False, False, False, False, False, False, False, False,\n",
       "          False, False, False, False, False, False, False, False, False, False,\n",
       "          False, False, False, False, False, False, False, False],\n",
       "         [False, False, False, False, False, False, False, False, False, False,\n",
       "          False, False, False, False, False, False, False, False, False, False,\n",
       "          False, False, False, False, False, False, False, False],\n",
       "         [False, False, False, False, False, False, False, False, False, False,\n",
       "          False, False, False, False, False, False, False, False, False, False,\n",
       "          False, False, False, False, False, False, False, False],\n",
       "         [False, False, False, False, False, False, False, False, False, False,\n",
       "          False, False, False, False, False, False, False, False, False, False,\n",
       "          False, False, False, False, False, False, False, False],\n",
       "         [False, False, False, False, False, False, False, False, False, False,\n",
       "          False, False, False, False, False, False, False, False, False, False,\n",
       "          False, False, False, False, False, False, False, False],\n",
       "         [False, False, False, False, False, False, False, False, False, False,\n",
       "          False, False, False, False, False, False, False, False, False, False,\n",
       "          False, False, False, False, False, False, False, False]]])"
      ]
     },
     "execution_count": 529,
     "metadata": {},
     "output_type": "execute_result"
    }
   ],
   "source": [
    "torch.eq(ex_train_img[0], adv_image_40[0]) #ALTHOUGH IMPERSEPTIBLE TO HUMAN EYE, STILL HAS A LOT OF DIFFERENCES IN VALUES"
   ]
  },
  {
   "cell_type": "markdown",
   "metadata": {},
   "source": [
    "## Evaluating on Test Data"
   ]
  },
  {
   "cell_type": "code",
   "execution_count": 550,
   "metadata": {},
   "outputs": [],
   "source": [
    "def pgd_test(cnn_model, data_load, pgd_function, eps=0.3, alpha=0.01, iterations=1, details=False):\n",
    "    \n",
    "    pgd_accuracy = 0\n",
    "    \n",
    "    (_, train_accuracy) = getLossAccuracy(cnn_model, data_load, 'test', details=False)\n",
    "    \n",
    "    for i, (testing_data, testing_label) in enumerate(data_load['test']): \n",
    "    \n",
    "        (_, adv_image, adv_label) = targeted_pgd_attack(cnn_model, testing_data, testing_label, eps, alpha, iterations)\n",
    "        (_, temp) = getLossAccuracyAdversarial(cnn_model, adv_image, adv_label, details=False)\n",
    "        pgd_accuracy += temp\n",
    "    \n",
    "    if details: print('Accuracy on original Test Set: %.5f' % test_accuracy)\n",
    "    if details: print('Accuracy of Perturbed Test Set: %.5f' % pgd_accuracy)\n",
    "        \n",
    "    return (test_accuracy, pgd_accuracy/(len(testing_data)*100))"
   ]
  },
  {
   "cell_type": "code",
   "execution_count": 551,
   "metadata": {},
   "outputs": [
    {
     "name": "stdout",
     "output_type": "stream",
     "text": [
      "Accuracy on original Test Set: 0.99000\n",
      "Accuracy of Perturbed Test Set: 99.58000\n"
     ]
    },
    {
     "ename": "NameError",
     "evalue": "name 'testing_set' is not defined",
     "output_type": "error",
     "traceback": [
      "\u001b[1;31m---------------------------------------------------------------------------\u001b[0m",
      "\u001b[1;31mNameError\u001b[0m                                 Traceback (most recent call last)",
      "\u001b[1;32m<ipython-input-551-75e1174e0b64>\u001b[0m in \u001b[0;36m<module>\u001b[1;34m\u001b[0m\n\u001b[1;32m----> 1\u001b[1;33m \u001b[1;33m(\u001b[0m\u001b[0mtest_acc\u001b[0m\u001b[1;33m,\u001b[0m \u001b[0madv_acc\u001b[0m\u001b[1;33m)\u001b[0m \u001b[1;33m=\u001b[0m \u001b[0mpgd_test\u001b[0m\u001b[1;33m(\u001b[0m\u001b[0mcnn_pgd\u001b[0m\u001b[1;33m,\u001b[0m \u001b[0mdata_loaders\u001b[0m\u001b[1;33m,\u001b[0m \u001b[0mtargeted_pgd_attack\u001b[0m\u001b[1;33m,\u001b[0m \u001b[0mdetails\u001b[0m\u001b[1;33m=\u001b[0m\u001b[1;32mTrue\u001b[0m\u001b[1;33m)\u001b[0m\u001b[1;33m\u001b[0m\u001b[1;33m\u001b[0m\u001b[0m\n\u001b[0m",
      "\u001b[1;32m<ipython-input-550-0cf8db0a7a97>\u001b[0m in \u001b[0;36mpgd_test\u001b[1;34m(cnn_model, data_load, pgd_function, eps, alpha, iterations, details)\u001b[0m\n\u001b[0;32m     14\u001b[0m     \u001b[1;32mif\u001b[0m \u001b[0mdetails\u001b[0m\u001b[1;33m:\u001b[0m \u001b[0mprint\u001b[0m\u001b[1;33m(\u001b[0m\u001b[1;34m'Accuracy of Perturbed Test Set: %.5f'\u001b[0m \u001b[1;33m%\u001b[0m \u001b[0mpgd_accuracy\u001b[0m\u001b[1;33m)\u001b[0m\u001b[1;33m\u001b[0m\u001b[1;33m\u001b[0m\u001b[0m\n\u001b[0;32m     15\u001b[0m \u001b[1;33m\u001b[0m\u001b[0m\n\u001b[1;32m---> 16\u001b[1;33m     \u001b[1;32mreturn\u001b[0m \u001b[1;33m(\u001b[0m\u001b[0mtest_accuracy\u001b[0m\u001b[1;33m,\u001b[0m \u001b[0mpgd_accuracy\u001b[0m\u001b[1;33m/\u001b[0m\u001b[1;33m(\u001b[0m\u001b[0mtesting_set\u001b[0m\u001b[1;33m.\u001b[0m\u001b[0mshape\u001b[0m\u001b[1;33m[\u001b[0m\u001b[1;36m0\u001b[0m\u001b[1;33m]\u001b[0m\u001b[1;33m*\u001b[0m\u001b[1;36m100\u001b[0m\u001b[1;33m)\u001b[0m\u001b[1;33m)\u001b[0m\u001b[1;33m\u001b[0m\u001b[1;33m\u001b[0m\u001b[0m\n\u001b[0m",
      "\u001b[1;31mNameError\u001b[0m: name 'testing_set' is not defined"
     ]
    }
   ],
   "source": [
    "(test_acc, adv_acc) = pgd_test(cnn_pgd, data_loaders, targeted_pgd_attack, details=True)"
   ]
  },
  {
   "cell_type": "code",
   "execution_count": 554,
   "metadata": {},
   "outputs": [
    {
     "data": {
      "text/plain": [
       "10000"
      ]
     },
     "execution_count": 554,
     "metadata": {},
     "output_type": "execute_result"
    }
   ],
   "source": [
    "len(testing_data)"
   ]
  },
  {
   "cell_type": "code",
   "execution_count": null,
   "metadata": {},
   "outputs": [],
   "source": []
  }
 ],
 "metadata": {
  "kernelspec": {
   "display_name": "Python 3",
   "language": "python",
   "name": "python3"
  },
  "language_info": {
   "codemirror_mode": {
    "name": "ipython",
    "version": 3
   },
   "file_extension": ".py",
   "mimetype": "text/x-python",
   "name": "python",
   "nbconvert_exporter": "python",
   "pygments_lexer": "ipython3",
   "version": "3.8.5"
  }
 },
 "nbformat": 4,
 "nbformat_minor": 4
}
