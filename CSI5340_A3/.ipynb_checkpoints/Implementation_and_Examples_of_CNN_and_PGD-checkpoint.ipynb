{
 "cells": [
  {
   "cell_type": "code",
   "execution_count": 104,
   "metadata": {},
   "outputs": [],
   "source": [
    "import numpy as np\n",
    "import time\n",
    "import sys\n",
    "import matplotlib.pyplot as plt\n",
    "import torch\n",
    "import torch.nn as nn\n",
    "import tensorflow as tf\n",
    "import torchvision\n",
    "import torch\n",
    "\n",
    "from sklearn.metrics import accuracy_score\n",
    "\n",
    "from torch.utils.data import DataLoader\n",
    "from torch import optim\n",
    "from torch.autograd import Variable"
   ]
  },
  {
   "cell_type": "markdown",
   "metadata": {},
   "source": [
    "# Parameters"
   ]
  },
  {
   "cell_type": "code",
   "execution_count": 105,
   "metadata": {},
   "outputs": [],
   "source": [
    "BATCH_SIZE = 100\n",
    "EPOCHS = 2\n",
    "LEARNING_RATE = 0.01\n",
    "LOSS_FUNCTION = nn.CrossEntropyLoss()"
   ]
  },
  {
   "cell_type": "markdown",
   "metadata": {},
   "source": [
    "# Importing Data"
   ]
  },
  {
   "cell_type": "code",
   "execution_count": 106,
   "metadata": {},
   "outputs": [],
   "source": [
    "from torchvision import datasets\n",
    "from torchvision.transforms import ToTensor\n",
    "\n",
    "training_data = datasets.MNIST(\n",
    "    root = 'data',\n",
    "    train = True,                         \n",
    "    transform = ToTensor(),\n",
    ")\n",
    "\n",
    "testing_data = datasets.MNIST(\n",
    "    root = 'data', \n",
    "    train = False, \n",
    "    transform = ToTensor()\n",
    ")"
   ]
  },
  {
   "cell_type": "code",
   "execution_count": 107,
   "metadata": {},
   "outputs": [],
   "source": [
    "data_loaders = {\n",
    "    'train' : DataLoader(training_data, batch_size=BATCH_SIZE, shuffle=True, num_workers=1),\n",
    "    'test'  : DataLoader(testing_data, batch_size=BATCH_SIZE, shuffle=True, num_workers=1),\n",
    "}"
   ]
  },
  {
   "cell_type": "markdown",
   "metadata": {},
   "source": [
    "# Helper Functions"
   ]
  },
  {
   "cell_type": "code",
   "execution_count": 108,
   "metadata": {},
   "outputs": [],
   "source": [
    "def displayMNIST(data, index, title=\"Title\", save=False):\n",
    "    \n",
    "    plt.imshow(data.data[index], cmap='gray')\n",
    "    \n",
    "    if save: plt.savefig(title+\".png\")\n",
    "    \n",
    "    plt.show()"
   ]
  },
  {
   "cell_type": "code",
   "execution_count": 109,
   "metadata": {},
   "outputs": [],
   "source": [
    "def displayImage(data, index, title=\"Title\", save=False):\n",
    "    \n",
    "    data = [item.detach().numpy() for item in data]\n",
    "    \n",
    "    plt.imshow(data[index].reshape(28,28), cmap='gray')\n",
    "    \n",
    "    if save: plt.savefig(title+\".png\")\n",
    "    \n",
    "    plt.show()"
   ]
  },
  {
   "cell_type": "code",
   "execution_count": 110,
   "metadata": {},
   "outputs": [],
   "source": [
    "def getLabel(data, index):\n",
    "    \n",
    "    return data.targets[index].numpy().item()"
   ]
  },
  {
   "cell_type": "code",
   "execution_count": 111,
   "metadata": {},
   "outputs": [],
   "source": [
    "def plotAccuracy(accuracy, title=\"Title\", save=False):\n",
    "    \n",
    "    plt.plot(range(len(accuracy)), accuracy, '-g', label='Accuracy')\n",
    "    \n",
    "    plt.legend(loc='upper left')\n",
    "    \n",
    "    if save: plt.savefig(title+\"_Accuracy.png\")\n",
    "\n",
    "    plt.show()"
   ]
  },
  {
   "cell_type": "code",
   "execution_count": 112,
   "metadata": {},
   "outputs": [],
   "source": [
    "def plotLoss(loss, title=\"Title\", save=False):\n",
    "    \n",
    "    plt.plot(range(len(loss)), loss, '-r', label='Loss')\n",
    "    \n",
    "    plt.legend(loc='upper left')\n",
    "    \n",
    "    if save: plt.savefig(title+\"_Loss.png\")\n",
    "\n",
    "    plt.show()"
   ]
  },
  {
   "cell_type": "code",
   "execution_count": 113,
   "metadata": {},
   "outputs": [],
   "source": [
    "def removeTrueLabelFromTensor(T, i):\n",
    "    T[i] = (-1000000000.0)\n",
    "    return T"
   ]
  },
  {
   "cell_type": "markdown",
   "metadata": {},
   "source": [
    "# CNN Implementation"
   ]
  },
  {
   "cell_type": "code",
   "execution_count": 145,
   "metadata": {},
   "outputs": [],
   "source": [
    "class CNN1 (nn.Module) :\n",
    "    \n",
    "    def __init__(self):\n",
    "        \n",
    "        super(CNN1, self).__init__()\n",
    "        \n",
    "        self.layer1 = nn.Sequential(         \n",
    "            nn.Conv2d(\n",
    "                in_channels=1,              \n",
    "                out_channels=16,            \n",
    "                kernel_size=8,              \n",
    "                stride=1,                   \n",
    "                padding=2,                  \n",
    "            ),                              \n",
    "            nn.ReLU(),                      \n",
    "            nn.MaxPool2d(kernel_size=2),    \n",
    "        )\n",
    "        self.out = nn.Linear(2304, 10)\n",
    "    \n",
    "    def forward(self, x):\n",
    "        \n",
    "        x = self.layer1(x)\n",
    "        x = x.view(x.size(0), -1)       \n",
    "        output = self.out(x)\n",
    "        return output, x    # return x for visualization"
   ]
  },
  {
   "cell_type": "code",
   "execution_count": 171,
   "metadata": {},
   "outputs": [],
   "source": [
    "class CNN2 (nn.Module):\n",
    "    \n",
    "    def __init__(self):\n",
    "        \n",
    "        super(CNN2, self).__init__()\n",
    "        \n",
    "        self.layer1 = nn.Sequential( \n",
    "            nn.Conv2d(\n",
    "                in_channels = 1,              \n",
    "                out_channels = 32,            \n",
    "                kernel_size = 2,              \n",
    "                stride = 1,                   \n",
    "                padding = 2,                  \n",
    "            ), \n",
    "            nn.BatchNorm2d(32),\n",
    "            nn.ReLU(), \n",
    "            nn.MaxPool2d(kernel_size = 2),    \n",
    "        )\n",
    "        self.layer2 = nn.Sequential(  \n",
    "            nn.Conv2d(\n",
    "                in_channels = 32, \n",
    "                out_channels = 64, \n",
    "                kernel_size = 2, \n",
    "                stride = 1, \n",
    "                padding = 2),  \n",
    "            nn.BatchNorm2d(64),\n",
    "            nn.ReLU(),   \n",
    "            nn.MaxPool2d(kernel_size=2),                \n",
    "        )\n",
    "\n",
    "        self.out = nn.Linear(2304, 10)\n",
    "    \n",
    "    def forward(self, x):\n",
    "        \n",
    "        x = self.layer1(x)\n",
    "        x = self.layer2(x)\n",
    "        x = x.view(x.size(0), -1)       \n",
    "        output = self.out(x)\n",
    "        return output, x    # return x for visualization"
   ]
  },
  {
   "cell_type": "code",
   "execution_count": 115,
   "metadata": {},
   "outputs": [],
   "source": [
    "def getLossAccuracy(cnn_model, data_load, dataset, details=False):\n",
    "\n",
    "    cnn_model.eval()\n",
    "    \n",
    "    with torch.no_grad():\n",
    "        \n",
    "        correct = 0\n",
    "        total = 0\n",
    "        \n",
    "        for data, label in data_load[dataset]:\n",
    "            \n",
    "            output_label, last_layer = cnn_model(data)\n",
    "            pred_y = torch.max(output_label, 1)[1].data.squeeze()\n",
    "            \n",
    "            accuracy = (pred_y == label).sum().item() / float(label.size(0))\n",
    "            loss = LOSS_FUNCTION(output_label, label).item()\n",
    "    \n",
    "    if details: print(dataset+' loss: %.5f' % loss)\n",
    "    if details: print(dataset+' accuracy: %.5f' % accuracy)\n",
    "        \n",
    "    return (loss, accuracy)"
   ]
  },
  {
   "cell_type": "code",
   "execution_count": 116,
   "metadata": {},
   "outputs": [],
   "source": [
    "def train(cnn_model, data_load, optim):\n",
    "    \n",
    "    training_accuracy = []\n",
    "    training_loss = []\n",
    "    \n",
    "    cnn_model.train()\n",
    "    \n",
    "    # Initial Training Loss and Accuracy\n",
    "    (tr_loss, tr_accuracy) = getLossAccuracy(cnn_model, data_load, 'train')            \n",
    "    training_loss.append(tr_loss)\n",
    "    training_accuracy.append(tr_accuracy)\n",
    "\n",
    "    # Train the model\n",
    "    total_step = len(data_load['train'])\n",
    "\n",
    "    for epoch in range(EPOCHS):\n",
    "        for i, (training_data, training_label) in enumerate(data_load['train']):\n",
    "            \n",
    "            batch_data = Variable(training_data)\n",
    "            batch_label = Variable(training_label) \n",
    "            output_label, _ = cnn_model(batch_data)               \n",
    "            \n",
    "            loss = LOSS_FUNCTION(output_label, batch_label)\n",
    "  \n",
    "            optim.zero_grad()           \n",
    "            loss.backward()             \n",
    "            optim.step()                \n",
    "\n",
    "            if (i+1) % 200 == 0:\n",
    "                print ('Epoch [{}/{}], Progress [{}/{}], Loss: {:.4f}' .format(epoch + 1, EPOCHS, i + 1, total_step, loss.item()))\n",
    "            \n",
    "        \n",
    "        # GET LOSS AND ACCURACY AT EVERY EPOCH\n",
    "        (tr_loss, tr_accuracy) = getLossAccuracy(cnn_model, data_load, 'train')            \n",
    "        training_loss.append(tr_loss)\n",
    "        training_accuracy.append(tr_accuracy)\n",
    "        #print ('      Training Loss: {:.4f}, Training Accuracy: {:.4f}' .format(tr_loss, tr_accuracy))\n",
    "            \n",
    "    return (training_loss, training_accuracy)"
   ]
  },
  {
   "cell_type": "markdown",
   "metadata": {},
   "source": [
    "### Example"
   ]
  },
  {
   "cell_type": "code",
   "execution_count": 102,
   "metadata": {},
   "outputs": [],
   "source": [
    "cnn_test = CNN1()\n",
    "optimizer = optim.Adam(cnn_test.parameters(), lr = LEARNING_RATE)  "
   ]
  },
  {
   "cell_type": "code",
   "execution_count": 19,
   "metadata": {},
   "outputs": [
    {
     "name": "stdout",
     "output_type": "stream",
     "text": [
      "Epoch [1/2], Progress [200/600], Loss: 0.0484\n",
      "Epoch [1/2], Progress [400/600], Loss: 0.1162\n",
      "Epoch [1/2], Progress [600/600], Loss: 0.0570\n",
      "Epoch [2/2], Progress [200/600], Loss: 0.0208\n",
      "Epoch [2/2], Progress [400/600], Loss: 0.0975\n",
      "Epoch [2/2], Progress [600/600], Loss: 0.2243\n"
     ]
    }
   ],
   "source": [
    "(train_loss, train_accuracy) = train(cnn_test, data_loaders, optimizer)"
   ]
  },
  {
   "cell_type": "code",
   "execution_count": 103,
   "metadata": {},
   "outputs": [
    {
     "name": "stdout",
     "output_type": "stream",
     "text": [
      "Accuracy on Original Training data: [0.05, 0.98, 1.0]\n"
     ]
    }
   ],
   "source": [
    "print(\"Accuracy on Original Training data: \"+str(train_accuracy))"
   ]
  },
  {
   "cell_type": "code",
   "execution_count": 20,
   "metadata": {},
   "outputs": [
    {
     "data": {
      "image/png": "[encoded data removed]",
      "text/plain": [
       "<Figure size 432x288 with 1 Axes>"
      ]
     },
     "metadata": {
      "needs_background": "light"
     },
     "output_type": "display_data"
    }
   ],
   "source": [
    "plotLoss(train_loss, \"Loss_Train\")"
   ]
  },
  {
   "cell_type": "code",
   "execution_count": 21,
   "metadata": {},
   "outputs": [
    {
     "data": {
      "image/png": "[encoded data removed]",
      "text/plain": [
       "<Figure size 432x288 with 1 Axes>"
      ]
     },
     "metadata": {
      "needs_background": "light"
     },
     "output_type": "display_data"
    }
   ],
   "source": [
    "plotAccuracy(train_accuracy, \"Accuracy_Train\")"
   ]
  },
  {
   "cell_type": "code",
   "execution_count": 22,
   "metadata": {},
   "outputs": [
    {
     "name": "stdout",
     "output_type": "stream",
     "text": [
      "test loss: 0.00678\n",
      "test accuracy: 1.00000\n"
     ]
    }
   ],
   "source": [
    "(test_loss, test_accuracy) = getLossAccuracy(cnn_test, data_loaders, 'test', details=True)"
   ]
  },
  {
   "cell_type": "markdown",
   "metadata": {},
   "source": [
    "# PGD (UNTARGETED)"
   ]
  },
  {
   "cell_type": "code",
   "execution_count": 117,
   "metadata": {},
   "outputs": [],
   "source": [
    "def getLossAccuracyAdversarial(cnn_model, adversarial_imgs, true_labels, details=False):\n",
    "    \n",
    "    true_labels = true_labels.type(torch.int64)\n",
    "    \n",
    "    cnn_model.eval()\n",
    "    \n",
    "    with torch.no_grad():\n",
    "        \n",
    "        correct = 0\n",
    "        total = 0\n",
    "        \n",
    "        output_label, last_layer = cnn_model(adversarial_imgs)\n",
    "        pred_y = torch.max(output_label, 1)[1].data.squeeze()\n",
    "        \n",
    "        #print(pred_y[0:20])\n",
    "        #print(true_labels[0:20])\n",
    "        \n",
    "        accuracy = (pred_y == true_labels).sum().item() / float(true_labels.size(0))\n",
    "        loss = LOSS_FUNCTION(output_label, true_labels).item()\n",
    "    \n",
    "    \n",
    "    if details: print(dataset+' loss: %.5f' % loss)\n",
    "    if details: print(dataset+' accuracy: %.5f' % accuracy)\n",
    "        \n",
    "    return (loss, accuracy)"
   ]
  },
  {
   "cell_type": "code",
   "execution_count": 118,
   "metadata": {},
   "outputs": [],
   "source": [
    "def untargeted_pgd_attack(cnn_model, images, true_labels, eps=0.3, alpha=0.001, iterations=1):\n",
    "    \n",
    "    original_images = images.data\n",
    "    \n",
    "    for j in range(iterations):\n",
    "\n",
    "        images.requires_grad = True\n",
    "        (pred_label, _) = cnn_model(images)\n",
    "        \n",
    "        loss = LOSS_FUNCTION(pred_label, true_labels)\n",
    "        loss.backward()\n",
    "\n",
    "        adv_images = images + alpha * images.grad.sign()\n",
    "        eta = torch.clamp(adv_images - original_images, min=-eps, max=eps)\n",
    "        images = torch.clamp(original_images + eta, min=0, max=1).detach_()\n",
    "            \n",
    "    return (loss, images, true_labels)"
   ]
  },
  {
   "cell_type": "code",
   "execution_count": 137,
   "metadata": {},
   "outputs": [],
   "source": [
    "def pgd_train(cnn_model, data_load, optim, pgd_function, EPOCHS=2, eps=0.3, alpha=0.01, iterations=1):\n",
    "    \n",
    "    training_accuracy = []\n",
    "    training_loss = []\n",
    "    adv_training_loss = []\n",
    "    adv_training_accuracy = []\n",
    "    \n",
    "    cnn_model.train()\n",
    "    \n",
    "    # Initial Training Loss and Accuracy\n",
    "    (tr_loss, tr_accuracy) = getLossAccuracy(cnn_model, data_load, 'train')\n",
    "    training_loss.append(tr_loss)\n",
    "    adv_training_loss.append(tr_loss)\n",
    "    training_accuracy.append(tr_accuracy)\n",
    "    adv_training_accuracy.append(tr_accuracy)\n",
    "\n",
    "    # Train the model\n",
    "    total_step = len(data_load['train'])\n",
    "\n",
    "    for epoch in range(EPOCHS):\n",
    "        \n",
    "        original_images = torch.empty(0,)\n",
    "        adversarial_images = torch.empty(0,)\n",
    "        adversarial_labels = torch.empty(0,)\n",
    "        \n",
    "        for i, (training_data, training_label) in enumerate(data_load['train']):            \n",
    "            \n",
    "            # PGD ATTACK TO PRODUCE ADVERSARIAL EXAMPLES ON THIS BATCH\n",
    "            (pgd_loss, perturbed_imgs, pgd_label) = pgd_function(cnn_model, training_data, training_label, eps, alpha, iterations)\n",
    "            \n",
    "            # COLLECT ALL ADVERSARIAL EXAMPLES\n",
    "            original_images = torch.cat((original_images, training_data),0)\n",
    "            adversarial_images = torch.cat((adversarial_images, perturbed_imgs),0)\n",
    "            adversarial_labels = torch.cat((adversarial_labels, pgd_label),0)\n",
    "            \n",
    "            # TRAIN MODEL BASED ON PERTURBED DATA AND UNTARGETTED LABEL\n",
    "            batch_data = Variable(perturbed_imgs)\n",
    "            batch_label = Variable(pgd_label)\n",
    "            \n",
    "            # PERFORM THE PREDICTION ON CURRENT DATA\n",
    "            output_label, _ = cnn_model(batch_data)             \n",
    "            \n",
    "            # LOSS FUNCTION\n",
    "            batch_training_loss = LOSS_FUNCTION(output_label, batch_label)\n",
    "  \n",
    "            # CLEAR GRADIENTS\n",
    "            optim.zero_grad() \n",
    "        \n",
    "            # CALCULATE GRADIENTS\n",
    "            batch_training_loss.backward()   \n",
    "            \n",
    "            # UPDATE MODEL PARAMS\n",
    "            optim.step()                \n",
    "\n",
    "            if (i+1) % 200 == 0:\n",
    "                print ('Epoch [{}/{}], Progress [{}/{}], Loss: {:.4f}' .format(epoch + 1, EPOCHS, i + 1, total_step, batch_training_loss))\n",
    "        \n",
    "        # GET LOSS AND ACCURACY AT EVERY EPOCH (ON PERTURBED DATA)            \n",
    "        (tr_loss, tr_accuracy) = getLossAccuracyAdversarial(cnn_model, perturbed_imgs, pgd_label)\n",
    "        adv_training_loss.append(tr_loss)\n",
    "        adv_training_accuracy.append(tr_accuracy)\n",
    "        #print ('      Adversarial Loss: {:.4f}, Adversarial Accuracy: {:.4f}' .format(tr_loss, tr_accuracy))\n",
    "        \n",
    "        # GET LOSS AND ACCURACY AT EVERY EPOCH (ON ORIGINAL TRAINING DATA)\n",
    "        (tr_loss, tr_accuracy) = getLossAccuracy(cnn_model, data_load, 'train')            \n",
    "        training_loss.append(tr_loss)\n",
    "        training_accuracy.append(tr_accuracy)\n",
    "        #print ('      Training Loss: {:.4f}, Training Accuracy: {:.4f}' .format(tr_loss, tr_accuracy))\n",
    "            \n",
    "    return (original_images, adversarial_images, adversarial_labels, \n",
    "            training_loss, training_accuracy, adv_training_loss, adv_training_accuracy)"
   ]
  },
  {
   "cell_type": "markdown",
   "metadata": {},
   "source": [
    "### Example"
   ]
  },
  {
   "cell_type": "code",
   "execution_count": 138,
   "metadata": {},
   "outputs": [],
   "source": [
    "cnn_unpgd = CNN1()\n",
    "optimizer_unpgd = optim.Adam(cnn_unpgd.parameters(), lr = LEARNING_RATE)"
   ]
  },
  {
   "cell_type": "code",
   "execution_count": 139,
   "metadata": {},
   "outputs": [
    {
     "name": "stdout",
     "output_type": "stream",
     "text": [
      "Epoch [1/2], Progress [200/600], Loss: 0.1111\n",
      "Epoch [1/2], Progress [400/600], Loss: 0.0799\n",
      "Epoch [1/2], Progress [600/600], Loss: 0.0187\n",
      "Epoch [2/2], Progress [200/600], Loss: 0.0358\n",
      "Epoch [2/2], Progress [400/600], Loss: 0.0643\n",
      "Epoch [2/2], Progress [600/600], Loss: 0.0255\n"
     ]
    }
   ],
   "source": [
    "(original_images, avd_img, avd_lab, \n",
    " train_loss, train_acc, adv_loss, adv_acc) = pgd_train(cnn_model = cnn_unpgd, \n",
    "                                                       data_load=data_loaders, \n",
    "                                                       optim=optimizer_unpgd, \n",
    "                                                       pgd_function=untargeted_pgd_attack)"
   ]
  },
  {
   "cell_type": "code",
   "execution_count": 140,
   "metadata": {},
   "outputs": [
    {
     "name": "stdout",
     "output_type": "stream",
     "text": [
      "Accuracy on Adversarial Examples: [0.17, 1.0, 1.0]\n",
      "Accuracy on Original Training data: [0.17, 0.96, 0.99]\n"
     ]
    }
   ],
   "source": [
    "print(\"Accuracy on Adversarial Examples: \"+str(adv_acc))\n",
    "print(\"Accuracy on Original Training data: \"+str(train_acc))"
   ]
  },
  {
   "cell_type": "code",
   "execution_count": 141,
   "metadata": {},
   "outputs": [
    {
     "name": "stdout",
     "output_type": "stream",
     "text": [
      "Loss on Adversarial Examples: [2.290632724761963, 0.014237956143915653, 0.01568761095404625]\n",
      "Loss on Original Training data: [2.290632724761963, 0.13560546934604645, 0.05196358636021614]\n"
     ]
    }
   ],
   "source": [
    "print(\"Loss on Adversarial Examples: \"+str(adv_loss))\n",
    "print(\"Loss on Original Training data: \"+str(train_loss))"
   ]
  },
  {
   "cell_type": "markdown",
   "metadata": {},
   "source": [
    "### Example 2"
   ]
  },
  {
   "cell_type": "code",
   "execution_count": 172,
   "metadata": {},
   "outputs": [],
   "source": [
    "eps = 0.3\n",
    "alpha = 0.5\n",
    "iterations = 1\n",
    "testing_epochs = 2\n",
    "\n",
    "classifier_two = CNN2()\n",
    "optimizer_two = optim.Adam(classifier_two.parameters(), lr = LEARNING_RATE) "
   ]
  },
  {
   "cell_type": "code",
   "execution_count": 173,
   "metadata": {},
   "outputs": [
    {
     "ename": "RuntimeError",
     "evalue": "mat1 and mat2 shapes cannot be multiplied (100x576 and 2304x10)",
     "output_type": "error",
     "traceback": [
      "\u001b[1;31m---------------------------------------------------------------------------\u001b[0m",
      "\u001b[1;31mRuntimeError\u001b[0m                              Traceback (most recent call last)",
      "\u001b[1;32m<ipython-input-173-20a2d55ec205>\u001b[0m in \u001b[0;36m<module>\u001b[1;34m\u001b[0m\n\u001b[0;32m      1\u001b[0m (two_orginal_images, two_pgd_images, two_pgd_labels, \n\u001b[0;32m      2\u001b[0m  \u001b[0mtwo_training_loss\u001b[0m\u001b[1;33m,\u001b[0m \u001b[0mtwo_training_accuracy\u001b[0m\u001b[1;33m,\u001b[0m\u001b[1;33m\u001b[0m\u001b[1;33m\u001b[0m\u001b[0m\n\u001b[1;32m----> 3\u001b[1;33m  \u001b[0mtwo_adv_training_loss\u001b[0m\u001b[1;33m,\u001b[0m \u001b[0mtwo_adv_training_accuracy\u001b[0m\u001b[1;33m)\u001b[0m \u001b[1;33m=\u001b[0m \u001b[0mpgd_train\u001b[0m\u001b[1;33m(\u001b[0m\u001b[0mcnn_model\u001b[0m \u001b[1;33m=\u001b[0m \u001b[0mclassifier_two\u001b[0m\u001b[1;33m,\u001b[0m\u001b[1;33m\u001b[0m\u001b[1;33m\u001b[0m\u001b[0m\n\u001b[0m\u001b[0;32m      4\u001b[0m                                                                \u001b[0mdata_load\u001b[0m \u001b[1;33m=\u001b[0m \u001b[0mdata_loaders\u001b[0m\u001b[1;33m,\u001b[0m\u001b[1;33m\u001b[0m\u001b[1;33m\u001b[0m\u001b[0m\n\u001b[0;32m      5\u001b[0m                                                                \u001b[0moptim\u001b[0m \u001b[1;33m=\u001b[0m \u001b[0moptimizer_two\u001b[0m\u001b[1;33m,\u001b[0m\u001b[1;33m\u001b[0m\u001b[1;33m\u001b[0m\u001b[0m\n",
      "\u001b[1;32m<ipython-input-137-a94656e04612>\u001b[0m in \u001b[0;36mpgd_train\u001b[1;34m(cnn_model, data_load, optim, pgd_function, EPOCHS, eps, alpha, iterations)\u001b[0m\n\u001b[0;32m      9\u001b[0m \u001b[1;33m\u001b[0m\u001b[0m\n\u001b[0;32m     10\u001b[0m     \u001b[1;31m# Initial Training Loss and Accuracy\u001b[0m\u001b[1;33m\u001b[0m\u001b[1;33m\u001b[0m\u001b[1;33m\u001b[0m\u001b[0m\n\u001b[1;32m---> 11\u001b[1;33m     \u001b[1;33m(\u001b[0m\u001b[0mtr_loss\u001b[0m\u001b[1;33m,\u001b[0m \u001b[0mtr_accuracy\u001b[0m\u001b[1;33m)\u001b[0m \u001b[1;33m=\u001b[0m \u001b[0mgetLossAccuracy\u001b[0m\u001b[1;33m(\u001b[0m\u001b[0mcnn_model\u001b[0m\u001b[1;33m,\u001b[0m \u001b[0mdata_load\u001b[0m\u001b[1;33m,\u001b[0m \u001b[1;34m'train'\u001b[0m\u001b[1;33m)\u001b[0m\u001b[1;33m\u001b[0m\u001b[1;33m\u001b[0m\u001b[0m\n\u001b[0m\u001b[0;32m     12\u001b[0m     \u001b[0mtraining_loss\u001b[0m\u001b[1;33m.\u001b[0m\u001b[0mappend\u001b[0m\u001b[1;33m(\u001b[0m\u001b[0mtr_loss\u001b[0m\u001b[1;33m)\u001b[0m\u001b[1;33m\u001b[0m\u001b[1;33m\u001b[0m\u001b[0m\n\u001b[0;32m     13\u001b[0m     \u001b[0madv_training_loss\u001b[0m\u001b[1;33m.\u001b[0m\u001b[0mappend\u001b[0m\u001b[1;33m(\u001b[0m\u001b[0mtr_loss\u001b[0m\u001b[1;33m)\u001b[0m\u001b[1;33m\u001b[0m\u001b[1;33m\u001b[0m\u001b[0m\n",
      "\u001b[1;32m<ipython-input-115-53996eaa6cbe>\u001b[0m in \u001b[0;36mgetLossAccuracy\u001b[1;34m(cnn_model, data_load, dataset, details)\u001b[0m\n\u001b[0;32m     10\u001b[0m         \u001b[1;32mfor\u001b[0m \u001b[0mdata\u001b[0m\u001b[1;33m,\u001b[0m \u001b[0mlabel\u001b[0m \u001b[1;32min\u001b[0m \u001b[0mdata_load\u001b[0m\u001b[1;33m[\u001b[0m\u001b[0mdataset\u001b[0m\u001b[1;33m]\u001b[0m\u001b[1;33m:\u001b[0m\u001b[1;33m\u001b[0m\u001b[1;33m\u001b[0m\u001b[0m\n\u001b[0;32m     11\u001b[0m \u001b[1;33m\u001b[0m\u001b[0m\n\u001b[1;32m---> 12\u001b[1;33m             \u001b[0moutput_label\u001b[0m\u001b[1;33m,\u001b[0m \u001b[0mlast_layer\u001b[0m \u001b[1;33m=\u001b[0m \u001b[0mcnn_model\u001b[0m\u001b[1;33m(\u001b[0m\u001b[0mdata\u001b[0m\u001b[1;33m)\u001b[0m\u001b[1;33m\u001b[0m\u001b[1;33m\u001b[0m\u001b[0m\n\u001b[0m\u001b[0;32m     13\u001b[0m             \u001b[0mpred_y\u001b[0m \u001b[1;33m=\u001b[0m \u001b[0mtorch\u001b[0m\u001b[1;33m.\u001b[0m\u001b[0mmax\u001b[0m\u001b[1;33m(\u001b[0m\u001b[0moutput_label\u001b[0m\u001b[1;33m,\u001b[0m \u001b[1;36m1\u001b[0m\u001b[1;33m)\u001b[0m\u001b[1;33m[\u001b[0m\u001b[1;36m1\u001b[0m\u001b[1;33m]\u001b[0m\u001b[1;33m.\u001b[0m\u001b[0mdata\u001b[0m\u001b[1;33m.\u001b[0m\u001b[0msqueeze\u001b[0m\u001b[1;33m(\u001b[0m\u001b[1;33m)\u001b[0m\u001b[1;33m\u001b[0m\u001b[1;33m\u001b[0m\u001b[0m\n\u001b[0;32m     14\u001b[0m \u001b[1;33m\u001b[0m\u001b[0m\n",
      "\u001b[1;32mc:\\users\\alexa\\appdata\\local\\programs\\python\\python38\\lib\\site-packages\\torch\\nn\\modules\\module.py\u001b[0m in \u001b[0;36m_call_impl\u001b[1;34m(self, *input, **kwargs)\u001b[0m\n\u001b[0;32m   1128\u001b[0m         if not (self._backward_hooks or self._forward_hooks or self._forward_pre_hooks or _global_backward_hooks\n\u001b[0;32m   1129\u001b[0m                 or _global_forward_hooks or _global_forward_pre_hooks):\n\u001b[1;32m-> 1130\u001b[1;33m             \u001b[1;32mreturn\u001b[0m \u001b[0mforward_call\u001b[0m\u001b[1;33m(\u001b[0m\u001b[1;33m*\u001b[0m\u001b[0minput\u001b[0m\u001b[1;33m,\u001b[0m \u001b[1;33m**\u001b[0m\u001b[0mkwargs\u001b[0m\u001b[1;33m)\u001b[0m\u001b[1;33m\u001b[0m\u001b[1;33m\u001b[0m\u001b[0m\n\u001b[0m\u001b[0;32m   1131\u001b[0m         \u001b[1;31m# Do not call functions when jit is used\u001b[0m\u001b[1;33m\u001b[0m\u001b[1;33m\u001b[0m\u001b[1;33m\u001b[0m\u001b[0m\n\u001b[0;32m   1132\u001b[0m         \u001b[0mfull_backward_hooks\u001b[0m\u001b[1;33m,\u001b[0m \u001b[0mnon_full_backward_hooks\u001b[0m \u001b[1;33m=\u001b[0m \u001b[1;33m[\u001b[0m\u001b[1;33m]\u001b[0m\u001b[1;33m,\u001b[0m \u001b[1;33m[\u001b[0m\u001b[1;33m]\u001b[0m\u001b[1;33m\u001b[0m\u001b[1;33m\u001b[0m\u001b[0m\n",
      "\u001b[1;32m<ipython-input-171-a79c96e971fc>\u001b[0m in \u001b[0;36mforward\u001b[1;34m(self, x)\u001b[0m\n\u001b[0;32m     36\u001b[0m         \u001b[0mx\u001b[0m \u001b[1;33m=\u001b[0m \u001b[0mself\u001b[0m\u001b[1;33m.\u001b[0m\u001b[0mlayer2\u001b[0m\u001b[1;33m(\u001b[0m\u001b[0mx\u001b[0m\u001b[1;33m)\u001b[0m\u001b[1;33m\u001b[0m\u001b[1;33m\u001b[0m\u001b[0m\n\u001b[0;32m     37\u001b[0m         \u001b[0mx\u001b[0m \u001b[1;33m=\u001b[0m \u001b[0mx\u001b[0m\u001b[1;33m.\u001b[0m\u001b[0mview\u001b[0m\u001b[1;33m(\u001b[0m\u001b[0mx\u001b[0m\u001b[1;33m.\u001b[0m\u001b[0msize\u001b[0m\u001b[1;33m(\u001b[0m\u001b[1;36m0\u001b[0m\u001b[1;33m)\u001b[0m\u001b[1;33m,\u001b[0m \u001b[1;33m-\u001b[0m\u001b[1;36m1\u001b[0m\u001b[1;33m)\u001b[0m\u001b[1;33m\u001b[0m\u001b[1;33m\u001b[0m\u001b[0m\n\u001b[1;32m---> 38\u001b[1;33m         \u001b[0moutput\u001b[0m \u001b[1;33m=\u001b[0m \u001b[0mself\u001b[0m\u001b[1;33m.\u001b[0m\u001b[0mout\u001b[0m\u001b[1;33m(\u001b[0m\u001b[0mx\u001b[0m\u001b[1;33m)\u001b[0m\u001b[1;33m\u001b[0m\u001b[1;33m\u001b[0m\u001b[0m\n\u001b[0m\u001b[0;32m     39\u001b[0m         \u001b[1;32mreturn\u001b[0m \u001b[0moutput\u001b[0m\u001b[1;33m,\u001b[0m \u001b[0mx\u001b[0m    \u001b[1;31m# return x for visualization\u001b[0m\u001b[1;33m\u001b[0m\u001b[1;33m\u001b[0m\u001b[0m\n",
      "\u001b[1;32mc:\\users\\alexa\\appdata\\local\\programs\\python\\python38\\lib\\site-packages\\torch\\nn\\modules\\module.py\u001b[0m in \u001b[0;36m_call_impl\u001b[1;34m(self, *input, **kwargs)\u001b[0m\n\u001b[0;32m   1128\u001b[0m         if not (self._backward_hooks or self._forward_hooks or self._forward_pre_hooks or _global_backward_hooks\n\u001b[0;32m   1129\u001b[0m                 or _global_forward_hooks or _global_forward_pre_hooks):\n\u001b[1;32m-> 1130\u001b[1;33m             \u001b[1;32mreturn\u001b[0m \u001b[0mforward_call\u001b[0m\u001b[1;33m(\u001b[0m\u001b[1;33m*\u001b[0m\u001b[0minput\u001b[0m\u001b[1;33m,\u001b[0m \u001b[1;33m**\u001b[0m\u001b[0mkwargs\u001b[0m\u001b[1;33m)\u001b[0m\u001b[1;33m\u001b[0m\u001b[1;33m\u001b[0m\u001b[0m\n\u001b[0m\u001b[0;32m   1131\u001b[0m         \u001b[1;31m# Do not call functions when jit is used\u001b[0m\u001b[1;33m\u001b[0m\u001b[1;33m\u001b[0m\u001b[1;33m\u001b[0m\u001b[0m\n\u001b[0;32m   1132\u001b[0m         \u001b[0mfull_backward_hooks\u001b[0m\u001b[1;33m,\u001b[0m \u001b[0mnon_full_backward_hooks\u001b[0m \u001b[1;33m=\u001b[0m \u001b[1;33m[\u001b[0m\u001b[1;33m]\u001b[0m\u001b[1;33m,\u001b[0m \u001b[1;33m[\u001b[0m\u001b[1;33m]\u001b[0m\u001b[1;33m\u001b[0m\u001b[1;33m\u001b[0m\u001b[0m\n",
      "\u001b[1;32mc:\\users\\alexa\\appdata\\local\\programs\\python\\python38\\lib\\site-packages\\torch\\nn\\modules\\linear.py\u001b[0m in \u001b[0;36mforward\u001b[1;34m(self, input)\u001b[0m\n\u001b[0;32m    112\u001b[0m \u001b[1;33m\u001b[0m\u001b[0m\n\u001b[0;32m    113\u001b[0m     \u001b[1;32mdef\u001b[0m \u001b[0mforward\u001b[0m\u001b[1;33m(\u001b[0m\u001b[0mself\u001b[0m\u001b[1;33m,\u001b[0m \u001b[0minput\u001b[0m\u001b[1;33m:\u001b[0m \u001b[0mTensor\u001b[0m\u001b[1;33m)\u001b[0m \u001b[1;33m->\u001b[0m \u001b[0mTensor\u001b[0m\u001b[1;33m:\u001b[0m\u001b[1;33m\u001b[0m\u001b[1;33m\u001b[0m\u001b[0m\n\u001b[1;32m--> 114\u001b[1;33m         \u001b[1;32mreturn\u001b[0m \u001b[0mF\u001b[0m\u001b[1;33m.\u001b[0m\u001b[0mlinear\u001b[0m\u001b[1;33m(\u001b[0m\u001b[0minput\u001b[0m\u001b[1;33m,\u001b[0m \u001b[0mself\u001b[0m\u001b[1;33m.\u001b[0m\u001b[0mweight\u001b[0m\u001b[1;33m,\u001b[0m \u001b[0mself\u001b[0m\u001b[1;33m.\u001b[0m\u001b[0mbias\u001b[0m\u001b[1;33m)\u001b[0m\u001b[1;33m\u001b[0m\u001b[1;33m\u001b[0m\u001b[0m\n\u001b[0m\u001b[0;32m    115\u001b[0m \u001b[1;33m\u001b[0m\u001b[0m\n\u001b[0;32m    116\u001b[0m     \u001b[1;32mdef\u001b[0m \u001b[0mextra_repr\u001b[0m\u001b[1;33m(\u001b[0m\u001b[0mself\u001b[0m\u001b[1;33m)\u001b[0m \u001b[1;33m->\u001b[0m \u001b[0mstr\u001b[0m\u001b[1;33m:\u001b[0m\u001b[1;33m\u001b[0m\u001b[1;33m\u001b[0m\u001b[0m\n",
      "\u001b[1;31mRuntimeError\u001b[0m: mat1 and mat2 shapes cannot be multiplied (100x576 and 2304x10)"
     ]
    }
   ],
   "source": [
    "(two_orginal_images, two_pgd_images, two_pgd_labels, \n",
    " two_training_loss, two_training_accuracy, \n",
    " two_adv_training_loss, two_adv_training_accuracy) = pgd_train(cnn_model = classifier_two, \n",
    "                                                               data_load = data_loaders, \n",
    "                                                               optim = optimizer_two, \n",
    "                                                               pgd_function = untargeted_pgd_attack, \n",
    "                                                               EPOCHS = testing_epochs, \n",
    "                                                               eps = eps, \n",
    "                                                               alpha = alpha,\n",
    "                                                               iterations = iterations)"
   ]
  },
  {
   "cell_type": "code",
   "execution_count": null,
   "metadata": {},
   "outputs": [],
   "source": [
    "displayImage(two_orginal_images, 0)\n",
    "print(two_pgd_labels[0])"
   ]
  },
  {
   "cell_type": "code",
   "execution_count": null,
   "metadata": {},
   "outputs": [],
   "source": [
    "displayImage(two_pgd_images, 0)\n",
    "print(two_pgd_labels[0])"
   ]
  },
  {
   "cell_type": "markdown",
   "metadata": {},
   "source": [
    "### Example of Images Produced by NonTargeted PGD"
   ]
  },
  {
   "cell_type": "code",
   "execution_count": 34,
   "metadata": {},
   "outputs": [],
   "source": [
    "for i, (training_data, training_label) in enumerate(data_loaders['train']):  \n",
    "    if i==0:\n",
    "        ex_train_img = training_data\n",
    "        ex_train_lab = training_label\n",
    "\n",
    "(_, adv_image_1, adv_label_1) = untargeted_pgd_attack(cnn_unpgd, ex_train_img, ex_train_lab, eps=0.3, alpha=0.01, iterations=1)\n",
    "(_, adv_image_20, adv_label_20) = untargeted_pgd_attack(cnn_unpgd, ex_train_img, ex_train_lab, eps=0.3, alpha=0.01, iterations=20)\n",
    "(_, adv_image_40, adv_label_40) = untargeted_pgd_attack(cnn_unpgd, ex_train_img, ex_train_lab, eps=0.3, alpha=0.01, iterations=40)"
   ]
  },
  {
   "cell_type": "code",
   "execution_count": 35,
   "metadata": {},
   "outputs": [
    {
     "data": {
      "image/png": "[encoded data removed]",
      "text/plain": [
       "<Figure size 432x288 with 1 Axes>"
      ]
     },
     "metadata": {
      "needs_background": "light"
     },
     "output_type": "display_data"
    },
    {
     "name": "stdout",
     "output_type": "stream",
     "text": [
      "tensor(6)\n"
     ]
    }
   ],
   "source": [
    "displayImage(ex_train_img, 0)\n",
    "\n",
    "print(ex_train_lab[0])"
   ]
  },
  {
   "cell_type": "code",
   "execution_count": 36,
   "metadata": {},
   "outputs": [
    {
     "data": {
      "image/png": "[encoded data removed]",
      "text/plain": [
       "<Figure size 432x288 with 1 Axes>"
      ]
     },
     "metadata": {
      "needs_background": "light"
     },
     "output_type": "display_data"
    },
    {
     "name": "stdout",
     "output_type": "stream",
     "text": [
      "tensor(6)\n"
     ]
    }
   ],
   "source": [
    "displayImage(adv_image_1, 0)\n",
    "\n",
    "print(adv_label_1[0])"
   ]
  },
  {
   "cell_type": "code",
   "execution_count": null,
   "metadata": {},
   "outputs": [],
   "source": [
    "displayImage(adv_image_20, 0)\n",
    "\n",
    "print(adv_label_20[0])"
   ]
  },
  {
   "cell_type": "code",
   "execution_count": 37,
   "metadata": {},
   "outputs": [
    {
     "data": {
      "image/png": "[encoded data removed]",
      "text/plain": [
       "<Figure size 432x288 with 1 Axes>"
      ]
     },
     "metadata": {
      "needs_background": "light"
     },
     "output_type": "display_data"
    },
    {
     "name": "stdout",
     "output_type": "stream",
     "text": [
      "tensor(6)\n"
     ]
    }
   ],
   "source": [
    "displayImage(adv_image_40, 0)\n",
    "\n",
    "print(adv_label_40[0])"
   ]
  },
  {
   "cell_type": "code",
   "execution_count": 38,
   "metadata": {},
   "outputs": [
    {
     "data": {
      "text/plain": [
       "tensor([[[ True,  True,  True,  True,  True,  True,  True,  True,  True, False,\n",
       "          False,  True,  True, False,  True,  True, False, False, False, False,\n",
       "           True,  True, False, False, False,  True,  True, False],\n",
       "         [ True,  True,  True,  True,  True,  True,  True,  True, False, False,\n",
       "           True,  True,  True, False,  True,  True,  True,  True, False, False,\n",
       "          False, False, False,  True, False,  True, False,  True],\n",
       "         [ True, False, False, False,  True,  True, False, False, False,  True,\n",
       "           True, False, False, False,  True,  True,  True,  True,  True,  True,\n",
       "          False,  True,  True,  True, False, False,  True, False],\n",
       "         [ True, False, False, False, False,  True, False, False,  True,  True,\n",
       "           True, False,  True,  True,  True, False, False,  True, False, False,\n",
       "          False, False,  True,  True,  True,  True, False, False],\n",
       "         [ True, False, False, False, False, False,  True,  True,  True,  True,\n",
       "          False, False,  True,  True,  True, False, False, False, False, False,\n",
       "          False, False, False, False,  True, False,  True, False],\n",
       "         [ True, False, False, False, False,  True, False,  True,  True,  True,\n",
       "          False,  True,  True,  True,  True, False, False, False, False, False,\n",
       "          False, False, False, False,  True, False,  True, False],\n",
       "         [ True, False, False, False, False, False,  True,  True, False, False,\n",
       "           True,  True, False, False, False, False, False, False, False, False,\n",
       "          False, False, False, False, False,  True,  True, False],\n",
       "         [False, False, False, False, False, False, False,  True,  True,  True,\n",
       "           True,  True, False, False, False, False, False, False, False, False,\n",
       "          False, False, False, False, False, False, False,  True],\n",
       "         [False, False, False, False,  True, False, False,  True,  True,  True,\n",
       "           True, False, False, False, False, False, False, False, False, False,\n",
       "          False, False, False, False, False,  True,  True,  True],\n",
       "         [False, False, False, False, False, False, False,  True,  True,  True,\n",
       "           True, False, False, False, False, False, False, False, False, False,\n",
       "           True, False, False, False,  True,  True,  True,  True],\n",
       "         [False, False, False, False,  True,  True, False, False,  True, False,\n",
       "          False, False, False, False, False, False, False, False, False, False,\n",
       "          False,  True, False, False, False, False,  True,  True],\n",
       "         [ True,  True, False, False, False,  True, False, False,  True, False,\n",
       "          False, False, False, False, False, False, False, False, False, False,\n",
       "          False, False, False, False, False, False,  True,  True],\n",
       "         [ True, False,  True, False, False, False, False, False,  True,  True,\n",
       "          False, False, False, False, False, False, False, False, False, False,\n",
       "          False, False, False, False, False,  True,  True,  True],\n",
       "         [ True,  True, False, False, False, False, False,  True,  True,  True,\n",
       "          False, False, False, False, False, False, False, False, False, False,\n",
       "          False, False,  True,  True,  True,  True,  True,  True],\n",
       "         [ True,  True, False, False, False, False, False,  True,  True, False,\n",
       "          False, False, False, False, False, False, False, False, False, False,\n",
       "          False,  True,  True,  True,  True, False,  True,  True],\n",
       "         [ True, False, False, False, False, False, False,  True,  True, False,\n",
       "          False, False, False, False, False,  True,  True, False, False, False,\n",
       "           True,  True,  True,  True,  True, False,  True,  True],\n",
       "         [ True, False, False, False, False, False,  True,  True, False, False,\n",
       "          False, False, False,  True,  True,  True, False, False, False,  True,\n",
       "           True,  True,  True,  True,  True,  True, False,  True],\n",
       "         [False, False, False, False, False, False,  True,  True, False, False,\n",
       "          False, False,  True,  True,  True, False, False, False, False,  True,\n",
       "           True,  True,  True, False,  True,  True, False, False],\n",
       "         [False,  True,  True, False, False, False, False, False, False, False,\n",
       "          False,  True,  True,  True, False, False, False, False,  True,  True,\n",
       "           True,  True,  True, False,  True, False,  True,  True],\n",
       "         [False,  True,  True, False, False,  True, False, False, False,  True,\n",
       "          False,  True, False, False, False, False, False,  True,  True,  True,\n",
       "           True,  True,  True, False, False, False,  True,  True],\n",
       "         [False,  True,  True,  True,  True, False,  True, False, False, False,\n",
       "          False, False, False, False, False, False, False,  True,  True,  True,\n",
       "           True, False, False, False, False,  True,  True,  True],\n",
       "         [False,  True,  True,  True, False, False, False, False, False, False,\n",
       "           True, False, False, False, False,  True,  True,  True,  True,  True,\n",
       "           True, False, False, False, False,  True,  True,  True],\n",
       "         [ True,  True,  True,  True,  True, False, False, False, False, False,\n",
       "          False, False, False, False,  True,  True,  True,  True,  True, False,\n",
       "          False, False, False,  True, False,  True,  True,  True],\n",
       "         [ True,  True,  True,  True,  True,  True,  True, False, False, False,\n",
       "          False,  True,  True,  True,  True,  True,  True,  True,  True,  True,\n",
       "          False, False, False, False, False,  True,  True,  True],\n",
       "         [False,  True,  True,  True,  True,  True,  True,  True,  True,  True,\n",
       "           True,  True,  True,  True,  True,  True,  True, False, False, False,\n",
       "          False, False, False, False,  True, False,  True,  True],\n",
       "         [False, False, False, False,  True,  True,  True,  True,  True,  True,\n",
       "           True,  True,  True,  True,  True,  True,  True,  True, False, False,\n",
       "          False, False, False,  True, False, False,  True,  True],\n",
       "         [False, False, False, False, False, False,  True,  True,  True,  True,\n",
       "          False,  True,  True, False,  True, False, False,  True, False, False,\n",
       "          False, False, False, False, False, False,  True,  True],\n",
       "         [False, False, False, False, False, False, False, False, False, False,\n",
       "          False, False,  True,  True, False, False, False, False, False, False,\n",
       "          False, False, False, False, False,  True,  True,  True]]])"
      ]
     },
     "execution_count": 38,
     "metadata": {},
     "output_type": "execute_result"
    }
   ],
   "source": [
    "torch.eq(ex_train_img[0], adv_image_40[0])"
   ]
  },
  {
   "cell_type": "markdown",
   "metadata": {},
   "source": [
    "# PGD (TARGETED)"
   ]
  },
  {
   "cell_type": "code",
   "execution_count": 85,
   "metadata": {},
   "outputs": [],
   "source": [
    "def targeted_pgd_attack(cnn_model, images, true_labels, eps=0.3, alpha=0.001, iterations=1, details=False):\n",
    "    \n",
    "    original_images = images.data\n",
    "    \n",
    "    for j in range(iterations):\n",
    "\n",
    "        images.requires_grad = True\n",
    "        (pred_label, _) = cnn_model(images)\n",
    "        \n",
    "        loss = LOSS_FUNCTION(pred_label, true_labels)\n",
    "        loss.backward()\n",
    "\n",
    "        adv_images = images + alpha * images.grad.sign()\n",
    "        eta = torch.clamp(adv_images - original_images, min=-eps, max=eps)\n",
    "        images = torch.clamp(original_images + eta, min=0, max=1).detach_()\n",
    "        \n",
    "    if details: print(\"____________________________________________ BEFORE PERTURBATION\")\n",
    "    if details: displayImage(original_images, 0)\n",
    "    if details: print(\"TRUE LABEL:\" + str(true_labels[0]))\n",
    "        \n",
    "    targeted_label, _ = cnn_model(images)\n",
    "    \n",
    "    if details: print(\"____________________________________________ AFTER PERTURBATION (TARGETTED)\")\n",
    "    if details: displayImage(images, 0)\n",
    "    if details: print(\"CNN RESULT:\" + str(targeted_label[0]))\n",
    "    \n",
    "    # DO NOT ALLOW TO CHOOSE TRUE LABEL\n",
    "    targeted_label = [elem.detach().numpy() for elem in targeted_label]\n",
    "    targeted_label = [removeTrueLabelFromTensor(targeted_label[i], true_labels[i]) for i in range(len(targeted_label))]\n",
    "    targeted_label = torch.Tensor(targeted_label)\n",
    "    targeted_label = torch.max(targeted_label, 1)[1].data.squeeze()\n",
    "    \n",
    "    if details: print(\"AKA: \"+str(targeted_label[0]))\n",
    "            \n",
    "    return (loss, images, targeted_label)"
   ]
  },
  {
   "cell_type": "markdown",
   "metadata": {},
   "source": [
    "### Example"
   ]
  },
  {
   "cell_type": "code",
   "execution_count": 86,
   "metadata": {},
   "outputs": [],
   "source": [
    "cnn_pgd = CNN1()\n",
    "optimizer_pgd = optim.Adam(cnn_pgd.parameters(), lr = LEARNING_RATE)"
   ]
  },
  {
   "cell_type": "code",
   "execution_count": 87,
   "metadata": {},
   "outputs": [
    {
     "name": "stdout",
     "output_type": "stream",
     "text": [
      "Epoch [1/2], Progress [200/600], Loss: 0.0033\n",
      "Epoch [1/2], Progress [400/600], Loss: 0.0001\n",
      "Epoch [1/2], Progress [600/600], Loss: 0.0000\n",
      "Epoch [2/2], Progress [200/600], Loss: 0.0029\n",
      "Epoch [2/2], Progress [400/600], Loss: 0.0000\n",
      "Epoch [2/2], Progress [600/600], Loss: 0.0000\n"
     ]
    }
   ],
   "source": [
    "(original_images_pgd, avd_img_pgd, avd_lab_pgd, \n",
    " train_loss_pgd, train_acc_pgd, adv_loss_pgd, adv_acc_pgd) = pgd_train(cnn_pgd, data_loaders, optimizer_pgd, targeted_pgd_attack)"
   ]
  },
  {
   "cell_type": "code",
   "execution_count": 88,
   "metadata": {},
   "outputs": [
    {
     "name": "stdout",
     "output_type": "stream",
     "text": [
      "Accuracy on Adversarial Examples: [0.19, 1.0, 1.0]\n",
      "Accuracy on Original Training data: [0.19, 0.11, 0.08]\n"
     ]
    }
   ],
   "source": [
    "print(\"Accuracy on Adversarial Examples: \"+str(adv_acc_pgd))\n",
    "print(\"Accuracy on Original Training data: \"+str(train_acc_pgd))"
   ]
  },
  {
   "cell_type": "markdown",
   "metadata": {},
   "source": [
    "### Example of Images Produced by Targeted PGD"
   ]
  },
  {
   "cell_type": "code",
   "execution_count": 89,
   "metadata": {},
   "outputs": [],
   "source": [
    "for i, (training_data, training_label) in enumerate(data_loaders['train']):  \n",
    "    if i in [0]:\n",
    "        ex_train_img = training_data\n",
    "        ex_train_lab = training_label\n",
    "\n",
    "(_, adv_image_1_pgd, adv_label_1_pgd) = targeted_pgd_attack(cnn_pgd, ex_train_img, ex_train_lab, eps=0.3, alpha=0.01, iterations=1)\n",
    "(_, adv_image_40_pgd, adv_label_40_pgd) = targeted_pgd_attack(cnn_pgd, ex_train_img, ex_train_lab, eps=0.3, alpha=0.01, iterations=40)"
   ]
  },
  {
   "cell_type": "code",
   "execution_count": 91,
   "metadata": {},
   "outputs": [
    {
     "data": {
      "image/png": "[encoded data removed]",
      "text/plain": [
       "<Figure size 432x288 with 1 Axes>"
      ]
     },
     "metadata": {
      "needs_background": "light"
     },
     "output_type": "display_data"
    },
    {
     "name": "stdout",
     "output_type": "stream",
     "text": [
      "tensor(4)\n"
     ]
    }
   ],
   "source": [
    "displayImage(ex_train_img, 0)\n",
    "\n",
    "print(ex_train_lab[0])"
   ]
  },
  {
   "cell_type": "code",
   "execution_count": 92,
   "metadata": {},
   "outputs": [
    {
     "data": {
      "image/png": "[encoded data removed]",
      "text/plain": [
       "<Figure size 432x288 with 1 Axes>"
      ]
     },
     "metadata": {
      "needs_background": "light"
     },
     "output_type": "display_data"
    },
    {
     "name": "stdout",
     "output_type": "stream",
     "text": [
      "tensor(1)\n"
     ]
    }
   ],
   "source": [
    "displayImage(adv_image_1_pgd, 0)\n",
    "\n",
    "print(adv_label_1_pgd[0])"
   ]
  },
  {
   "cell_type": "code",
   "execution_count": 93,
   "metadata": {},
   "outputs": [
    {
     "data": {
      "image/png": "[encoded data removed]",
      "text/plain": [
       "<Figure size 432x288 with 1 Axes>"
      ]
     },
     "metadata": {
      "needs_background": "light"
     },
     "output_type": "display_data"
    },
    {
     "name": "stdout",
     "output_type": "stream",
     "text": [
      "tensor(1)\n"
     ]
    }
   ],
   "source": [
    "displayImage(adv_image_40_pgd, 0)\n",
    "\n",
    "print(adv_label_40_pgd[0])"
   ]
  },
  {
   "cell_type": "code",
   "execution_count": 94,
   "metadata": {},
   "outputs": [
    {
     "data": {
      "text/plain": [
       "tensor([[[ True,  True,  True,  True,  True,  True,  True,  True,  True,  True,\n",
       "           True,  True,  True,  True, False, False,  True,  True,  True,  True,\n",
       "           True,  True,  True,  True,  True,  True,  True,  True],\n",
       "         [ True,  True,  True,  True,  True,  True,  True,  True,  True,  True,\n",
       "           True,  True,  True,  True, False,  True,  True,  True,  True,  True,\n",
       "           True,  True,  True,  True,  True,  True,  True,  True],\n",
       "         [ True,  True,  True,  True,  True,  True,  True,  True,  True,  True,\n",
       "           True,  True,  True,  True, False,  True,  True,  True,  True,  True,\n",
       "           True,  True,  True,  True,  True,  True,  True,  True],\n",
       "         [ True,  True,  True,  True,  True,  True,  True,  True,  True,  True,\n",
       "           True,  True,  True,  True, False,  True,  True,  True,  True, False,\n",
       "           True,  True,  True,  True,  True,  True,  True,  True],\n",
       "         [False,  True,  True,  True,  True,  True,  True,  True,  True,  True,\n",
       "           True,  True,  True,  True, False,  True, False, False, False, False,\n",
       "          False,  True,  True,  True,  True,  True,  True,  True],\n",
       "         [False,  True,  True,  True,  True,  True,  True,  True,  True,  True,\n",
       "           True,  True,  True, False, False,  True, False, False, False, False,\n",
       "          False,  True,  True,  True,  True,  True,  True,  True],\n",
       "         [False,  True,  True,  True,  True,  True,  True,  True,  True,  True,\n",
       "           True,  True, False, False, False, False, False, False,  True,  True,\n",
       "           True,  True,  True,  True,  True,  True,  True,  True],\n",
       "         [False,  True,  True,  True,  True,  True,  True,  True,  True,  True,\n",
       "           True, False,  True,  True, False, False, False, False,  True,  True,\n",
       "           True,  True,  True,  True,  True,  True,  True,  True],\n",
       "         [ True,  True,  True,  True,  True,  True,  True,  True,  True, False,\n",
       "          False,  True,  True,  True, False, False, False, False,  True,  True,\n",
       "           True,  True,  True,  True,  True,  True,  True,  True],\n",
       "         [ True,  True,  True,  True,  True,  True,  True,  True, False, False,\n",
       "           True,  True,  True,  True, False, False, False,  True,  True,  True,\n",
       "           True,  True,  True,  True,  True,  True,  True,  True],\n",
       "         [ True,  True,  True,  True,  True,  True,  True,  True, False, False,\n",
       "           True,  True,  True,  True,  True, False, False,  True,  True,  True,\n",
       "           True,  True,  True,  True,  True,  True,  True,  True],\n",
       "         [ True,  True,  True,  True,  True,  True,  True,  True, False, False,\n",
       "           True,  True,  True,  True, False, False, False,  True,  True,  True,\n",
       "           True,  True,  True,  True,  True,  True,  True,  True],\n",
       "         [ True,  True,  True,  True,  True,  True,  True,  True, False, False,\n",
       "           True,  True,  True, False, False, False,  True,  True,  True,  True,\n",
       "           True,  True,  True,  True,  True,  True,  True,  True],\n",
       "         [ True,  True,  True,  True,  True,  True,  True, False, False, False,\n",
       "           True,  True,  True, False, False, False,  True,  True,  True,  True,\n",
       "           True,  True,  True,  True,  True,  True,  True,  True],\n",
       "         [ True,  True,  True,  True,  True,  True,  True, False, False, False,\n",
       "           True,  True, False, False, False, False,  True,  True, False, False,\n",
       "          False, False, False,  True,  True,  True,  True,  True],\n",
       "         [ True,  True,  True,  True,  True,  True,  True, False, False, False,\n",
       "          False, False, False, False, False, False, False, False, False, False,\n",
       "          False, False,  True,  True,  True,  True,  True,  True],\n",
       "         [ True,  True,  True,  True,  True,  True,  True, False, False, False,\n",
       "          False, False, False, False, False, False, False, False, False, False,\n",
       "          False, False,  True,  True,  True,  True,  True,  True],\n",
       "         [False,  True,  True,  True,  True,  True,  True, False, False, False,\n",
       "          False, False, False, False, False, False, False, False, False, False,\n",
       "           True,  True,  True,  True,  True,  True,  True,  True],\n",
       "         [ True,  True,  True,  True,  True,  True,  True,  True, False, False,\n",
       "          False, False, False, False, False, False, False, False,  True,  True,\n",
       "           True,  True,  True,  True,  True,  True,  True,  True],\n",
       "         [ True,  True,  True,  True,  True,  True,  True,  True,  True,  True,\n",
       "          False, False, False, False, False, False,  True,  True,  True,  True,\n",
       "           True,  True,  True,  True,  True,  True,  True,  True],\n",
       "         [ True,  True,  True,  True,  True,  True,  True,  True,  True,  True,\n",
       "           True,  True,  True, False,  True, False,  True,  True,  True,  True,\n",
       "           True,  True,  True,  True,  True,  True,  True,  True],\n",
       "         [ True,  True,  True,  True,  True,  True,  True,  True,  True,  True,\n",
       "           True,  True,  True, False, False, False,  True,  True,  True,  True,\n",
       "           True,  True,  True,  True,  True,  True,  True,  True],\n",
       "         [False,  True,  True,  True,  True,  True,  True,  True,  True,  True,\n",
       "           True,  True,  True,  True, False, False,  True,  True,  True,  True,\n",
       "           True,  True,  True,  True,  True,  True,  True,  True],\n",
       "         [False,  True,  True,  True,  True,  True,  True,  True,  True,  True,\n",
       "           True,  True,  True, False, False, False,  True,  True,  True,  True,\n",
       "           True,  True,  True,  True,  True,  True,  True,  True],\n",
       "         [False,  True,  True,  True,  True,  True,  True,  True,  True,  True,\n",
       "           True,  True,  True,  True, False, False,  True,  True,  True,  True,\n",
       "           True,  True,  True,  True,  True,  True,  True,  True],\n",
       "         [False,  True,  True,  True,  True,  True,  True,  True,  True,  True,\n",
       "           True,  True,  True,  True, False, False,  True,  True,  True,  True,\n",
       "           True,  True,  True,  True,  True,  True,  True,  True],\n",
       "         [False,  True,  True,  True,  True,  True,  True,  True,  True,  True,\n",
       "           True,  True,  True,  True, False, False,  True,  True,  True,  True,\n",
       "           True,  True,  True,  True,  True,  True,  True,  True],\n",
       "         [False,  True,  True,  True,  True,  True,  True,  True,  True,  True,\n",
       "           True,  True,  True,  True, False, False,  True,  True,  True,  True,\n",
       "           True,  True,  True,  True,  True,  True,  True,  True]]])"
      ]
     },
     "execution_count": 94,
     "metadata": {},
     "output_type": "execute_result"
    }
   ],
   "source": [
    "torch.eq(ex_train_img[0], adv_image_40_pgd[0]) #ALTHOUGH IMPERSEPTIBLE TO HUMAN EYE, STILL HAS A LOT OF DIFFERENCES IN VALUES"
   ]
  },
  {
   "cell_type": "markdown",
   "metadata": {},
   "source": [
    "## Evaluating on Test Data"
   ]
  },
  {
   "cell_type": "code",
   "execution_count": 95,
   "metadata": {},
   "outputs": [],
   "source": [
    "def pgd_test(cnn_model, data_load, pgd_function, eps=0.3, alpha=0.01, iterations=1, details=False):\n",
    "    \n",
    "    (_, test_accuracy) = getLossAccuracy(cnn_model, data_load, 'test', details=False)\n",
    "    \n",
    "    if eps == 0:\n",
    "        \n",
    "        pgd_accuracy = test_accuracy\n",
    "        \n",
    "    else:        \n",
    "        adversarial_images = torch.empty(0,)\n",
    "        adversarial_labels = torch.empty(0,)\n",
    "    \n",
    "        total_step = len(data_load['test'])\n",
    "\n",
    "        for i, (testing_images, true_value) in enumerate(data_load['test']): \n",
    "            \n",
    "            (_, perturbed_imgs, pgd_label) = pgd_function(cnn_model, testing_images, true_value, eps, alpha, iterations)\n",
    "            adversarial_images = torch.cat((adversarial_images, perturbed_imgs), 0)\n",
    "            adversarial_labels = torch.cat((adversarial_labels, pgd_label), 0)\n",
    "            \n",
    "        (_, pgd_accuracy) = getLossAccuracyAdversarial(cnn_model, adversarial_images, adversarial_labels)\n",
    "    \n",
    "    if details: print('Accuracy on original Test Set: %.5f' % test_accuracy)\n",
    "    if details: print('Accuracy of Perturbed Test Set: %.5f' % pgd_accuracy)\n",
    "        \n",
    "    return (test_accuracy, pgd_accuracy)"
   ]
  },
  {
   "cell_type": "markdown",
   "metadata": {},
   "source": [
    "### Example"
   ]
  },
  {
   "cell_type": "code",
   "execution_count": 96,
   "metadata": {},
   "outputs": [
    {
     "name": "stdout",
     "output_type": "stream",
     "text": [
      "Accuracy on original Test Set: 0.97000\n",
      "Accuracy of Perturbed Test Set: 0.97540\n"
     ]
    }
   ],
   "source": [
    "(test_acc, adv_test_acc) = pgd_test(cnn_unpgd, data_loaders, untargeted_pgd_attack, details=True) #UNTARGETED"
   ]
  },
  {
   "cell_type": "code",
   "execution_count": 97,
   "metadata": {},
   "outputs": [
    {
     "name": "stdout",
     "output_type": "stream",
     "text": [
      "Accuracy on original Test Set: 0.14000\n",
      "Accuracy of Perturbed Test Set: 1.00000\n"
     ]
    }
   ],
   "source": [
    "(test_acc_pgd, adv_test_acc_pgd) = pgd_test(cnn_pgd, data_loaders, targeted_pgd_attack, details=True) #TARGETED"
   ]
  },
  {
   "cell_type": "code",
   "execution_count": null,
   "metadata": {},
   "outputs": [],
   "source": []
  }
 ],
 "metadata": {
  "kernelspec": {
   "display_name": "Python 3",
   "language": "python",
   "name": "python3"
  },
  "language_info": {
   "codemirror_mode": {
    "name": "ipython",
    "version": 3
   },
   "file_extension": ".py",
   "mimetype": "text/x-python",
   "name": "python",
   "nbconvert_exporter": "python",
   "pygments_lexer": "ipython3",
   "version": "3.8.5"
  }
 },
 "nbformat": 4,
 "nbformat_minor": 4
}
