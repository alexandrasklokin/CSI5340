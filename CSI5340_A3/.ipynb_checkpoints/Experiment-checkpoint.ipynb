{
 "cells": [
  {
   "cell_type": "code",
   "execution_count": 45,
   "metadata": {},
   "outputs": [],
   "source": [
    "import numpy as np\n",
    "import time\n",
    "import sys\n",
    "import matplotlib.pyplot as plt\n",
    "import torch\n",
    "import torch.nn as nn\n",
    "import tensorflow as tf\n",
    "import torchvision\n",
    "import torch\n",
    "import pandas as pd\n",
    "from torchsummary import summary\n",
    "from matplotlib.pyplot import figure\n",
    "\n",
    "from sklearn.metrics import accuracy_score\n",
    "\n",
    "from torch.utils.data import DataLoader\n",
    "from torch import optim\n",
    "from torch.autograd import Variable"
   ]
  },
  {
   "cell_type": "markdown",
   "metadata": {},
   "source": [
    "# IMPORTING FUNCTIONS"
   ]
  },
  {
   "cell_type": "code",
   "execution_count": 2,
   "metadata": {},
   "outputs": [],
   "source": [
    "from CNN_PGD import *"
   ]
  },
  {
   "cell_type": "markdown",
   "metadata": {},
   "source": [
    "# IMPORTING DATA"
   ]
  },
  {
   "cell_type": "code",
   "execution_count": 3,
   "metadata": {},
   "outputs": [],
   "source": [
    "from torchvision import datasets\n",
    "from torchvision.transforms import ToTensor\n",
    "\n",
    "training_data = datasets.MNIST(\n",
    "    root = 'data',\n",
    "    train = True,                         \n",
    "    transform = ToTensor(),\n",
    ")\n",
    "\n",
    "testing_data = datasets.MNIST(\n",
    "    root = 'data', \n",
    "    train = False, \n",
    "    transform = ToTensor()\n",
    ")"
   ]
  },
  {
   "cell_type": "code",
   "execution_count": 4,
   "metadata": {},
   "outputs": [],
   "source": [
    "BATCH_SIZE = 100\n",
    "\n",
    "data_loaders = {\n",
    "    'train' : DataLoader(training_data, batch_size=BATCH_SIZE, shuffle=True, num_workers=1),\n",
    "    'test'  : DataLoader(testing_data, batch_size=BATCH_SIZE, shuffle=True, num_workers=1),\n",
    "}"
   ]
  },
  {
   "cell_type": "markdown",
   "metadata": {},
   "source": [
    "# CNN MODEL"
   ]
  },
  {
   "cell_type": "code",
   "execution_count": 5,
   "metadata": {},
   "outputs": [
    {
     "name": "stdout",
     "output_type": "stream",
     "text": [
      "----------------------------------------------------------------\n",
      "        Layer (type)               Output Shape         Param #\n",
      "================================================================\n",
      "            Conv2d-1            [-1, 8, 28, 28]             208\n",
      "              ReLU-2            [-1, 8, 28, 28]               0\n",
      "         MaxPool2d-3            [-1, 8, 14, 14]               0\n",
      "            Conv2d-4           [-1, 16, 14, 14]           3,216\n",
      "              ReLU-5           [-1, 16, 14, 14]               0\n",
      "         MaxPool2d-6             [-1, 16, 7, 7]               0\n",
      "            Linear-7                  [-1, 150]         117,750\n",
      "              ReLU-8                  [-1, 150]               0\n",
      "            Linear-9                  [-1, 150]          22,650\n",
      "             ReLU-10                  [-1, 150]               0\n",
      "           Linear-11                   [-1, 10]           1,510\n",
      "================================================================\n",
      "Total params: 145,334\n",
      "Trainable params: 145,334\n",
      "Non-trainable params: 0\n",
      "----------------------------------------------------------------\n",
      "Input size (MB): 0.00\n",
      "Forward/backward pass size (MB): 0.17\n",
      "Params size (MB): 0.55\n",
      "Estimated Total Size (MB): 0.72\n",
      "----------------------------------------------------------------\n"
     ]
    }
   ],
   "source": [
    "example_model = CNN()\n",
    "\n",
    "summary(example_model, (1,28,28))"
   ]
  },
  {
   "cell_type": "markdown",
   "metadata": {},
   "source": [
    "# PARAMETERS"
   ]
  },
  {
   "cell_type": "code",
   "execution_count": 10,
   "metadata": {},
   "outputs": [],
   "source": [
    "# CNN Training Params\n",
    "EPOCHS = 10\n",
    "LEARNING_RATE = 0.0005\n",
    "\n",
    "# Testing\n",
    "epses = [0, 0.1, 0.2, 0.3, 0.45]\n",
    "TESTING_ITERATIONS = 40\n",
    "TESTING_ALPHA = 0.01"
   ]
  },
  {
   "cell_type": "markdown",
   "metadata": {},
   "source": [
    "# BASELINE"
   ]
  },
  {
   "cell_type": "code",
   "execution_count": 11,
   "metadata": {},
   "outputs": [
    {
     "name": "stdout",
     "output_type": "stream",
     "text": [
      "Epoch [1/10], Progress [200/600], Loss: 0.2869\n",
      "Epoch [1/10], Progress [400/600], Loss: 0.1357\n",
      "Epoch [1/10], Progress [600/600], Loss: 0.1074\n",
      "Epoch [2/10], Progress [200/600], Loss: 0.0887\n",
      "Epoch [2/10], Progress [400/600], Loss: 0.1993\n",
      "Epoch [2/10], Progress [600/600], Loss: 0.0937\n",
      "Epoch [3/10], Progress [200/600], Loss: 0.0271\n",
      "Epoch [3/10], Progress [400/600], Loss: 0.1347\n",
      "Epoch [3/10], Progress [600/600], Loss: 0.0578\n",
      "Epoch [4/10], Progress [200/600], Loss: 0.0882\n",
      "Epoch [4/10], Progress [400/600], Loss: 0.0518\n",
      "Epoch [4/10], Progress [600/600], Loss: 0.0691\n",
      "Epoch [5/10], Progress [200/600], Loss: 0.0792\n",
      "Epoch [5/10], Progress [400/600], Loss: 0.0316\n",
      "Epoch [5/10], Progress [600/600], Loss: 0.0127\n",
      "Epoch [6/10], Progress [200/600], Loss: 0.0094\n",
      "Epoch [6/10], Progress [400/600], Loss: 0.0132\n",
      "Epoch [6/10], Progress [600/600], Loss: 0.0353\n",
      "Epoch [7/10], Progress [200/600], Loss: 0.0243\n",
      "Epoch [7/10], Progress [400/600], Loss: 0.0389\n",
      "Epoch [7/10], Progress [600/600], Loss: 0.0169\n",
      "Epoch [8/10], Progress [200/600], Loss: 0.0154\n",
      "Epoch [8/10], Progress [400/600], Loss: 0.0201\n",
      "Epoch [8/10], Progress [600/600], Loss: 0.0470\n",
      "Epoch [9/10], Progress [200/600], Loss: 0.1129\n",
      "Epoch [9/10], Progress [400/600], Loss: 0.0324\n",
      "Epoch [9/10], Progress [600/600], Loss: 0.0143\n",
      "Epoch [10/10], Progress [200/600], Loss: 0.0151\n",
      "Epoch [10/10], Progress [400/600], Loss: 0.0701\n",
      "Epoch [10/10], Progress [600/600], Loss: 0.0125\n"
     ]
    }
   ],
   "source": [
    "# TRAINING\n",
    "\n",
    "classifier_baseline = CNN()\n",
    "optimizer_baseline = optim.Adam(classifier_baseline.parameters(), lr = LEARNING_RATE)\n",
    "\n",
    "(train_loss_baseline, train_accuracy_baseline) = train(cnn_model = classifier_baseline, \n",
    "                                                       data_load = data_loaders, \n",
    "                                                       optim = optimizer_baseline,\n",
    "                                                       EPOCHS = EPOCHS)"
   ]
  },
  {
   "cell_type": "code",
   "execution_count": 15,
   "metadata": {},
   "outputs": [],
   "source": [
    "def targeted_pgd_attack(cnn_model, images, true_labels, eps, alpha, iterations, details=False):\n",
    "    \n",
    "    original_images = images.data\n",
    "    \n",
    "    for j in range(iterations):\n",
    "\n",
    "        images.requires_grad = True\n",
    "        (pred_label, _) = cnn_model(images)\n",
    "        \n",
    "        loss = LOSS_FUNCTION(pred_label, true_labels)\n",
    "        loss.backward()\n",
    "\n",
    "        adv_images = images + alpha * images.grad.sign()\n",
    "        eta = torch.clamp(adv_images - original_images, min=-eps, max=eps)\n",
    "        images = torch.clamp(original_images + eta, min=0, max=1).detach_()\n",
    "        \n",
    "    if details: print(\"____________________________________________ BEFORE PERTURBATION\")\n",
    "    if details: displayImage(original_images, 0)\n",
    "    if details: print(\"TRUE LABEL:\" + str(true_labels[0]))\n",
    "        \n",
    "    targeted_label, _ = cnn_model(images)\n",
    "    \n",
    "    if details: print(\"____________________________________________ AFTER PERTURBATION (TARGETTED)\")\n",
    "    if details: displayImage(images, 0)\n",
    "    if details: print(\"CNN RESULT:\" + str(targeted_label[0]))\n",
    "    \n",
    "    # DO NOT ALLOW TO CHOOSE TRUE LABEL\n",
    "    targeted_label = [elem.detach().numpy() for elem in targeted_label]\n",
    "    targeted_label = [removeTrueLabelFromTensor(targeted_label[i], true_labels[i]) for i in range(len(targeted_label))]\n",
    "    targeted_label = torch.Tensor(np.array(targeted_label))\n",
    "    targeted_label = torch.max(targeted_label, 1)[1].data.squeeze()\n",
    "    \n",
    "    if details: print(\"AKA: \"+str(targeted_label[0]))\n",
    "            \n",
    "    return (loss, images, targeted_label)\n"
   ]
  },
  {
   "cell_type": "code",
   "execution_count": 17,
   "metadata": {},
   "outputs": [
    {
     "name": "stdout",
     "output_type": "stream",
     "text": [
      "_____________________________________________ EPS:0\n",
      "___________ UNTARGETED:\n",
      "Accuracy on original Test Set: 0.97000\n",
      "Accuracy of Perturbed Test Set: 0.97000\n",
      "___________ TARGETED:\n",
      "Accuracy on original Test Set: 0.99000\n",
      "Accuracy of Perturbed Test Set: 0.99000\n",
      "_____________________________________________ EPS:0.1\n",
      "___________ UNTARGETED:\n",
      "Accuracy on original Test Set: 0.96000\n",
      "Accuracy of Perturbed Test Set: 0.34210\n",
      "___________ TARGETED:\n",
      "Accuracy on original Test Set: 0.99000\n",
      "Accuracy of Perturbed Test Set: 0.65790\n",
      "_____________________________________________ EPS:0.2\n",
      "___________ UNTARGETED:\n",
      "Accuracy on original Test Set: 0.99000\n",
      "Accuracy of Perturbed Test Set: 0.00370\n",
      "___________ TARGETED:\n",
      "Accuracy on original Test Set: 0.99000\n",
      "Accuracy of Perturbed Test Set: 0.99630\n",
      "_____________________________________________ EPS:0.3\n",
      "___________ UNTARGETED:\n",
      "Accuracy on original Test Set: 0.99000\n",
      "Accuracy of Perturbed Test Set: 0.00000\n",
      "___________ TARGETED:\n",
      "Accuracy on original Test Set: 0.99000\n",
      "Accuracy of Perturbed Test Set: 1.00000\n",
      "_____________________________________________ EPS:0.45\n",
      "___________ UNTARGETED:\n",
      "Accuracy on original Test Set: 0.99000\n",
      "Accuracy of Perturbed Test Set: 0.00000\n",
      "___________ TARGETED:\n",
      "Accuracy on original Test Set: 0.98000\n",
      "Accuracy of Perturbed Test Set: 1.00000\n"
     ]
    }
   ],
   "source": [
    "# TESTING\n",
    "\n",
    "baseline_test = []\n",
    "baseline_targeted = []\n",
    "baseline_untargeted = []\n",
    "\n",
    "for test_eps in epses:\n",
    "    \n",
    "    print(\"_____________________________________________ EPS:\"+str(test_eps))\n",
    "    \n",
    "    print(\"___________ UNTARGETED:\")\n",
    "\n",
    "    (testing_acc, untargeted_acc) = pgd_test(cnn_model = classifier_baseline, \n",
    "                                                          data_load = data_loaders, \n",
    "                                                          pgd_function = untargeted_pgd_attack, \n",
    "                                                          eps = test_eps, \n",
    "                                                          alpha = TESTING_ALPHA,\n",
    "                                                          iterations = TESTING_ITERATIONS,\n",
    "                                                          details=True)\n",
    "    \n",
    "    print(\"___________ TARGETED:\")\n",
    "    \n",
    "    (_, targeted_acc) = pgd_test(cnn_model = classifier_baseline, \n",
    "                                                          data_load = data_loaders, \n",
    "                                                          pgd_function = targeted_pgd_attack, \n",
    "                                                          eps = test_eps, \n",
    "                                                          alpha = TESTING_ALPHA,\n",
    "                                                          iterations = TESTING_ITERATIONS,\n",
    "                                                          details=True)\n",
    "    \n",
    "    baseline_test.append(testing_acc)\n",
    "    baseline_untargeted.append(untargeted_acc)\n",
    "    baseline_targeted.append(targeted_acc)"
   ]
  },
  {
   "cell_type": "code",
   "execution_count": 18,
   "metadata": {},
   "outputs": [],
   "source": [
    "# SAVE DATA TO EXCEL\n",
    "\n",
    "data = {}\n",
    "\n",
    "for i, (test, untarget, target) in enumerate(zip(baseline_test, baseline_untargeted, baseline_targeted)):\n",
    "    data['Testing_eps'+str(epses[i])] = [test, untarget, target]\n",
    "    \n",
    "df_baseline = pd.DataFrame(data, index=['Original_Test', 'Untargetted', 'Targetted'])\n",
    "df_baseline = df_baseline.transpose()\n",
    "df_baseline.to_csv(\"output\\Classifier_Baseline_Test.csv\")\n",
    "\n",
    "data = {}\n",
    "\n",
    "for i, (loss, acc) in enumerate(zip(train_loss_baseline, train_accuracy_baseline)):\n",
    "    data['Training_epoch'+str(i)] = [loss, acc]\n",
    "\n",
    "df_baseline = pd.DataFrame(data, index=['Training_Loss', 'Training_Accuracy'])\n",
    "df_baseline = df_baseline.transpose()\n",
    "df_baseline.to_csv(\"output\\Classifier_Baseline_Train.csv\")"
   ]
  },
  {
   "cell_type": "markdown",
   "metadata": {},
   "source": [
    "# FIRST CLASSIFIER"
   ]
  },
  {
   "cell_type": "code",
   "execution_count": 25,
   "metadata": {},
   "outputs": [],
   "source": [
    "# PARAMETERS (for PGD)\n",
    "\n",
    "eps = 0.3\n",
    "alpha = 0.02\n",
    "iterations = 20"
   ]
  },
  {
   "cell_type": "code",
   "execution_count": 26,
   "metadata": {},
   "outputs": [],
   "source": [
    "classifier_one = CNN()\n",
    "optimizer_one = optim.Adam(classifier_one.parameters(), lr = LEARNING_RATE)  "
   ]
  },
  {
   "cell_type": "code",
   "execution_count": 27,
   "metadata": {},
   "outputs": [
    {
     "name": "stdout",
     "output_type": "stream",
     "text": [
      "Epoch [1/10], Progress [200/600], Loss: 2.3095\n",
      "Epoch [1/10], Progress [400/600], Loss: 2.1268\n",
      "Epoch [1/10], Progress [600/600], Loss: 1.4822\n",
      "Epoch [2/10], Progress [200/600], Loss: 1.4099\n",
      "Epoch [2/10], Progress [400/600], Loss: 1.1119\n",
      "Epoch [2/10], Progress [600/600], Loss: 1.2881\n",
      "Epoch [3/10], Progress [200/600], Loss: 0.7786\n",
      "Epoch [3/10], Progress [400/600], Loss: 0.8214\n",
      "Epoch [3/10], Progress [600/600], Loss: 0.7664\n",
      "Epoch [4/10], Progress [200/600], Loss: 0.7450\n",
      "Epoch [4/10], Progress [400/600], Loss: 0.7474\n",
      "Epoch [4/10], Progress [600/600], Loss: 1.0180\n",
      "Epoch [5/10], Progress [200/600], Loss: 0.7492\n",
      "Epoch [5/10], Progress [400/600], Loss: 0.5517\n",
      "Epoch [5/10], Progress [600/600], Loss: 0.8863\n",
      "Epoch [6/10], Progress [200/600], Loss: 0.7863\n",
      "Epoch [6/10], Progress [400/600], Loss: 0.6018\n",
      "Epoch [6/10], Progress [600/600], Loss: 0.7035\n",
      "Epoch [7/10], Progress [200/600], Loss: 0.4814\n",
      "Epoch [7/10], Progress [400/600], Loss: 0.4381\n",
      "Epoch [7/10], Progress [600/600], Loss: 0.4447\n",
      "Epoch [8/10], Progress [200/600], Loss: 0.5931\n",
      "Epoch [8/10], Progress [400/600], Loss: 0.4589\n",
      "Epoch [8/10], Progress [600/600], Loss: 0.6541\n",
      "Epoch [9/10], Progress [200/600], Loss: 0.5011\n",
      "Epoch [9/10], Progress [400/600], Loss: 0.5603\n",
      "Epoch [9/10], Progress [600/600], Loss: 0.4068\n",
      "Epoch [10/10], Progress [200/600], Loss: 0.6171\n",
      "Epoch [10/10], Progress [400/600], Loss: 0.3928\n",
      "Epoch [10/10], Progress [600/600], Loss: 0.4355\n"
     ]
    }
   ],
   "source": [
    "# TRAINING\n",
    "\n",
    "(one_orginal_images, one_pgd_images, one_pgd_labels, \n",
    " one_training_loss, one_training_accuracy, \n",
    " one_adv_training_loss, one_adv_training_accuracy) = pgd_train(cnn_model = classifier_one, \n",
    "                                                               data_load = data_loaders, \n",
    "                                                               optim = optimizer_one, \n",
    "                                                               pgd_function = untargeted_pgd_attack, \n",
    "                                                               EPOCHS = EPOCHS, \n",
    "                                                               eps = eps, \n",
    "                                                               alpha = alpha,\n",
    "                                                               iterations = iterations)"
   ]
  },
  {
   "cell_type": "code",
   "execution_count": 28,
   "metadata": {},
   "outputs": [
    {
     "name": "stdout",
     "output_type": "stream",
     "text": [
      "_____________________________________________ EPS:0\n",
      "___________ UNTARGETED:\n",
      "Accuracy on original Test Set: 0.95000\n",
      "Accuracy of Perturbed Test Set: 0.95000\n",
      "___________ TARGETED:\n",
      "Accuracy on original Test Set: 0.98000\n",
      "Accuracy of Perturbed Test Set: 0.98000\n",
      "_____________________________________________ EPS:0.1\n",
      "___________ UNTARGETED:\n",
      "Accuracy on original Test Set: 0.97000\n",
      "Accuracy of Perturbed Test Set: 0.94410\n",
      "___________ TARGETED:\n",
      "Accuracy on original Test Set: 0.96000\n",
      "Accuracy of Perturbed Test Set: 0.05590\n",
      "_____________________________________________ EPS:0.2\n",
      "___________ UNTARGETED:\n",
      "Accuracy on original Test Set: 0.98000\n",
      "Accuracy of Perturbed Test Set: 0.90260\n",
      "___________ TARGETED:\n",
      "Accuracy on original Test Set: 0.97000\n",
      "Accuracy of Perturbed Test Set: 0.09740\n",
      "_____________________________________________ EPS:0.3\n",
      "___________ UNTARGETED:\n",
      "Accuracy on original Test Set: 0.97000\n",
      "Accuracy of Perturbed Test Set: 0.84250\n",
      "___________ TARGETED:\n",
      "Accuracy on original Test Set: 1.00000\n",
      "Accuracy of Perturbed Test Set: 0.15750\n",
      "_____________________________________________ EPS:0.45\n",
      "___________ UNTARGETED:\n",
      "Accuracy on original Test Set: 0.94000\n",
      "Accuracy of Perturbed Test Set: 0.27180\n",
      "___________ TARGETED:\n",
      "Accuracy on original Test Set: 0.97000\n",
      "Accuracy of Perturbed Test Set: 0.72820\n"
     ]
    }
   ],
   "source": [
    "# TESTING\n",
    "\n",
    "one_test = []\n",
    "one_targeted = []\n",
    "one_untargeted = []\n",
    "\n",
    "for test_eps in epses:\n",
    "    \n",
    "    print(\"_____________________________________________ EPS:\"+str(test_eps))\n",
    "    \n",
    "    print(\"___________ UNTARGETED:\")\n",
    "\n",
    "    (testing_acc, untargeted_acc) = pgd_test(cnn_model = classifier_one, \n",
    "                                                          data_load = data_loaders, \n",
    "                                                          pgd_function = untargeted_pgd_attack, \n",
    "                                                          eps = test_eps, \n",
    "                                                          alpha = TESTING_ALPHA,\n",
    "                                                          iterations = TESTING_ITERATIONS,\n",
    "                                                          details=True)\n",
    "    \n",
    "    print(\"___________ TARGETED:\")\n",
    "    \n",
    "    (_, targeted_acc) = pgd_test(cnn_model = classifier_one, \n",
    "                                                          data_load = data_loaders, \n",
    "                                                          pgd_function = targeted_pgd_attack, \n",
    "                                                          eps = test_eps, \n",
    "                                                          alpha = TESTING_ALPHA,\n",
    "                                                          iterations = TESTING_ITERATIONS,\n",
    "                                                          details=True)\n",
    "    \n",
    "    one_test.append(testing_acc)\n",
    "    one_untargeted.append(untargeted_acc)\n",
    "    one_targeted.append(targeted_acc)"
   ]
  },
  {
   "cell_type": "code",
   "execution_count": 29,
   "metadata": {},
   "outputs": [],
   "source": [
    "# SAVE DATA TO EXCEL\n",
    "\n",
    "data = {}\n",
    "\n",
    "for i, (test, untarget, target) in enumerate(zip(one_test, one_untargeted, one_targeted)):\n",
    "    data['Testing_eps'+str(epses[i])] = [test, untarget, target]\n",
    "    \n",
    "df_one = pd.DataFrame(data, index=['Original_Test', 'Untargetted', 'Targetted'])\n",
    "df_one = df_one.transpose()\n",
    "df_one.to_csv(\"output\\Classifier_One_Test.csv\")\n",
    "\n",
    "data = {}\n",
    "\n",
    "for i, (loss, acc, adv_loss, adv_acc) in enumerate(zip(one_training_loss, one_training_accuracy, one_adv_training_loss, one_adv_training_accuracy)):\n",
    "    data['Training_epoch'+str(i)] = [loss, acc, adv_loss, adv_acc]\n",
    "\n",
    "df_one = pd.DataFrame(data, index=['Training_Loss', 'Training_Accuracy', 'Perturbed_Loss', 'Perturbed_Accuracy'])\n",
    "df_one = df_one.transpose()\n",
    "df_one.to_csv(\"output\\Classifier_One_Train.csv\")"
   ]
  },
  {
   "cell_type": "markdown",
   "metadata": {},
   "source": [
    "# SECOND CLASSIFIER"
   ]
  },
  {
   "cell_type": "code",
   "execution_count": 19,
   "metadata": {},
   "outputs": [],
   "source": [
    "# PARAMETERS (for PGD)\n",
    "\n",
    "eps = 0.3\n",
    "alpha = 0.5\n",
    "iterations = 1"
   ]
  },
  {
   "cell_type": "code",
   "execution_count": 20,
   "metadata": {},
   "outputs": [],
   "source": [
    "classifier_two = CNN()\n",
    "optimizer_two = optim.Adam(classifier_two.parameters(), lr = LEARNING_RATE) "
   ]
  },
  {
   "cell_type": "code",
   "execution_count": 22,
   "metadata": {},
   "outputs": [
    {
     "name": "stdout",
     "output_type": "stream",
     "text": [
      "Epoch [1/10], Progress [200/600], Loss: 0.3633\n",
      "Epoch [1/10], Progress [400/600], Loss: 0.3455\n",
      "Epoch [1/10], Progress [600/600], Loss: 1.2426\n",
      "Epoch [2/10], Progress [200/600], Loss: 0.5204\n",
      "Epoch [2/10], Progress [400/600], Loss: 0.3535\n",
      "Epoch [2/10], Progress [600/600], Loss: 0.2071\n",
      "Epoch [3/10], Progress [200/600], Loss: 0.2116\n",
      "Epoch [3/10], Progress [400/600], Loss: 0.0772\n",
      "Epoch [3/10], Progress [600/600], Loss: 1.7027\n",
      "Epoch [4/10], Progress [200/600], Loss: 0.6854\n",
      "Epoch [4/10], Progress [400/600], Loss: 0.3350\n",
      "Epoch [4/10], Progress [600/600], Loss: 0.2758\n",
      "Epoch [5/10], Progress [200/600], Loss: 0.3099\n",
      "Epoch [5/10], Progress [400/600], Loss: 0.1755\n",
      "Epoch [5/10], Progress [600/600], Loss: 0.2018\n",
      "Epoch [6/10], Progress [200/600], Loss: 0.0602\n",
      "Epoch [6/10], Progress [400/600], Loss: 0.5445\n",
      "Epoch [6/10], Progress [600/600], Loss: 0.4141\n",
      "Epoch [7/10], Progress [200/600], Loss: 0.1301\n",
      "Epoch [7/10], Progress [400/600], Loss: 0.5513\n",
      "Epoch [7/10], Progress [600/600], Loss: 0.6883\n",
      "Epoch [8/10], Progress [200/600], Loss: 0.5644\n",
      "Epoch [8/10], Progress [400/600], Loss: 0.5381\n",
      "Epoch [8/10], Progress [600/600], Loss: 0.4126\n",
      "Epoch [9/10], Progress [200/600], Loss: 0.4079\n",
      "Epoch [9/10], Progress [400/600], Loss: 0.2521\n",
      "Epoch [9/10], Progress [600/600], Loss: 0.1255\n",
      "Epoch [10/10], Progress [200/600], Loss: 0.0676\n",
      "Epoch [10/10], Progress [400/600], Loss: 0.2438\n",
      "Epoch [10/10], Progress [600/600], Loss: 0.6579\n"
     ]
    }
   ],
   "source": [
    "# TRAINING\n",
    "\n",
    "(two_orginal_images, two_pgd_images, two_pgd_labels, \n",
    " two_training_loss, two_training_accuracy, \n",
    " two_adv_training_loss, two_adv_training_accuracy) = pgd_train(cnn_model = classifier_two, \n",
    "                                                               data_load = data_loaders, \n",
    "                                                               optim = optimizer_two, \n",
    "                                                               pgd_function = untargeted_pgd_attack, \n",
    "                                                               EPOCHS = EPOCHS, \n",
    "                                                               eps = eps, \n",
    "                                                               alpha = alpha,\n",
    "                                                               iterations = iterations)"
   ]
  },
  {
   "cell_type": "code",
   "execution_count": 23,
   "metadata": {},
   "outputs": [
    {
     "name": "stdout",
     "output_type": "stream",
     "text": [
      "_____________________________________________ EPS:0\n",
      "___________ UNTARGETED:\n",
      "Accuracy on original Test Set: 0.86000\n",
      "Accuracy of Perturbed Test Set: 0.86000\n",
      "___________ TARGETED:\n",
      "Accuracy on original Test Set: 0.85000\n",
      "Accuracy of Perturbed Test Set: 0.85000\n",
      "_____________________________________________ EPS:0.1\n",
      "___________ UNTARGETED:\n",
      "Accuracy on original Test Set: 0.91000\n",
      "Accuracy of Perturbed Test Set: 0.04890\n",
      "___________ TARGETED:\n",
      "Accuracy on original Test Set: 0.92000\n",
      "Accuracy of Perturbed Test Set: 0.95110\n",
      "_____________________________________________ EPS:0.2\n",
      "___________ UNTARGETED:\n",
      "Accuracy on original Test Set: 0.93000\n",
      "Accuracy of Perturbed Test Set: 0.00010\n",
      "___________ TARGETED:\n",
      "Accuracy on original Test Set: 0.78000\n",
      "Accuracy of Perturbed Test Set: 0.99990\n",
      "_____________________________________________ EPS:0.3\n",
      "___________ UNTARGETED:\n",
      "Accuracy on original Test Set: 0.92000\n",
      "Accuracy of Perturbed Test Set: 0.00000\n",
      "___________ TARGETED:\n",
      "Accuracy on original Test Set: 0.86000\n",
      "Accuracy of Perturbed Test Set: 1.00000\n",
      "_____________________________________________ EPS:0.45\n",
      "___________ UNTARGETED:\n",
      "Accuracy on original Test Set: 0.89000\n",
      "Accuracy of Perturbed Test Set: 0.00000\n",
      "___________ TARGETED:\n",
      "Accuracy on original Test Set: 0.89000\n",
      "Accuracy of Perturbed Test Set: 1.00000\n"
     ]
    }
   ],
   "source": [
    "# TESTING\n",
    "\n",
    "two_test = []\n",
    "two_targeted = []\n",
    "two_untargeted = []\n",
    "\n",
    "for test_eps in epses:\n",
    "    \n",
    "    print(\"_____________________________________________ EPS:\"+str(test_eps))\n",
    "    \n",
    "    print(\"___________ UNTARGETED:\")\n",
    "\n",
    "    (testing_acc, untargeted_acc) = pgd_test(cnn_model = classifier_two, \n",
    "                                                          data_load = data_loaders, \n",
    "                                                          pgd_function = untargeted_pgd_attack, \n",
    "                                                          eps = test_eps, \n",
    "                                                          alpha = TESTING_ALPHA,\n",
    "                                                          iterations = TESTING_ITERATIONS,\n",
    "                                                          details=True)\n",
    "    \n",
    "    print(\"___________ TARGETED:\")\n",
    "    \n",
    "    (_, targeted_acc) = pgd_test(cnn_model = classifier_two, \n",
    "                                                          data_load = data_loaders, \n",
    "                                                          pgd_function = targeted_pgd_attack, \n",
    "                                                          eps = test_eps, \n",
    "                                                          alpha = TESTING_ALPHA,\n",
    "                                                          iterations = TESTING_ITERATIONS,\n",
    "                                                          details=True)\n",
    "    \n",
    "    two_test.append(testing_acc)\n",
    "    two_untargeted.append(untargeted_acc)\n",
    "    two_targeted.append(targeted_acc)"
   ]
  },
  {
   "cell_type": "code",
   "execution_count": 24,
   "metadata": {},
   "outputs": [],
   "source": [
    "# SAVE DATA TO EXCEL\n",
    "\n",
    "data = {}\n",
    "\n",
    "for i, (test, untarget, target) in enumerate(zip(two_test, two_untargeted, two_targeted)):\n",
    "    data['Testing_eps'+str(epses[i])] = [test, untarget, target]\n",
    "    \n",
    "df_two = pd.DataFrame(data, index=['Original_Test', 'Untargetted', 'Targetted'])\n",
    "df_two = df_two.transpose()\n",
    "df_two.to_csv(\"output\\Classifier_Two_Test.csv\")\n",
    "\n",
    "data = {}\n",
    "\n",
    "for i, (loss, acc, adv_loss, adv_acc) in enumerate(zip(two_training_loss, two_training_accuracy, two_adv_training_loss, two_adv_training_accuracy)):\n",
    "    data['Training_epoch'+str(i)] = [loss, acc, adv_loss, adv_acc]\n",
    "\n",
    "df_two = pd.DataFrame(data, index=['Training_Loss', 'Training_Accuracy', 'Perturbed_Loss', 'Perturbed_Accuracy'])\n",
    "df_two = df_two.transpose()\n",
    "df_two.to_csv(\"output\\Classifier_Two_Train.csv\")"
   ]
  },
  {
   "cell_type": "markdown",
   "metadata": {},
   "source": [
    "# THIRD CLASSIFIER"
   ]
  },
  {
   "cell_type": "code",
   "execution_count": 30,
   "metadata": {},
   "outputs": [],
   "source": [
    "# PARAMETERS (for PGD)\n",
    "\n",
    "eps = 0.3\n",
    "alpha = 0.02\n",
    "iterations = 20"
   ]
  },
  {
   "cell_type": "code",
   "execution_count": 31,
   "metadata": {},
   "outputs": [],
   "source": [
    "classifier_three = CNN()\n",
    "optimizer_three = optim.Adam(classifier_three.parameters(), lr = LEARNING_RATE) "
   ]
  },
  {
   "cell_type": "code",
   "execution_count": 32,
   "metadata": {},
   "outputs": [
    {
     "name": "stdout",
     "output_type": "stream",
     "text": [
      "Epoch [1/10], Progress [200/600], Loss: 0.0002\n",
      "Epoch [1/10], Progress [400/600], Loss: 0.0000\n",
      "Epoch [1/10], Progress [600/600], Loss: 0.0000\n",
      "Epoch [2/10], Progress [200/600], Loss: 0.0000\n",
      "Epoch [2/10], Progress [400/600], Loss: 0.0000\n",
      "Epoch [2/10], Progress [600/600], Loss: 0.0000\n",
      "Epoch [3/10], Progress [200/600], Loss: 0.0000\n",
      "Epoch [3/10], Progress [400/600], Loss: 0.0000\n",
      "Epoch [3/10], Progress [600/600], Loss: 0.0000\n",
      "Epoch [4/10], Progress [200/600], Loss: 0.0000\n",
      "Epoch [4/10], Progress [400/600], Loss: 0.0000\n",
      "Epoch [4/10], Progress [600/600], Loss: 0.0000\n",
      "Epoch [5/10], Progress [200/600], Loss: 0.0000\n",
      "Epoch [5/10], Progress [400/600], Loss: 0.0000\n",
      "Epoch [5/10], Progress [600/600], Loss: 0.0000\n",
      "Epoch [6/10], Progress [200/600], Loss: 0.0000\n",
      "Epoch [6/10], Progress [400/600], Loss: 0.0000\n",
      "Epoch [6/10], Progress [600/600], Loss: 0.0000\n",
      "Epoch [7/10], Progress [200/600], Loss: 0.0000\n",
      "Epoch [7/10], Progress [400/600], Loss: 0.0000\n",
      "Epoch [7/10], Progress [600/600], Loss: 0.0000\n",
      "Epoch [8/10], Progress [200/600], Loss: 0.0000\n",
      "Epoch [8/10], Progress [400/600], Loss: 0.0000\n",
      "Epoch [8/10], Progress [600/600], Loss: 0.0000\n",
      "Epoch [9/10], Progress [200/600], Loss: 0.0000\n",
      "Epoch [9/10], Progress [400/600], Loss: 0.0000\n",
      "Epoch [9/10], Progress [600/600], Loss: 0.0000\n",
      "Epoch [10/10], Progress [200/600], Loss: 0.0000\n",
      "Epoch [10/10], Progress [400/600], Loss: 0.0000\n",
      "Epoch [10/10], Progress [600/600], Loss: 0.0000\n"
     ]
    }
   ],
   "source": [
    "# TRAINING\n",
    "\n",
    "(three_orginal_images, three_pgd_images, three_pgd_labels, \n",
    " three_training_loss, three_training_accuracy, \n",
    " three_adv_training_loss, three_adv_training_accuracy) = pgd_train(cnn_model = classifier_three, \n",
    "                                                               data_load = data_loaders, \n",
    "                                                               optim = optimizer_three, \n",
    "                                                               pgd_function = targeted_pgd_attack, \n",
    "                                                               EPOCHS = EPOCHS, \n",
    "                                                               eps = eps, \n",
    "                                                               alpha = alpha,\n",
    "                                                               iterations = iterations)"
   ]
  },
  {
   "cell_type": "code",
   "execution_count": 33,
   "metadata": {},
   "outputs": [
    {
     "name": "stdout",
     "output_type": "stream",
     "text": [
      "_____________________________________________ EPS:0\n",
      "___________ UNTARGETED:\n",
      "Accuracy on original Test Set: 0.16000\n",
      "Accuracy of Perturbed Test Set: 0.16000\n",
      "___________ TARGETED:\n",
      "Accuracy on original Test Set: 0.08000\n",
      "Accuracy of Perturbed Test Set: 0.08000\n",
      "_____________________________________________ EPS:0.1\n",
      "___________ UNTARGETED:\n",
      "Accuracy on original Test Set: 0.05000\n",
      "Accuracy of Perturbed Test Set: 0.09360\n",
      "___________ TARGETED:\n",
      "Accuracy on original Test Set: 0.12000\n",
      "Accuracy of Perturbed Test Set: 0.90640\n",
      "_____________________________________________ EPS:0.2\n",
      "___________ UNTARGETED:\n",
      "Accuracy on original Test Set: 0.07000\n",
      "Accuracy of Perturbed Test Set: 0.00310\n",
      "___________ TARGETED:\n",
      "Accuracy on original Test Set: 0.07000\n",
      "Accuracy of Perturbed Test Set: 0.99690\n",
      "_____________________________________________ EPS:0.3\n",
      "___________ UNTARGETED:\n",
      "Accuracy on original Test Set: 0.13000\n",
      "Accuracy of Perturbed Test Set: 0.00000\n",
      "___________ TARGETED:\n",
      "Accuracy on original Test Set: 0.14000\n",
      "Accuracy of Perturbed Test Set: 1.00000\n",
      "_____________________________________________ EPS:0.45\n",
      "___________ UNTARGETED:\n",
      "Accuracy on original Test Set: 0.10000\n",
      "Accuracy of Perturbed Test Set: 0.00000\n",
      "___________ TARGETED:\n",
      "Accuracy on original Test Set: 0.08000\n",
      "Accuracy of Perturbed Test Set: 1.00000\n"
     ]
    }
   ],
   "source": [
    "# TESTING\n",
    "\n",
    "three_test = []\n",
    "three_targeted = []\n",
    "three_untargeted = []\n",
    "\n",
    "for test_eps in epses:\n",
    "    \n",
    "    print(\"_____________________________________________ EPS:\"+str(test_eps))\n",
    "    \n",
    "    print(\"___________ UNTARGETED:\")\n",
    "\n",
    "    (testing_acc, untargeted_acc) = pgd_test(cnn_model = classifier_three, \n",
    "                                                          data_load = data_loaders, \n",
    "                                                          pgd_function = untargeted_pgd_attack, \n",
    "                                                          eps = test_eps, \n",
    "                                                          alpha = TESTING_ALPHA,\n",
    "                                                          iterations = TESTING_ITERATIONS,\n",
    "                                                          details=True)\n",
    "    \n",
    "    print(\"___________ TARGETED:\")\n",
    "    \n",
    "    (_, targeted_acc) = pgd_test(cnn_model = classifier_three, \n",
    "                                                          data_load = data_loaders, \n",
    "                                                          pgd_function = targeted_pgd_attack, \n",
    "                                                          eps = test_eps, \n",
    "                                                          alpha = TESTING_ALPHA,\n",
    "                                                          iterations = TESTING_ITERATIONS,\n",
    "                                                          details=True)\n",
    "    \n",
    "    three_test.append(testing_acc)\n",
    "    three_untargeted.append(untargeted_acc)\n",
    "    three_targeted.append(targeted_acc)"
   ]
  },
  {
   "cell_type": "code",
   "execution_count": 34,
   "metadata": {},
   "outputs": [],
   "source": [
    "# SAVE DATA TO EXCEL\n",
    "\n",
    "data = {}\n",
    "\n",
    "for i, (test, untarget, target) in enumerate(zip(three_test, three_untargeted, three_targeted)):\n",
    "    data['Testing_eps'+str(epses[i])] = [test, untarget, target]\n",
    "    \n",
    "df_three = pd.DataFrame(data, index=['Original_Test', 'Untargetted', 'Targetted'])\n",
    "df_three = df_three.transpose()\n",
    "df_three.to_csv(\"output\\Classifier_Three_Test.csv\")\n",
    "\n",
    "data = {}\n",
    "\n",
    "for i, (loss, acc, adv_loss, adv_acc) in enumerate(zip(three_training_loss, three_training_accuracy, three_adv_training_loss, three_adv_training_accuracy)):\n",
    "    data['Training_epoch'+str(i)] = [loss, acc, adv_loss, adv_acc]\n",
    "\n",
    "df_three = pd.DataFrame(data, index=['Training_Loss', 'Training_Accuracy', 'Perturbed_Loss', 'Perturbed_Accuracy'])\n",
    "df_three = df_three.transpose()\n",
    "df_three.to_csv(\"output\\Classifier_three_Train.csv\")"
   ]
  },
  {
   "cell_type": "markdown",
   "metadata": {},
   "source": [
    "# Graphs"
   ]
  },
  {
   "cell_type": "code",
   "execution_count": null,
   "metadata": {},
   "outputs": [],
   "source": [
    "# Training Loss and Accuracy"
   ]
  },
  {
   "cell_type": "code",
   "execution_count": 127,
   "metadata": {},
   "outputs": [
    {
     "data": {
      "image/png": "[encoded data removed]",
      "text/plain": [
       "<Figure size 1440x864 with 4 Axes>"
      ]
     },
     "metadata": {
      "needs_background": "light"
     },
     "output_type": "display_data"
    }
   ],
   "source": [
    "fig, axis = plt.subplots(2, 2)\n",
    "\n",
    "fig.set_size_inches(20, 12)\n",
    "\n",
    "# BASELINE\n",
    "baseline_loss = [2.3095, 0.0648, 0.0692, 0.1016, 0.0989, 0.0146, 0.0528, 0.0125, 0.0179, 0.0324, 0.0123]\n",
    "baseline_acc = [0.10,0.97,0.98,0.96,0.97,1.00,0.99,1.00,0.99,0.99,1.00]\n",
    "\n",
    "axis[0,0].plot(range(11), baseline_loss, '-r', label='TrainLoss')\n",
    "axis[0,0].plot(range(11), baseline_acc, '-g', label='TrainAccuracy') \n",
    "axis[0,0].legend(loc='upper right')\n",
    "axis[0,0].set_title(\"BASELINE\")\n",
    "\n",
    "# CLASSIFIER ONE\n",
    "one_loss = [2.3026,0.7997,0.3011,0.2207,0.1765,0.1431,0.1884,0.1331,0.0752,0.1160,0.1109]\n",
    "one_acc = [0.09,0.79,0.93,0.93,0.94,0.99,0.95,0.96,0.99,0.98,0.98]\n",
    "one_pertloss = [2.3026,1.2389,0.6683,0.5286,0.4057,0.3866,0.2729,0.1946,0.1683,0.1300,0.1200]\n",
    "one_pertacc = [0.09,0.57,0.78,0.84,0.86,0.89,0.92,0.94,0.94,0.98,0.98]\n",
    "\n",
    "axis[0,1].plot(range(11), one_loss, '-r', label='TrainLoss') \n",
    "axis[0,1].plot(range(11), one_acc, '-g', label='TrainAcc')\n",
    "axis[0,1].plot(range(11), one_pertloss, '-y', label='PerturbedLoss') \n",
    "axis[0,1].plot(range(11), one_pertacc, '-b', label='PerturbedAcc')\n",
    "axis[0,1].legend(loc='upper right')\n",
    "axis[0,1].set_title(\"CLASSIFIER ONE\")\n",
    "\n",
    "# CLASSIFIER TWO\n",
    "two_loss = [2.1286,0.5765,0.4522,0.4440,0.4416,0.4637,0.5113,0.5619,0.5400,0.5979,0.6123]\n",
    "two_acc = [0.04,0.96,0.80,0.80,0.82,0.82,0.81,0.76,0.76,0.70,0.66]\n",
    "two_pertloss = [2.1578,0.93712,0.82653,0.6543,0.6110,0.5776,0.5749,0.4540,0.4405,0.4033,0.4194]\n",
    "two_pertacc = [0.04,0.51,0.56,0.57,0.65,0.67,0.69,0.83,0.85,0.86,0.87]\n",
    "\n",
    "axis[1,0].plot(range(11), two_loss, '-r', label='TrainLoss') \n",
    "axis[1,0].plot(range(11), two_acc, '-g', label='TrainAcc')\n",
    "axis[1,0].plot(range(11), two_pertloss, '-y', label='PerturbedLoss') \n",
    "axis[1,0].plot(range(11), two_pertacc, '-b', label='PerturbedAcc')\n",
    "axis[1,0].legend(loc='upper right')\n",
    "axis[1,0].set_title(\"CLASSIFIER TWO\")\n",
    "\n",
    "# CLASSIFIER THREE\n",
    "three_loss = [2.3105,0.7608,0.7526,0.7430,0.6929,0.6927,0.6955,0.7234,0.7346,0.7467,0.7583]\n",
    "three_acc = [0.03,0.74,0.75,0.75,0.76,0.77,0.79,0.76,0.75,0.75,0.74]\n",
    "three_pertloss = [2.3105,1.7630,1.1842,0.9207,0.5140,0.4298,0.3550,0.3099,0.1907,0.1861,0.1795]\n",
    "three_pertacc = [0.08,0.45,0.56,0.72,0.83,0.86,0.87,0.86,0.91,0.92,0.93]\n",
    "\n",
    "axis[1,1].plot(range(11), three_loss, '-r', label='TrainLoss') \n",
    "axis[1,1].plot(range(11), three_acc, '-g', label='TrainAcc')\n",
    "axis[1,1].plot(range(11), three_pertloss, '-y', label='PerturbedLoss') \n",
    "axis[1,1].plot(range(11), three_pertacc, '-b', label='PerturbedAcc')\n",
    "axis[1,1].legend(loc='upper right')\n",
    "axis[1,1].set_title(\"CLASSIFIER THREE\")\n",
    "\n",
    "\n",
    "for i in range(2):\n",
    "    for j in range(2):\n",
    "        axis[i,j].set_ylim([-0.4, 2.5])\n",
    "        axis[i,j].set_xlabel(\"Training Epoch\")\n",
    "        axis[i,j].set_ylabel(\"Loss/Accuracy\")\n",
    "\n",
    "plt.show()\n",
    "fig.savefig(\"output/graphs/TrainingLossAccuracy.png\")"
   ]
  },
  {
   "cell_type": "code",
   "execution_count": 137,
   "metadata": {},
   "outputs": [
    {
     "data": {
      "image/png": "[encoded data removed]",
      "text/plain": [
       "<Figure size 1440x432 with 2 Axes>"
      ]
     },
     "metadata": {
      "needs_background": "light"
     },
     "output_type": "display_data"
    }
   ],
   "source": [
    "fig, axis = plt.subplots(1, 2)\n",
    "\n",
    "fig.set_size_inches(20, 6)\n",
    "\n",
    "baseline_untarget = [0.97,0.34,0.00,0.00,0.00]\n",
    "one_untarget = [0.95, 0.94, 0.90, 0.84, 0.27]\n",
    "two_untarget = [0.85,0.86,0.84,0.80,0.21]\n",
    "three_untarget = [0.9,0.91,0.86,0.80,0.15]\n",
    "\n",
    "baseline_target = [0.97,0.52, 0.00, 0.00, 0.00]\n",
    "one_target = [0.95,0.89, 0.83, 0.76, 0.06]\n",
    "two_target = [0.85,0.84,0.75,0.67,0.10]\n",
    "three_target = [0.9,0.92,0.89,0.88,0.25]\n",
    "\n",
    "eps = [0,0.1,0.2,0.3,0.45]\n",
    "\n",
    "axis[1].plot(eps, baseline_target, '-r', label='Baseline') \n",
    "axis[1].plot(eps, one_target, '-g', label='ClassifierOne')\n",
    "axis[1].plot(eps, two_target, '-y', label='ClassifierTwo') \n",
    "axis[1].plot(eps, three_target, '-b', label='ClassifierThree')\n",
    "axis[1].legend(loc='upper right')\n",
    "axis[1].set_title(\"Targeted PGD Attack\")\n",
    "\n",
    "axis[0].plot(eps, baseline_untarget, '-r', label='Baseline') \n",
    "axis[0].plot(eps, one_untarget, '-g', label='ClassifierOne')\n",
    "axis[0].plot(eps, two_untarget, '-y', label='ClassifierTwo') \n",
    "axis[0].plot(eps, three_untarget, '-b', label='ClassifierThree')\n",
    "axis[0].legend(loc='upper right')\n",
    "axis[0].set_title(\"Untargeted PGD Attack\")\n",
    "\n",
    "\n",
    "\n",
    "for i in range(2):\n",
    "    axis[i].set_ylim([-0.05, 1.05])\n",
    "    axis[i].set_xlabel(\"PGD Epsilon\")\n",
    "    axis[i].set_ylabel(\"Accuracy\")\n",
    "\n",
    "plt.show()\n",
    "fig.savefig(\"output/graphs/TestingAccuracy.png\")"
   ]
  },
  {
   "cell_type": "code",
   "execution_count": null,
   "metadata": {},
   "outputs": [],
   "source": []
  }
 ],
 "metadata": {
  "kernelspec": {
   "display_name": "Python 3",
   "language": "python",
   "name": "python3"
  },
  "language_info": {
   "codemirror_mode": {
    "name": "ipython",
    "version": 3
   },
   "file_extension": ".py",
   "mimetype": "text/x-python",
   "name": "python",
   "nbconvert_exporter": "python",
   "pygments_lexer": "ipython3",
   "version": "3.8.5"
  }
 },
 "nbformat": 4,
 "nbformat_minor": 4
}
