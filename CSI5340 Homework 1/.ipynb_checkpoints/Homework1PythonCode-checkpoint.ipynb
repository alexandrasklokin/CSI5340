{
 "cells": [
  {
   "cell_type": "code",
   "execution_count": 2,
   "metadata": {},
   "outputs": [],
   "source": [
    "import random\n",
    "import numpy as np\n",
    "import math\n",
    "import pandas as pd\n",
    "from sklearn.metrics import mean_squared_error\n",
    "import numdifftools as nd\n",
    "import inspect\n",
    "from matplotlib import pyplot as plt\n",
    "import statistics"
   ]
  },
  {
   "cell_type": "markdown",
   "metadata": {},
   "source": [
    "# (A)\n",
    "\n",
    "Assumptions:\n",
    "- X distributed uniformly from (0,1) INCLUSIVE"
   ]
  },
  {
   "cell_type": "code",
   "execution_count": 3,
   "metadata": {},
   "outputs": [],
   "source": [
    "def getData(N, var=1.0):\n",
    "    \n",
    "    if(N<1 or var<0):\n",
    "        return \"ERROR\"\n",
    "    \n",
    "    \n",
    "    xes = []\n",
    "    yes = []\n",
    "    zes = []\n",
    "    \n",
    "    for i in range(N):\n",
    "        x = random.uniform(0, 1)\n",
    "        z = np.random.normal(loc=0.0, scale=math.sqrt(var))\n",
    "        y = math.cos(2*math.pi*x)+z\n",
    "        \n",
    "        xes.append(x)\n",
    "        yes.append(y)\n",
    "        #zes.append(z)\n",
    "        \n",
    "    #df = pd.DataFrame(list(zip(xes,yes,zes)), columns =['X', 'Y','Z'])\n",
    "    df = pd.DataFrame(list(zip(xes,yes)), columns =['X', 'Y'])\n",
    "    \n",
    "    return df\n",
    "        "
   ]
  },
  {
   "cell_type": "code",
   "execution_count": 37,
   "metadata": {},
   "outputs": [
    {
     "data": {
      "text/html": [
       "<div>\n",
       "<style scoped>\n",
       "    .dataframe tbody tr th:only-of-type {\n",
       "        vertical-align: middle;\n",
       "    }\n",
       "\n",
       "    .dataframe tbody tr th {\n",
       "        vertical-align: top;\n",
       "    }\n",
       "\n",
       "    .dataframe thead th {\n",
       "        text-align: right;\n",
       "    }\n",
       "</style>\n",
       "<table border=\"1\" class=\"dataframe\">\n",
       "  <thead>\n",
       "    <tr style=\"text-align: right;\">\n",
       "      <th></th>\n",
       "      <th>X</th>\n",
       "      <th>Y</th>\n",
       "    </tr>\n",
       "  </thead>\n",
       "  <tbody>\n",
       "    <tr>\n",
       "      <th>0</th>\n",
       "      <td>0.539486</td>\n",
       "      <td>-1.685622</td>\n",
       "    </tr>\n",
       "    <tr>\n",
       "      <th>1</th>\n",
       "      <td>0.230315</td>\n",
       "      <td>0.518409</td>\n",
       "    </tr>\n",
       "    <tr>\n",
       "      <th>2</th>\n",
       "      <td>0.240721</td>\n",
       "      <td>0.687841</td>\n",
       "    </tr>\n",
       "    <tr>\n",
       "      <th>3</th>\n",
       "      <td>0.431782</td>\n",
       "      <td>-0.797342</td>\n",
       "    </tr>\n",
       "    <tr>\n",
       "      <th>4</th>\n",
       "      <td>0.549817</td>\n",
       "      <td>-1.386438</td>\n",
       "    </tr>\n",
       "    <tr>\n",
       "      <th>...</th>\n",
       "      <td>...</td>\n",
       "      <td>...</td>\n",
       "    </tr>\n",
       "    <tr>\n",
       "      <th>1995</th>\n",
       "      <td>0.098957</td>\n",
       "      <td>0.301628</td>\n",
       "    </tr>\n",
       "    <tr>\n",
       "      <th>1996</th>\n",
       "      <td>0.023388</td>\n",
       "      <td>2.023921</td>\n",
       "    </tr>\n",
       "    <tr>\n",
       "      <th>1997</th>\n",
       "      <td>0.148077</td>\n",
       "      <td>-0.055330</td>\n",
       "    </tr>\n",
       "    <tr>\n",
       "      <th>1998</th>\n",
       "      <td>0.031341</td>\n",
       "      <td>1.258496</td>\n",
       "    </tr>\n",
       "    <tr>\n",
       "      <th>1999</th>\n",
       "      <td>0.240833</td>\n",
       "      <td>0.263485</td>\n",
       "    </tr>\n",
       "  </tbody>\n",
       "</table>\n",
       "<p>2000 rows × 2 columns</p>\n",
       "</div>"
      ],
      "text/plain": [
       "             X         Y\n",
       "0     0.539486 -1.685622\n",
       "1     0.230315  0.518409\n",
       "2     0.240721  0.687841\n",
       "3     0.431782 -0.797342\n",
       "4     0.549817 -1.386438\n",
       "...        ...       ...\n",
       "1995  0.098957  0.301628\n",
       "1996  0.023388  2.023921\n",
       "1997  0.148077 -0.055330\n",
       "1998  0.031341  1.258496\n",
       "1999  0.240833  0.263485\n",
       "\n",
       "[2000 rows x 2 columns]"
      ]
     },
     "execution_count": 37,
     "metadata": {},
     "output_type": "execute_result"
    }
   ],
   "source": [
    "# CHECK\n",
    "\n",
    "myDf = getData(2000,2.0)\n",
    "\n",
    "myDf"
   ]
  },
  {
   "cell_type": "markdown",
   "metadata": {},
   "source": [
    "# (B)"
   ]
  },
  {
   "cell_type": "code",
   "execution_count": 5,
   "metadata": {},
   "outputs": [],
   "source": [
    "def getPolynomialY(poly_coefs, x):\n",
    "    \n",
    "    y = 0\n",
    "    \n",
    "    for i in range(len(poly_coefs)):\n",
    "        y += poly_coefs[i] * (x**i)\n",
    "        \n",
    "    return y"
   ]
  },
  {
   "cell_type": "code",
   "execution_count": 6,
   "metadata": {},
   "outputs": [],
   "source": [
    "def getPrediction(coefs, xes):\n",
    "    \n",
    "    y_preds = []\n",
    "    \n",
    "    for x in xes:\n",
    "        y_preds.append(getPolynomialY(coefs,x))\n",
    "        \n",
    "    return y_preds"
   ]
  },
  {
   "cell_type": "code",
   "execution_count": 7,
   "metadata": {},
   "outputs": [
    {
     "name": "stdout",
     "output_type": "stream",
     "text": [
      "x = 2, y =(true) 84 =(pred)  84\n",
      "x = (-0.1), y =(true) 1.6506 =(pred)  1.6505999999999998\n"
     ]
    }
   ],
   "source": [
    "# CHECK\n",
    "\n",
    "# y = 2 + 3x + (-5)x^2 + 0x^3 + 6x^4\n",
    "# Online Calculator: (2,84) , (-0.1, 1.6506)\n",
    "\n",
    "print(\"x = 2, y =(true) 84 =(pred) \", getPolynomialY([2, 3, -5, 0, 6], 2))\n",
    "print(\"x = (-0.1), y =(true) 1.6506 =(pred) \", getPolynomialY([2, 3, -5, 0, 6], -0.1))"
   ]
  },
  {
   "cell_type": "code",
   "execution_count": 8,
   "metadata": {},
   "outputs": [],
   "source": [
    "def getMSE(df, poly_coefs):\n",
    "    \n",
    "    N = len(df['X'])\n",
    "    \n",
    "    y_preds = getPrediction(poly_coefs, df['X'])\n",
    "        \n",
    "    y_residual = df['Y'] - y_preds\n",
    "    \n",
    "    return np.sum(np.dot(y_residual.T , y_residual)) / len(df['Y'] - y_residual)"
   ]
  },
  {
   "cell_type": "code",
   "execution_count": 9,
   "metadata": {},
   "outputs": [
    {
     "name": "stdout",
     "output_type": "stream",
     "text": [
      "6.005231064078497 (pred)=(true) 6.005231064078497\n"
     ]
    }
   ],
   "source": [
    "# CHECK\n",
    "\n",
    "Y_pred = []\n",
    "\n",
    "for i in range(len(myDf['X'])):\n",
    "    Y_pred.append( getPolynomialY([1,2,3], myDf['X'][i]) )\n",
    "\n",
    "print(getMSE(myDf,[1,2,3]), \"(pred)=(true)\", mean_squared_error(myDf['Y'],Y_pred))"
   ]
  },
  {
   "cell_type": "markdown",
   "metadata": {},
   "source": [
    "# (C)"
   ]
  },
  {
   "cell_type": "code",
   "execution_count": 10,
   "metadata": {},
   "outputs": [],
   "source": [
    "def gradientDescent(theta, df, d, learning_rate, epochs, details=False):\n",
    "    \n",
    "    N = len(df['X'])\n",
    "    \n",
    "    # UPDATE THETA EPOCHS TIMES ______________________________\n",
    "    \n",
    "    for k in range(epochs):\n",
    "        \n",
    "        y_preds = getPrediction(theta, df['X'])\n",
    "        \n",
    "        derivate = (np.dot( (y_preds - df['Y'] ), df['X'] ) * 2) / len(df['Y'])\n",
    "        \n",
    "        theta = theta - learning_rate * derivate\n",
    "        \n",
    "        if details: print(\"Epoch: \"+str(k)+\", Coefs: \", theta, \"MSE: \"+ str(round(getMSE(df, theta), 5)))\n",
    "        \n",
    "    return theta\n",
    "    \n",
    "#coefs = gradientDescent(df = myDf, d = 2, epochs = 500, details=True)"
   ]
  },
  {
   "cell_type": "code",
   "execution_count": 11,
   "metadata": {},
   "outputs": [],
   "source": [
    "def stochasticGradientDescent(theta, df, d, learning_rate, epochs, details=False):\n",
    "        \n",
    "    N = len(df['X'])\n",
    "    \n",
    "    # UPDATE THETA EPOCHS TIMES ______________________________\n",
    "    \n",
    "    for k in range(epochs):\n",
    "        \n",
    "        randomindex = random.randint(0, N-1)\n",
    "        X = df['X'][randomindex]\n",
    "        Y = df['Y'][randomindex]\n",
    "        \n",
    "        y_preds = getPolynomialY(theta, X)\n",
    "        \n",
    "        derivate = (( (y_preds - Y ) * X ) * 2)\n",
    "        \n",
    "        theta = theta - learning_rate * derivate\n",
    "        \n",
    "        if details: print(\"Epoch: \"+str(k)+\", Coefs: \", theta, \"MSE: \"+ str(round(getMSE(df, theta), 5)))\n",
    "        \n",
    "    return theta\n",
    "    \n",
    "#coefs = stochasticGradientDescent(df = myDf, d = 2, epochs = 1500, details=True)"
   ]
  },
  {
   "cell_type": "code",
   "execution_count": 12,
   "metadata": {},
   "outputs": [],
   "source": [
    "def miniBatchStochasticGradientDescent(theta, df, d, learning_rate, mini_batch_size, epochs, details=False):\n",
    "    \n",
    "    N = len(df['X'])\n",
    "        \n",
    "    # UPDATE THETA EPOCHS TIMES ______________________________\n",
    "    \n",
    "    for k in range(epochs):\n",
    "        \n",
    "        batchIndices = random.sample(range(0, N), mini_batch_size)\n",
    "            \n",
    "        X = df['X'][batchIndices]\n",
    "        Y = df['Y'][batchIndices]\n",
    "        \n",
    "        y_preds = getPrediction(theta, X)\n",
    "        \n",
    "        derivate = (np.dot( (y_preds - Y ), X ) * 2) / len(Y)\n",
    "        \n",
    "        theta = theta - learning_rate * derivate\n",
    "        \n",
    "        if details: print(\"Epoch: \"+str(k)+\", Coefs: \", theta, \"MSE: \"+ str(round(getMSE(df, theta), 5)))\n",
    "        \n",
    "    return theta\n",
    "    \n",
    "# coefs = miniBatchStochasticGradientDescent(df = myDf, d = 2, mini_batch_size = 2, epochs = 500, details=True)"
   ]
  },
  {
   "cell_type": "code",
   "execution_count": 13,
   "metadata": {},
   "outputs": [],
   "source": [
    "def Learn_Coefs(df, d, gd_type, learning_rate, mini_batch_size, epochs, details=False):\n",
    "        \n",
    "    theta = []\n",
    "    \n",
    "    # START FROM A RANDOM NON-ZERO THETA _____________________\n",
    "    \n",
    "    for i in range(d+1):\n",
    "        num = 0\n",
    "        while num==0:\n",
    "            num = random.randint(-15.0,15)\n",
    "        theta.append(num)\n",
    "    \n",
    "    if details: print(\"Random Coefs: \", theta, \"MSE: \"+ str(round(getMSE(df, theta), 5)))\n",
    "        \n",
    "    if (gd_type == 'GD'):\n",
    "        \n",
    "        estim_poly_coefs = gradientDescent(theta, df, d, learning_rate, epochs, details)\n",
    "    \n",
    "    elif (gd_type == 'SGD'):\n",
    "        \n",
    "        estim_poly_coefs = stochasticGradientDescent(theta, df, d, learning_rate, epochs, details)\n",
    "    \n",
    "    elif (gd_type == 'mini-batched-SGD'):\n",
    "        \n",
    "        estim_poly_coefs = miniBatchStochasticGradientDescent(theta, df, d, learning_rate, mini_batch_size, epochs, details)\n",
    "    else:\n",
    "        return \"ERROR\"\n",
    "    \n",
    "    return estim_poly_coefs\n",
    "    "
   ]
  },
  {
   "cell_type": "code",
   "execution_count": 14,
   "metadata": {},
   "outputs": [],
   "source": [
    "def fitData(df, d, var, gd_type='GD', learning_rate=0.01, mini_batch_size = 10, epochs = 1500, testing_size=2000, details=False):\n",
    "\n",
    "    # (1)\n",
    "    estim_poly_coefs = Learn_Coefs(df, d, gd_type, learning_rate, mini_batch_size, epochs, details)\n",
    "    \n",
    "    # (2)\n",
    "    E_in = getMSE(df, estim_poly_coefs)\n",
    "    \n",
    "    #(3)\n",
    "    E_out = getMSE(getData(testing_size, var), estim_poly_coefs)\n",
    "        \n",
    "    return (estim_poly_coefs, E_in, E_out)"
   ]
  },
  {
   "cell_type": "code",
   "execution_count": 15,
   "metadata": {},
   "outputs": [
    {
     "name": "stdout",
     "output_type": "stream",
     "text": [
      "Random Coefs:  [1, 10, 4] MSE: 20.2759\n",
      "Epoch: 0, Coefs:  [0.97727334 9.97727334 3.97727334] MSE: 20.05562\n",
      "Epoch: 1, Coefs:  [0.95468115 9.95468115 3.95468115] MSE: 19.83834\n",
      "Epoch: 2, Coefs:  [0.93222263 9.93222263 3.93222263] MSE: 19.62405\n",
      "Epoch: 3, Coefs:  [0.90989699 9.90989699 3.90989699] MSE: 19.41269\n",
      "Epoch: 4, Coefs:  [0.88770344 9.88770344 3.88770344] MSE: 19.20424\n",
      "Epoch: 5, Coefs:  [0.86564121 9.86564121 3.86564121] MSE: 18.99865\n",
      "Epoch: 6, Coefs:  [0.84370951 9.84370951 3.84370951] MSE: 18.7959\n",
      "Epoch: 7, Coefs:  [0.82190757 9.82190757 3.82190757] MSE: 18.59594\n",
      "Epoch: 8, Coefs:  [0.80023463 9.80023463 3.80023463] MSE: 18.39873\n",
      "Epoch: 9, Coefs:  [0.77868992 9.77868992 3.77868992] MSE: 18.20425\n"
     ]
    },
    {
     "data": {
      "text/plain": [
       "(array([0.77868992, 9.77868992, 3.77868992]),\n",
       " 18.204251437767503,\n",
       " 64.47666574772614)"
      ]
     },
     "execution_count": 15,
     "metadata": {},
     "output_type": "execute_result"
    }
   ],
   "source": [
    "# Check\n",
    "\n",
    "# GD\n",
    "fitData(df=myDf, d=2, gd_type='GD', learning_rate=0.01, testing_size=2000, epochs = 10, var=2.0, details=True)"
   ]
  },
  {
   "cell_type": "code",
   "execution_count": 16,
   "metadata": {},
   "outputs": [
    {
     "name": "stdout",
     "output_type": "stream",
     "text": [
      "Random Coefs:  [-9, -5, -8] MSE: 113.17007\n",
      "Epoch: 0, Coefs:  [-8.99121352 -4.99121352 -7.99121352] MSE: 112.93206\n",
      "Epoch: 1, Coefs:  [-8.98743859 -4.98743859 -7.98743859] MSE: 112.82987\n",
      "Epoch: 2, Coefs:  [-8.95825051 -4.95825051 -7.95825051] MSE: 112.04142\n",
      "Epoch: 3, Coefs:  [-8.94950001 -4.94950001 -7.94950001] MSE: 111.80559\n",
      "Epoch: 4, Coefs:  [-8.94574444 -4.94574444 -7.94574444] MSE: 111.70446\n",
      "Epoch: 5, Coefs:  [-8.94199061 -4.94199061 -7.94199061] MSE: 111.60342\n",
      "Epoch: 6, Coefs:  [-8.93325412 -4.93325412 -7.93325412] MSE: 111.36845\n",
      "Epoch: 7, Coefs:  [-8.90423913 -4.90423913 -7.90423913] MSE: 110.58992\n",
      "Epoch: 8, Coefs:  [-8.89553517 -4.89553517 -7.89553517] MSE: 110.35693\n",
      "Epoch: 9, Coefs:  [-8.86735183 -4.86735183 -7.86735183] MSE: 109.60422\n"
     ]
    },
    {
     "data": {
      "text/plain": [
       "(array([-8.86735183, -4.86735183, -7.86735183]),\n",
       " 109.60422320327281,\n",
       " 210.83628989416948)"
      ]
     },
     "execution_count": 16,
     "metadata": {},
     "output_type": "execute_result"
    }
   ],
   "source": [
    "# Check\n",
    "\n",
    "# SGD\n",
    "fitData(df=myDf, d=2, gd_type='SGD', learning_rate=0.01, testing_size=2000, epochs = 10, var=2.0, details=True)"
   ]
  },
  {
   "cell_type": "code",
   "execution_count": 17,
   "metadata": {},
   "outputs": [
    {
     "name": "stdout",
     "output_type": "stream",
     "text": [
      "Random Coefs:  [11, 10, -15] MSE: 145.67129\n",
      "Epoch: 0, Coefs:  [ 10.9816122   9.9816122 -15.0183878] MSE: 145.10228\n",
      "Epoch: 1, Coefs:  [ 10.96506864   9.96506864 -15.03493136] MSE: 144.5913\n",
      "Epoch: 2, Coefs:  [ 10.94716159   9.94716159 -15.05283841] MSE: 144.03923\n",
      "Epoch: 3, Coefs:  [ 10.86495085   9.86495085 -15.13504915] MSE: 141.51849\n",
      "Epoch: 4, Coefs:  [ 10.78525665   9.78525665 -15.21474335] MSE: 139.09649\n",
      "Epoch: 5, Coefs:  [ 10.71869764   9.71869764 -15.28130236] MSE: 137.08997\n",
      "Epoch: 6, Coefs:  [ 10.6652608   9.6652608 -15.3347392] MSE: 135.48975\n",
      "Epoch: 7, Coefs:  [ 10.5502367   9.5502367 -15.4497633] MSE: 132.07764\n",
      "Epoch: 8, Coefs:  [ 10.5436922   9.5436922 -15.4563078] MSE: 131.88483\n",
      "Epoch: 9, Coefs:  [ 10.51557538   9.51557538 -15.48442462] MSE: 131.05811\n"
     ]
    },
    {
     "data": {
      "text/plain": [
       "(array([ 10.51557538,   9.51557538, -15.48442462]),\n",
       " 131.05811352940054,\n",
       " 108.91627252474952)"
      ]
     },
     "execution_count": 17,
     "metadata": {},
     "output_type": "execute_result"
    }
   ],
   "source": [
    "# Check\n",
    "\n",
    "# Mini-Batch SGD\n",
    "fitData(df=myDf, d=2, gd_type='mini-batched-SGD', learning_rate=0.01, mini_batch_size=2, epochs = 10, testing_size=2000, var=2.0, details=True)"
   ]
  },
  {
   "cell_type": "markdown",
   "metadata": {},
   "source": [
    "# (D)"
   ]
  },
  {
   "cell_type": "code",
   "execution_count": 38,
   "metadata": {},
   "outputs": [
    {
     "name": "stdout",
     "output_type": "stream",
     "text": [
      "_____________________________________________________________________ START TRIALS\n",
      "\n",
      "______________________________________ M=0\n",
      "FINAL MODEL: Coefs:  [-5.59013508 10.40986492 -2.59013508]  E_in: 3.852059206761081 E_out: 8.325905371245007\n",
      "______________________________________ M=1\n",
      "FINAL MODEL: Coefs:  [  7.51854095 -15.48145905   2.51854095]  E_in: 9.371998028424581 E_out: 15.155157291987136\n",
      "______________________________________ M=2\n",
      "FINAL MODEL: Coefs:  [  7.82199547 -18.17800453   5.82199547]  E_in: 8.216011363737143 E_out: 13.958245371346054\n",
      "______________________________________ M=3\n",
      "FINAL MODEL: Coefs:  [  9.9593777 -14.0406223  -6.0406223]  E_in: 22.926190766152644 E_out: 37.56852084584555\n",
      "______________________________________ M=4\n",
      "FINAL MODEL: Coefs:  [ 1.42304934 -7.57695066  6.42304934]  E_in: 1.3255123149582795 E_out: 1.2980180534160608\n",
      "______________________________________ M=5\n",
      "FINAL MODEL: Coefs:  [-4.01021580e-04  6.99959898e+00 -1.20004010e+01]  E_in: 3.948864803974441 E_out: 5.377720731033183\n",
      "______________________________________ M=6\n",
      "FINAL MODEL: Coefs:  [-3.97171095 -3.97171095 15.02828905]  E_in: 9.335903571766005 E_out: 12.106977500096736\n",
      "______________________________________ M=7\n",
      "FINAL MODEL: Coefs:  [-9.88688727  8.11311273 12.11311273]  E_in: 23.660444843854627 E_out: 39.20905200036838\n",
      "______________________________________ M=8\n",
      "FINAL MODEL: Coefs:  [-7.73484656  8.26515344  6.26515344]  E_in: 12.188695408419793 E_out: 20.400841362831205\n",
      "______________________________________ M=9\n",
      "FINAL MODEL: Coefs:  [-9.59809124  9.40190876  9.40190876]  E_in: 20.074718932309093 E_out: 33.34076273899459\n",
      "______________________________________ M=10\n",
      "FINAL MODEL: Coefs:  [-0.48417082  5.51582918 -8.48417082]  E_in: 2.419705690045022 E_out: 3.693432800241918\n",
      "______________________________________ M=11\n",
      "FINAL MODEL: Coefs:  [-4.67244226  0.32755774 10.32755774]  E_in: 7.947561197086484 E_out: 11.174211462962829\n",
      "______________________________________ M=12\n",
      "FINAL MODEL: Coefs:  [-3.7268904  9.2731096 -5.7268904]  E_in: 1.7432683477326658 E_out: 4.209098467172379\n",
      "______________________________________ M=13\n",
      "FINAL MODEL: Coefs:  [ 0.23121898 -2.76878102  2.23121898]  E_in: 1.2630732582698474 E_out: 1.447979765036318\n",
      "______________________________________ M=14\n",
      "FINAL MODEL: Coefs:  [-3.11998134  3.88001866  0.88001866]  E_in: 2.2728862297738406 E_out: 4.059367884739047\n",
      "______________________________________ M=15\n",
      "FINAL MODEL: Coefs:  [-2.82385607  3.17614393  1.17614393]  E_in: 2.111914290884179 E_out: 3.5304806864644793\n",
      "______________________________________ M=16\n",
      "FINAL MODEL: Coefs:  [  6.15372456 -16.84627544   8.15372456]  E_in: 4.471137233464537 E_out: 7.5006247344085315\n",
      "______________________________________ M=17\n",
      "FINAL MODEL: Coefs:  [-1.55286194  3.44713806 -2.55286194]  E_in: 1.3105191391880056 E_out: 2.1823860656796317\n",
      "______________________________________ M=18\n",
      "FINAL MODEL: Coefs:  [ 6.12440757 -8.87559243 -3.87559243]  E_in: 10.147712271603345 E_out: 15.771070026330424\n",
      "______________________________________ M=19\n",
      "FINAL MODEL: Coefs:  [  8.8613696  -8.1386304 -12.1386304]  E_in: 25.18972003820469 E_out: 37.53488756500314\n",
      "______________________________________ M=20\n",
      "FINAL MODEL: Coefs:  [ 0.13739672 -3.86260328  4.13739672]  E_in: 1.272419379860618 E_out: 1.3737901840581275\n",
      "______________________________________ M=21\n",
      "FINAL MODEL: Coefs:  [ -0.30385555   9.69614445 -15.30385555]  E_in: 4.924899840798725 E_out: 7.593982659331145\n",
      "______________________________________ M=22\n",
      "FINAL MODEL: Coefs:  [-0.85945987  1.14054013 -0.85945987]  E_in: 1.2710516617133831 E_out: 2.0586219335120295\n",
      "______________________________________ M=23\n",
      "FINAL MODEL: Coefs:  [-5.95809488  4.04190512  8.04190512]  E_in: 9.22783809861644 E_out: 15.353385248932835\n",
      "______________________________________ M=24\n",
      "FINAL MODEL: Coefs:  [ 0.99645557  1.99645557 -7.00354443]  E_in: 3.2737737180911735 E_out: 4.38473479735961\n",
      "______________________________________ M=25\n",
      "FINAL MODEL: Coefs:  [ 0.70033029  2.70033029 -7.29966971]  E_in: 3.074951949650311 E_out: 4.402868257742252\n",
      "______________________________________ M=26\n",
      "FINAL MODEL: Coefs:  [  8.58723206 -13.41276794  -3.41276794]  E_in: 16.17090324068787 E_out: 26.630899398991026\n",
      "______________________________________ M=27\n",
      "FINAL MODEL: Coefs:  [ 2.69404347 -7.30595653  2.69404347]  E_in: 2.2629958544322766 E_out: 3.1200376203970444\n",
      "______________________________________ M=28\n",
      "FINAL MODEL: Coefs:  [ 2.78053649 -4.21946351 -2.21946351]  E_in: 3.652865440624504 E_out: 5.229666958264264\n",
      "______________________________________ M=29\n",
      "FINAL MODEL: Coefs:  [-2.43390853  3.56609147 -0.43390853]  E_in: 1.646977094185449 E_out: 2.8838219158368847\n",
      "______________________________________ M=30\n",
      "FINAL MODEL: Coefs:  [-5.11369453 13.88630547 -9.11369453]  E_in: 2.1647162896380765 E_out: 6.269759033327124\n",
      "______________________________________ M=31\n",
      "FINAL MODEL: Coefs:  [ 1.40839085 -3.59160915  0.40839085]  E_in: 1.8184537933677856 E_out: 2.4453545672068833\n",
      "______________________________________ M=32\n",
      "FINAL MODEL: Coefs:  [-5.56814734  4.43185266  6.43185266]  E_in: 7.537247175299936 E_out: 12.193496582048214\n",
      "______________________________________ M=33\n",
      "FINAL MODEL: Coefs:  [ 6.70932888 -8.29067112 -6.29067112]  E_in: 13.21724187290451 E_out: 19.68423340697871\n",
      "______________________________________ M=34\n",
      "FINAL MODEL: Coefs:  [ 10.63079202 -10.36920798 -13.36920798]  E_in: 33.596793659467814 E_out: 51.568589300640085\n",
      "______________________________________ M=35\n",
      "FINAL MODEL: Coefs:  [-6.7746362 13.2253638 -3.7746362]  E_in: 5.043543607357675 E_out: 10.957618982000284\n",
      "______________________________________ M=36\n",
      "FINAL MODEL: Coefs:  [ -0.2965263   7.7034737 -12.2965263]  E_in: 3.737476423944784 E_out: 5.740365521718217\n",
      "______________________________________ M=37\n",
      "FINAL MODEL: Coefs:  [-8.58657616  0.41342384 20.41342384]  E_in: 27.682597445962973 E_out: 41.35359292822955\n",
      "______________________________________ M=38\n",
      "FINAL MODEL: Coefs:  [ 3.19247177 -9.80752823  5.19247177]  E_in: 2.1669011750802056 E_out: 2.9844416895856627\n",
      "______________________________________ M=39\n",
      "FINAL MODEL: Coefs:  [-8.18929937 -1.18929937 21.81070063]  E_in: 27.735893718810235 E_out: 40.65924055101614\n",
      "______________________________________ M=40\n",
      "FINAL MODEL: Coefs:  [-9.61274974 13.38725026  3.38725026]  E_in: 15.09518631584435 E_out: 28.590250747616768\n",
      "______________________________________ M=41\n",
      "FINAL MODEL: Coefs:  [ 10.43581825 -10.56418175 -12.56418175]  E_in: 31.809247559703486 E_out: 50.16351469644628\n",
      "______________________________________ M=42\n",
      "FINAL MODEL: Coefs:  [  1.85551442   7.85551442 -18.14448558]  E_in: 10.161292079653709 E_out: 13.18367420155809\n",
      "______________________________________ M=43\n",
      "FINAL MODEL: Coefs:  [ 5.32252475 -3.67747525 -9.67747525]  E_in: 12.18024506585203 E_out: 17.715499742537016\n",
      "______________________________________ M=44\n",
      "FINAL MODEL: Coefs:  [-0.26720931 -0.26720931 -0.26720931]  E_in: 1.2963348796760568 E_out: 1.8151637603981066\n",
      "______________________________________ M=45\n",
      "FINAL MODEL: Coefs:  [-10.98489537  14.01510463   6.01510463]  E_in: 21.584969952019016 E_out: 37.10440590679303\n",
      "______________________________________ M=46\n",
      "FINAL MODEL: Coefs:  [-6.95495147  9.04504853  3.04504853]  E_in: 8.434461266574045 E_out: 15.316715726841048\n",
      "______________________________________ M=47\n",
      "FINAL MODEL: Coefs:  [-6.14573941  1.85426059 11.85426059]  E_in: 12.16040087568084 E_out: 18.132176489215524\n",
      "______________________________________ M=48\n",
      "FINAL MODEL: Coefs:  [ 2.09446367 -3.90553633 -0.90553633]  E_in: 2.5771148736000735 E_out: 3.7819684018688267\n",
      "______________________________________ M=49\n",
      "FINAL MODEL: Coefs:  [-3.80605416  4.19394584  2.19394584]  E_in: 3.215884852149814 E_out: 5.662481635546063\n",
      "\n",
      "_____________________________________________________________________ AVERAGE POLYNOMIALS\n",
      "\n",
      "AVERAGE MODEL: Coefs:  [-0.5875817948809757, 0.11241820511902016, -0.007581794880974217]  E_in_bar: 9.27545 E_out_bar: 14.72398\n",
      "\n",
      "_____________________________________________________________________ TESTING\n",
      "\n",
      "E_bias: 1.8114746904079184\n"
     ]
    },
    {
     "data": {
      "text/plain": [
       "(9.27545152195717, 14.72398187142399, 1.8114746904079184)"
      ]
     },
     "execution_count": 38,
     "metadata": {},
     "output_type": "execute_result"
    }
   ],
   "source": [
    "def experiment(N, d, var, M=50, details=False):\n",
    "    \n",
    "    training_data_df = getData(N,var)\n",
    "    \n",
    "    polynomials = []\n",
    "    E_ins = []\n",
    "    E_outs = []\n",
    "    \n",
    "    if details: print(\"_____________________________________________________________________ START TRIALS\\n\")\n",
    "    \n",
    "    for i in range(M):\n",
    "        if details: print(\"______________________________________ M=\"+str(i))\n",
    "        (p,ein,eout) = fitData(training_data_df, d, var, gd_type='GD', learning_rate=0.01, epochs=1500, testing_size=2000, details=False)\n",
    "        polynomials.append(p)\n",
    "        E_ins.append(ein)\n",
    "        E_outs.append(eout)\n",
    "        \n",
    "        if details: print(\"FINAL MODEL: Coefs: \", p, \" E_in: \"+ str(ein)+\" E_out: \"+str(eout))\n",
    "        \n",
    "    if details: print(\"\\n_____________________________________________________________________ AVERAGE POLYNOMIALS\\n\")\n",
    "    \n",
    "    E_in_bar = statistics.mean(E_ins)\n",
    "    E_out_bar = statistics.mean(E_outs)\n",
    "    \n",
    "    average_polynomial = []\n",
    "    transpose_coefs = np.array(polynomials).T.tolist()\n",
    "    \n",
    "    for i in range(d+1):\n",
    "        average_polynomial.append(statistics.mean(transpose_coefs[i]))\n",
    "        \n",
    "    if details: print(\"AVERAGE MODEL: Coefs: \", average_polynomial, \" E_in_bar: \"+ str(round(E_in_bar,5))+\" E_out_bar: \"+str(round(E_out_bar,5)))\n",
    "        \n",
    "        \n",
    "    if details: print(\"\\n_____________________________________________________________________ TESTING\\n\")\n",
    "        \n",
    "    testing_data_df = getData(2000, var)\n",
    "    \n",
    "    E_bias = getMSE(testing_data_df, average_polynomial)\n",
    "    \n",
    "    if details: print(\"E_bias: \"+str(E_bias))\n",
    "    \n",
    "    return (E_in_bar, E_out_bar, E_bias)\n",
    "\n",
    "experiment(2000, 2, 1.0, 50, True)"
   ]
  },
  {
   "cell_type": "markdown",
   "metadata": {},
   "source": [
    "# (E)"
   ]
  },
  {
   "cell_type": "code",
   "execution_count": null,
   "metadata": {},
   "outputs": [],
   "source": [
    "Nes = [2,5,10,20,50,100,200]\n",
    "Des = [0,1,2,3,4,5,6,7,8,9,10,11,12,13,14,15,16,17,18,19,20]\n",
    "Vares = [0.01, 0.1, 1]"
   ]
  },
  {
   "cell_type": "code",
   "execution_count": null,
   "metadata": {},
   "outputs": [],
   "source": []
  },
  {
   "cell_type": "code",
   "execution_count": null,
   "metadata": {},
   "outputs": [],
   "source": []
  }
 ],
 "metadata": {
  "kernelspec": {
   "display_name": "Python 3",
   "language": "python",
   "name": "python3"
  },
  "language_info": {
   "codemirror_mode": {
    "name": "ipython",
    "version": 3
   },
   "file_extension": ".py",
   "mimetype": "text/x-python",
   "name": "python",
   "nbconvert_exporter": "python",
   "pygments_lexer": "ipython3",
   "version": "3.8.5"
  }
 },
 "nbformat": 4,
 "nbformat_minor": 4
}
