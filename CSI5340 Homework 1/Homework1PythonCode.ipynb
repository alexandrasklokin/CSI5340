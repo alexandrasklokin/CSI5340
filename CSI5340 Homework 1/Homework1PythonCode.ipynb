{
 "cells": [
  {
   "cell_type": "code",
   "execution_count": 40,
   "metadata": {},
   "outputs": [],
   "source": [
    "import random\n",
    "import numpy as np\n",
    "import math\n",
    "import pandas as pd\n",
    "from sklearn.metrics import mean_squared_error\n",
    "import numdifftools as nd\n",
    "import inspect\n",
    "from matplotlib import pyplot as plt\n",
    "import statistics"
   ]
  },
  {
   "cell_type": "markdown",
   "metadata": {},
   "source": [
    "# (A)\n",
    "\n",
    "Assumptions:\n",
    "- X distributed uniformly from (0,1) INCLUSIVE"
   ]
  },
  {
   "cell_type": "code",
   "execution_count": 41,
   "metadata": {},
   "outputs": [],
   "source": [
    "def getData(N, var=1.0):\n",
    "    \n",
    "    if(N<1 or var<0):\n",
    "        return \"ERROR\"\n",
    "    \n",
    "    \n",
    "    xes = []\n",
    "    yes = []\n",
    "    zes = []\n",
    "    \n",
    "    for i in range(N):\n",
    "        x = random.uniform(0, 1)\n",
    "        z = np.random.normal(loc=0.0, scale=math.sqrt(var))\n",
    "        y = math.cos(2*math.pi*x)+z\n",
    "        \n",
    "        xes.append(x)\n",
    "        yes.append(y)\n",
    "        #zes.append(z)\n",
    "        \n",
    "    #df = pd.DataFrame(list(zip(xes,yes,zes)), columns =['X', 'Y','Z'])\n",
    "    df = pd.DataFrame(list(zip(xes,yes)), columns =['X', 'Y'])\n",
    "    \n",
    "    return df\n",
    "        "
   ]
  },
  {
   "cell_type": "code",
   "execution_count": 42,
   "metadata": {},
   "outputs": [
    {
     "data": {
      "text/html": [
       "<div>\n",
       "<style scoped>\n",
       "    .dataframe tbody tr th:only-of-type {\n",
       "        vertical-align: middle;\n",
       "    }\n",
       "\n",
       "    .dataframe tbody tr th {\n",
       "        vertical-align: top;\n",
       "    }\n",
       "\n",
       "    .dataframe thead th {\n",
       "        text-align: right;\n",
       "    }\n",
       "</style>\n",
       "<table border=\"1\" class=\"dataframe\">\n",
       "  <thead>\n",
       "    <tr style=\"text-align: right;\">\n",
       "      <th></th>\n",
       "      <th>X</th>\n",
       "      <th>Y</th>\n",
       "    </tr>\n",
       "  </thead>\n",
       "  <tbody>\n",
       "    <tr>\n",
       "      <th>0</th>\n",
       "      <td>0.349532</td>\n",
       "      <td>-1.283764</td>\n",
       "    </tr>\n",
       "    <tr>\n",
       "      <th>1</th>\n",
       "      <td>0.468292</td>\n",
       "      <td>-0.753571</td>\n",
       "    </tr>\n",
       "    <tr>\n",
       "      <th>2</th>\n",
       "      <td>0.018244</td>\n",
       "      <td>0.482211</td>\n",
       "    </tr>\n",
       "    <tr>\n",
       "      <th>3</th>\n",
       "      <td>0.937028</td>\n",
       "      <td>1.055965</td>\n",
       "    </tr>\n",
       "    <tr>\n",
       "      <th>4</th>\n",
       "      <td>0.498127</td>\n",
       "      <td>-0.745031</td>\n",
       "    </tr>\n",
       "    <tr>\n",
       "      <th>5</th>\n",
       "      <td>0.825555</td>\n",
       "      <td>0.842701</td>\n",
       "    </tr>\n",
       "    <tr>\n",
       "      <th>6</th>\n",
       "      <td>0.814513</td>\n",
       "      <td>0.675893</td>\n",
       "    </tr>\n",
       "    <tr>\n",
       "      <th>7</th>\n",
       "      <td>0.168830</td>\n",
       "      <td>1.641141</td>\n",
       "    </tr>\n",
       "    <tr>\n",
       "      <th>8</th>\n",
       "      <td>0.876287</td>\n",
       "      <td>0.634693</td>\n",
       "    </tr>\n",
       "    <tr>\n",
       "      <th>9</th>\n",
       "      <td>0.925371</td>\n",
       "      <td>3.069076</td>\n",
       "    </tr>\n",
       "  </tbody>\n",
       "</table>\n",
       "</div>"
      ],
      "text/plain": [
       "          X         Y\n",
       "0  0.349532 -1.283764\n",
       "1  0.468292 -0.753571\n",
       "2  0.018244  0.482211\n",
       "3  0.937028  1.055965\n",
       "4  0.498127 -0.745031\n",
       "5  0.825555  0.842701\n",
       "6  0.814513  0.675893\n",
       "7  0.168830  1.641141\n",
       "8  0.876287  0.634693\n",
       "9  0.925371  3.069076"
      ]
     },
     "execution_count": 42,
     "metadata": {},
     "output_type": "execute_result"
    }
   ],
   "source": [
    "# CHECK\n",
    "\n",
    "myDf = getData(10,2.0)\n",
    "\n",
    "myDf"
   ]
  },
  {
   "cell_type": "markdown",
   "metadata": {},
   "source": [
    "# (B)"
   ]
  },
  {
   "cell_type": "code",
   "execution_count": 43,
   "metadata": {},
   "outputs": [],
   "source": [
    "def getPolynomialY(poly_coefs, x):\n",
    "    \n",
    "    y = 0\n",
    "    \n",
    "    for i in range(len(poly_coefs)):\n",
    "        y += poly_coefs[i] * (x**i)\n",
    "        \n",
    "    return y"
   ]
  },
  {
   "cell_type": "code",
   "execution_count": 44,
   "metadata": {},
   "outputs": [],
   "source": [
    "def getPrediction(coefs, xes):\n",
    "    \n",
    "    y_preds = []\n",
    "    \n",
    "    for x in xes:\n",
    "        y_preds.append(getPolynomialY(coefs,x))\n",
    "        \n",
    "    return y_preds"
   ]
  },
  {
   "cell_type": "code",
   "execution_count": 45,
   "metadata": {},
   "outputs": [
    {
     "name": "stdout",
     "output_type": "stream",
     "text": [
      "x = 2, y =(true) 84 =(pred)  84\n",
      "x = (-0.1), y =(true) 1.6506 =(pred)  1.6505999999999998\n"
     ]
    }
   ],
   "source": [
    "# CHECK\n",
    "\n",
    "# y = 2 + 3x + (-5)x^2 + 0x^3 + 6x^4\n",
    "# Online Calculator: (2,84) , (-0.1, 1.6506)\n",
    "\n",
    "print(\"x = 2, y =(true) 84 =(pred) \", getPolynomialY([2, 3, -5, 0, 6], 2))\n",
    "print(\"x = (-0.1), y =(true) 1.6506 =(pred) \", getPolynomialY([2, 3, -5, 0, 6], -0.1))"
   ]
  },
  {
   "cell_type": "code",
   "execution_count": 46,
   "metadata": {},
   "outputs": [],
   "source": [
    "def getMSE(df, poly_coefs):\n",
    "    \n",
    "    N = len(df['X'])\n",
    "    \n",
    "    y_preds = getPrediction(poly_coefs, df['X'])\n",
    "        \n",
    "    y_residual = df['Y'] - y_preds\n",
    "    \n",
    "    return np.sum(np.dot(y_residual.T , y_residual)) / len(df['Y'] - y_residual)"
   ]
  },
  {
   "cell_type": "code",
   "execution_count": 47,
   "metadata": {},
   "outputs": [
    {
     "name": "stdout",
     "output_type": "stream",
     "text": [
      "11.022662706627695 (pred)=(true) 11.022662706627695\n"
     ]
    }
   ],
   "source": [
    "# CHECK\n",
    "\n",
    "Y_pred = []\n",
    "\n",
    "for i in range(len(myDf['X'])):\n",
    "    Y_pred.append( getPolynomialY([1,2,3], myDf['X'][i]) )\n",
    "\n",
    "print(getMSE(myDf,[1,2,3]), \"(pred)=(true)\", mean_squared_error(myDf['Y'],Y_pred))"
   ]
  },
  {
   "cell_type": "markdown",
   "metadata": {},
   "source": [
    "# (C)"
   ]
  },
  {
   "cell_type": "code",
   "execution_count": 48,
   "metadata": {},
   "outputs": [],
   "source": [
    "def gradientDescent(theta, df, d, learning_rate, epochs, details=False):\n",
    "    \n",
    "    N = len(df['X'])\n",
    "    \n",
    "    # UPDATE THETA EPOCHS TIMES ______________________________\n",
    "    \n",
    "    for k in range(epochs):\n",
    "        \n",
    "        y_preds = getPrediction(theta, df['X'])\n",
    "        \n",
    "        derivate = (np.dot( (y_preds - df['Y'] ), df['X'] ) * 2) / len(df['Y'])\n",
    "        \n",
    "        theta = theta - learning_rate * derivate\n",
    "        \n",
    "        if details: print(\"Epoch: \"+str(k)+\", Coefs: \", theta, \"MSE: \"+ str(round(getMSE(df, theta), 5)))\n",
    "        \n",
    "    return theta\n",
    "    \n",
    "#coefs = gradientDescent(df = myDf, d = 2, epochs = 500, details=True)"
   ]
  },
  {
   "cell_type": "code",
   "execution_count": 49,
   "metadata": {},
   "outputs": [],
   "source": [
    "def stochasticGradientDescent(theta, df, d, learning_rate, epochs, details=False):\n",
    "        \n",
    "    N = len(df['X'])\n",
    "    \n",
    "    # UPDATE THETA EPOCHS TIMES ______________________________\n",
    "    \n",
    "    for k in range(epochs):\n",
    "        \n",
    "        randomindex = random.randint(0, N-1)\n",
    "        X = df['X'][randomindex]\n",
    "        Y = df['Y'][randomindex]\n",
    "        \n",
    "        y_preds = getPolynomialY(theta, X)\n",
    "        \n",
    "        derivate = (( (y_preds - Y ) * X ) * 2)\n",
    "        \n",
    "        theta = theta - learning_rate * derivate\n",
    "        \n",
    "        if details: print(\"Epoch: \"+str(k)+\", Coefs: \", theta, \"MSE: \"+ str(round(getMSE(df, theta), 5)))\n",
    "        \n",
    "    return theta\n",
    "    \n",
    "#coefs = stochasticGradientDescent(df = myDf, d = 2, epochs = 1500, details=True)"
   ]
  },
  {
   "cell_type": "code",
   "execution_count": 50,
   "metadata": {},
   "outputs": [],
   "source": [
    "def miniBatchStochasticGradientDescent(theta, df, d, learning_rate, mini_batch_size, epochs, details=False):\n",
    "    \n",
    "    N = len(df['X'])\n",
    "        \n",
    "    # UPDATE THETA EPOCHS TIMES ______________________________\n",
    "    \n",
    "    for k in range(epochs):\n",
    "        \n",
    "        batchIndices = random.sample(range(0, N), mini_batch_size)\n",
    "            \n",
    "        X = df['X'][batchIndices]\n",
    "        Y = df['Y'][batchIndices]\n",
    "        \n",
    "        y_preds = getPrediction(theta, X)\n",
    "        \n",
    "        derivate = (np.dot( (y_preds - Y ), X ) * 2) / len(Y)\n",
    "        \n",
    "        theta = theta - learning_rate * derivate\n",
    "        \n",
    "        if details: print(\"Epoch: \"+str(k)+\", Coefs: \", theta, \"MSE: \"+ str(round(getMSE(df, theta), 5)))\n",
    "        \n",
    "    return theta\n",
    "    \n",
    "# coefs = miniBatchStochasticGradientDescent(df = myDf, d = 2, mini_batch_size = 2, epochs = 500, details=True)"
   ]
  },
  {
   "cell_type": "code",
   "execution_count": 51,
   "metadata": {},
   "outputs": [],
   "source": [
    "def Learn_Coefs(df, d, gd_type, learning_rate, mini_batch_size, epochs, details=False):\n",
    "        \n",
    "    theta = []\n",
    "    \n",
    "    # START FROM A RANDOM NON-ZERO THETA _____________________\n",
    "    \n",
    "    for i in range(d+1):\n",
    "        num = 0\n",
    "        while num==0:\n",
    "            num = random.randint(-15.0,15)\n",
    "        theta.append(num)\n",
    "    \n",
    "    if details: print(\"Random Coefs: \", theta, \"MSE: \"+ str(round(getMSE(df, theta), 5)))\n",
    "        \n",
    "    if (gd_type == 'GD'):\n",
    "        \n",
    "        estim_poly_coefs = gradientDescent(theta, df, d, learning_rate, epochs, details)\n",
    "    \n",
    "    elif (gd_type == 'SGD'):\n",
    "        \n",
    "        estim_poly_coefs = stochasticGradientDescent(theta, df, d, learning_rate, epochs, details)\n",
    "    \n",
    "    elif (gd_type == 'mini-batched-SGD'):\n",
    "        \n",
    "        estim_poly_coefs = miniBatchStochasticGradientDescent(theta, df, d, learning_rate, mini_batch_size, epochs, details)\n",
    "    else:\n",
    "        return \"ERROR\"\n",
    "    \n",
    "    return estim_poly_coefs\n",
    "    "
   ]
  },
  {
   "cell_type": "code",
   "execution_count": 52,
   "metadata": {},
   "outputs": [],
   "source": [
    "def fitData(df, d, var, gd_type='GD', learning_rate=0.01, mini_batch_size = 10, epochs = 1500, testing_size=2000, details=False):\n",
    "\n",
    "    # (1)\n",
    "    estim_poly_coefs = Learn_Coefs(df, d, gd_type, learning_rate, mini_batch_size, epochs, details)\n",
    "    \n",
    "    # (2)\n",
    "    E_in = getMSE(df, estim_poly_coefs)\n",
    "    \n",
    "    #(3)\n",
    "    E_out = getMSE(getData(testing_size, var), estim_poly_coefs)\n",
    "        \n",
    "    return (estim_poly_coefs, E_in, E_out)"
   ]
  },
  {
   "cell_type": "code",
   "execution_count": 53,
   "metadata": {},
   "outputs": [
    {
     "name": "stdout",
     "output_type": "stream",
     "text": [
      "Random Coefs:  [1, 12, -11] MSE: 10.04324\n",
      "Epoch: 0, Coefs:  [  0.97117851  11.97117851 -11.02882149] MSE: 9.76038\n",
      "Epoch: 1, Coefs:  [  0.94316474  11.94316474 -11.05683526] MSE: 9.49272\n",
      "Epoch: 2, Coefs:  [  0.91593603  11.91593603 -11.08406397] MSE: 9.23942\n",
      "Epoch: 3, Coefs:  [  0.8894704  11.8894704 -11.1105296] MSE: 8.9997\n",
      "Epoch: 4, Coefs:  [  0.86374645  11.86374645 -11.13625355] MSE: 8.77282\n",
      "Epoch: 5, Coefs:  [  0.8387434  11.8387434 -11.1612566] MSE: 8.55809\n",
      "Epoch: 6, Coefs:  [  0.81444106  11.81444106 -11.18555894] MSE: 8.35484\n",
      "Epoch: 7, Coefs:  [  0.79081977  11.79081977 -11.20918023] MSE: 8.16245\n",
      "Epoch: 8, Coefs:  [  0.76786046  11.76786046 -11.23213954] MSE: 7.98032\n",
      "Epoch: 9, Coefs:  [  0.74554457  11.74554457 -11.25445543] MSE: 7.80792\n"
     ]
    },
    {
     "data": {
      "text/plain": [
       "(array([  0.74554457,  11.74554457, -11.25445543]),\n",
       " 7.807915191000899,\n",
       " 12.731921818456648)"
      ]
     },
     "execution_count": 53,
     "metadata": {},
     "output_type": "execute_result"
    }
   ],
   "source": [
    "# Check\n",
    "\n",
    "# GD\n",
    "fitData(df=myDf, d=2, gd_type='GD', learning_rate=0.01, testing_size=2000, epochs = 10, var=2.0, details=True)"
   ]
  },
  {
   "cell_type": "code",
   "execution_count": 54,
   "metadata": {},
   "outputs": [
    {
     "name": "stdout",
     "output_type": "stream",
     "text": [
      "Random Coefs:  [-3, 14, 8] MSE: 112.2669\n",
      "Epoch: 0, Coefs:  [-2.99882358 14.00117642  8.00117642] MSE: 112.31636\n",
      "Epoch: 1, Coefs:  [-3.05563714 13.94436286  7.94436286] MSE: 109.9421\n",
      "Epoch: 2, Coefs:  [-3.05444004 13.94555996  7.94555996] MSE: 109.99182\n",
      "Epoch: 3, Coefs:  [-3.04729963 13.95270037  7.95270037] MSE: 110.28868\n",
      "Epoch: 4, Coefs:  [-3.34627646 13.65372354  7.65372354] MSE: 98.25676\n",
      "Epoch: 5, Coefs:  [-3.33795618 13.66204382  7.66204382] MSE: 98.58057\n",
      "Epoch: 6, Coefs:  [-3.57478717 13.42521283  7.42521283] MSE: 89.61047\n",
      "Epoch: 7, Coefs:  [-3.59791691 13.40208309  7.40208309] MSE: 88.76185\n",
      "Epoch: 8, Coefs:  [-3.65430226 13.34569774  7.34569774] MSE: 86.71354\n",
      "Epoch: 9, Coefs:  [-3.70075551 13.29924449  7.29924449] MSE: 85.04782\n"
     ]
    },
    {
     "data": {
      "text/plain": [
       "(array([-3.70075551, 13.29924449,  7.29924449]),\n",
       " 85.04781686249831,\n",
       " 66.45557822808877)"
      ]
     },
     "execution_count": 54,
     "metadata": {},
     "output_type": "execute_result"
    }
   ],
   "source": [
    "# Check\n",
    "\n",
    "# SGD\n",
    "fitData(df=myDf, d=2, gd_type='SGD', learning_rate=0.01, testing_size=2000, epochs = 10, var=2.0, details=True)"
   ]
  },
  {
   "cell_type": "code",
   "execution_count": 55,
   "metadata": {},
   "outputs": [
    {
     "name": "stdout",
     "output_type": "stream",
     "text": [
      "Random Coefs:  [12, -3, -7] MSE: 58.9354\n",
      "Epoch: 0, Coefs:  [11.96845449 -3.03154551 -7.03154551] MSE: 58.25615\n",
      "Epoch: 1, Coefs:  [11.95013631 -3.04986369 -7.04986369] MSE: 57.86588\n",
      "Epoch: 2, Coefs:  [11.87937032 -3.12062968 -7.12062968] MSE: 56.38696\n",
      "Epoch: 3, Coefs:  [11.83727586 -3.16272414 -7.16272414] MSE: 55.52892\n",
      "Epoch: 4, Coefs:  [11.80399222 -3.19600778 -7.19600778] MSE: 54.86191\n",
      "Epoch: 5, Coefs:  [11.74368416 -3.25631584 -7.25631584] MSE: 53.67908\n",
      "Epoch: 6, Coefs:  [11.69083449 -3.30916551 -7.30916551] MSE: 52.66981\n",
      "Epoch: 7, Coefs:  [11.66292204 -3.33707796 -7.33707796] MSE: 52.14705\n",
      "Epoch: 8, Coefs:  [11.59075967 -3.40924033 -7.40924033] MSE: 50.82849\n",
      "Epoch: 9, Coefs:  [11.53145934 -3.46854066 -7.46854066] MSE: 49.7805\n"
     ]
    },
    {
     "data": {
      "text/plain": [
       "(array([11.53145934, -3.46854066, -7.46854066]),\n",
       " 49.78050483672055,\n",
       " 66.24530823266197)"
      ]
     },
     "execution_count": 55,
     "metadata": {},
     "output_type": "execute_result"
    }
   ],
   "source": [
    "# Check\n",
    "\n",
    "# Mini-Batch SGD\n",
    "fitData(df=myDf, d=2, gd_type='mini-batched-SGD', learning_rate=0.01, mini_batch_size=2, epochs = 10, testing_size=2000, var=2.0, details=True)"
   ]
  },
  {
   "cell_type": "markdown",
   "metadata": {},
   "source": [
    "# (D)"
   ]
  },
  {
   "cell_type": "code",
   "execution_count": 57,
   "metadata": {},
   "outputs": [
    {
     "name": "stdout",
     "output_type": "stream",
     "text": [
      "_____________________________________________________________________ START TRIALS\n",
      "\n",
      "______________________________________ M=0\n",
      "FINAL MODEL: Coefs:  [ 7.06557929 -4.93442071 -7.93442071]  E_in: 20.438940593213687 E_out: 20.631228281244933\n",
      "______________________________________ M=1\n",
      "FINAL MODEL: Coefs:  [-0.65029208  1.34970792 -0.65029208]  E_in: 1.4973059788885983 E_out: 1.5820899234987582\n",
      "______________________________________ M=2\n",
      "FINAL MODEL: Coefs:  [-0.7218937 -0.7218937  2.2781063]  E_in: 1.4180182714698844 E_out: 1.5711783512906805\n",
      "______________________________________ M=3\n",
      "FINAL MODEL: Coefs:  [ 3.40009509 -2.59990491 -3.59990491]  E_in: 6.156283381369592 E_out: 6.092923771694247\n",
      "______________________________________ M=4\n",
      "FINAL MODEL: Coefs:  [  9.45332247 -15.54667753   1.45332247]  E_in: 21.99488149916926 E_out: 21.87385832924212\n",
      "______________________________________ M=5\n",
      "FINAL MODEL: Coefs:  [-5.08558223  6.91441777  0.91441777]  E_in: 7.1585786577753865 E_out: 8.081382487361426\n",
      "______________________________________ M=6\n",
      "FINAL MODEL: Coefs:  [-8.43104136  2.56895864 13.56895864]  E_in: 27.704607645876578 E_out: 30.32028036898819\n",
      "______________________________________ M=7\n",
      "FINAL MODEL: Coefs:  [  2.23866245   5.23866245 -11.76133755]  E_in: 8.2754956870775 E_out: 7.835563689460035\n",
      "______________________________________ M=8\n",
      "FINAL MODEL: Coefs:  [ 10.05975403 -13.94024597  -1.94024597]  E_in: 28.101510027361158 E_out: 29.314249535481693\n",
      "______________________________________ M=9\n",
      "FINAL MODEL: Coefs:  [-2.4897579  5.5102421 -2.4897579]  E_in: 2.4106163734733728 E_out: 2.950886367265498\n",
      "______________________________________ M=10\n",
      "FINAL MODEL: Coefs:  [  6.92909977 -12.07090023   1.92909977]  E_in: 12.081539000277917 E_out: 12.808143906814891\n",
      "______________________________________ M=11\n",
      "FINAL MODEL: Coefs:  [-3.70934472  5.29065528  0.29065528]  E_in: 4.257909769811215 E_out: 5.204587632978926\n",
      "______________________________________ M=12\n",
      "FINAL MODEL: Coefs:  [-5.70546121 11.29453879 -3.70546121]  E_in: 7.1068764639273185 E_out: 8.317369800264906\n",
      "______________________________________ M=13\n",
      "FINAL MODEL: Coefs:  [-4.15240189 -1.15240189  9.84759811]  E_in: 8.624794143228229 E_out: 9.654348634113155\n",
      "______________________________________ M=14\n",
      "FINAL MODEL: Coefs:  [ 2.02385759 -0.97614241 -2.97614241]  E_in: 3.5972474310411298 E_out: 3.495785791431749\n",
      "______________________________________ M=15\n",
      "FINAL MODEL: Coefs:  [  2.610118   9.610118 -18.389882]  E_in: 13.963887166732402 E_out: 13.425784773669944\n",
      "______________________________________ M=16\n",
      "FINAL MODEL: Coefs:  [-10.19890555   8.80109445   8.80109445]  E_in: 32.1853372879817 E_out: 35.10139794231145\n",
      "______________________________________ M=17\n",
      "FINAL MODEL: Coefs:  [-3.09618945  3.90381055  0.90381055]  E_in: 3.4476269668741004 E_out: 3.900147163440626\n",
      "______________________________________ M=18\n",
      "FINAL MODEL: Coefs:  [ 1.25405164  2.25405164 -5.74594836]  E_in: 3.652505992734392 E_out: 3.465631467017799\n",
      "______________________________________ M=19\n",
      "FINAL MODEL: Coefs:  [-3.5325229 -5.5325229 14.4674771]  E_in: 9.404305149893922 E_out: 9.633193079583268\n",
      "______________________________________ M=20\n",
      "FINAL MODEL: Coefs:  [-5.1370127 -4.1370127 15.8629873]  E_in: 15.467645518831912 E_out: 16.19630085933123\n",
      "______________________________________ M=21\n",
      "FINAL MODEL: Coefs:  [-2.92609134 -3.92609134 11.07390866]  E_in: 6.209472506640773 E_out: 6.604261842596404\n",
      "______________________________________ M=22\n",
      "FINAL MODEL: Coefs:  [ 2.56541124 -4.43458876  0.56541124]  E_in: 3.0773174454988714 E_out: 2.9166231003727034\n",
      "______________________________________ M=23\n",
      "FINAL MODEL: Coefs:  [ 4.23477895 -0.76522105 -7.76522105]  E_in: 10.61105603362452 E_out: 10.080943060184326\n",
      "______________________________________ M=24\n",
      "FINAL MODEL: Coefs:  [ 12.32882958  -5.67117042 -17.67117042]  E_in: 63.12994189784405 E_out: 62.91796765210933\n",
      "______________________________________ M=25\n",
      "FINAL MODEL: Coefs:  [-3.78767006  6.21232994 -0.78767006]  E_in: 4.164268489840884 E_out: 5.169337600508333\n",
      "______________________________________ M=26\n",
      "FINAL MODEL: Coefs:  [-2.65313229 10.34686771 -8.65313229]  E_in: 2.7339314845457547 E_out: 3.217476386398328\n",
      "______________________________________ M=27\n",
      "FINAL MODEL: Coefs:  [-0.33026701 -5.33026701  7.66973299]  E_in: 1.525923209029842 E_out: 1.7018474619009811\n",
      "______________________________________ M=28\n",
      "FINAL MODEL: Coefs:  [  6.98053024  -1.01946976 -13.01946976]  E_in: 25.125879224939187 E_out: 24.55585708443892\n",
      "______________________________________ M=29\n",
      "FINAL MODEL: Coefs:  [-1.71995195  2.28004805  0.28004805]  E_in: 1.9289921113527524 E_out: 2.398475579461796\n",
      "______________________________________ M=30\n",
      "FINAL MODEL: Coefs:  [ 1.57407671 -4.42592329  2.57407671]  E_in: 1.6345568890797009 E_out: 1.5973404378376457\n",
      "______________________________________ M=31\n",
      "FINAL MODEL: Coefs:  [-3.23939269 -0.23939269  6.76060731]  E_in: 5.207360152899787 E_out: 5.978082889344842\n",
      "______________________________________ M=32\n",
      "FINAL MODEL: Coefs:  [ 0.09934272  7.09934272 -9.90065728]  E_in: 3.9346465488441384 E_out: 3.876016537349582\n",
      "______________________________________ M=33\n",
      "FINAL MODEL: Coefs:  [-4.00247493e+00 -2.47492540e-03  7.99752507e+00]  E_in: 7.3727510266408665 E_out: 7.784749721295366\n",
      "______________________________________ M=34\n",
      "FINAL MODEL: Coefs:  [ 2.01713387  2.01713387 -6.98286613]  E_in: 5.262849064153837 E_out: 4.9802455573441815\n",
      "______________________________________ M=35\n",
      "FINAL MODEL: Coefs:  [-5.60024101 -1.60024101 13.39975899]  E_in: 15.357721549577189 E_out: 16.387846432682526\n",
      "______________________________________ M=36\n",
      "FINAL MODEL: Coefs:  [-8.96587129  3.03412871 14.03412871]  E_in: 30.907081792273868 E_out: 34.60100696689512\n",
      "______________________________________ M=37\n",
      "FINAL MODEL: Coefs:  [-2.54791208 -2.54791208  8.45208792]  E_in: 4.467354761144489 E_out: 4.905418489606608\n",
      "______________________________________ M=38\n",
      "FINAL MODEL: Coefs:  [ 2.87871259 -8.12128741  4.87871259]  E_in: 2.2345022096890537 E_out: 2.270080058165663\n",
      "______________________________________ M=39\n",
      "FINAL MODEL: Coefs:  [ 3.25689185 -6.74310815  2.25689185]  E_in: 3.4534276186170922 E_out: 3.391630404292765\n",
      "______________________________________ M=40\n",
      "FINAL MODEL: Coefs:  [-0.26538911 -0.26538911  0.73461089]  E_in: 1.3572537763175716 E_out: 1.460989491863118\n",
      "______________________________________ M=41\n",
      "FINAL MODEL: Coefs:  [-3.29754688 -8.29754688 17.70245312]  E_in: 10.669255377905595 E_out: 11.5933335790099\n",
      "______________________________________ M=42\n",
      "FINAL MODEL: Coefs:  [  9.97470498 -10.02529502  -7.02529502]  E_in: 33.238426411112314 E_out: 33.12868040251432\n",
      "______________________________________ M=43\n",
      "FINAL MODEL: Coefs:  [ 4.39142962 -2.60857038 -5.60857038]  E_in: 9.60922870386695 E_out: 9.353005614151403\n",
      "______________________________________ M=44\n",
      "FINAL MODEL: Coefs:  [-4.7208504 14.2791496 -9.7208504]  E_in: 4.4315211625351445 E_out: 5.32312657348839\n",
      "______________________________________ M=45\n",
      "FINAL MODEL: Coefs:  [-10.94854035   3.05145965  18.05145965]  E_in: 47.27917727821964 E_out: 48.80841449989991\n",
      "______________________________________ M=46\n",
      "FINAL MODEL: Coefs:  [-2.26822931  8.73177069 -7.26822931]  E_in: 2.4534843515733944 E_out: 2.8521428927141104\n",
      "______________________________________ M=47\n",
      "FINAL MODEL: Coefs:  [ 2.04402874 -9.95597126  9.04402874]  E_in: 1.0748481588869903 E_out: 1.0993994413670225\n",
      "______________________________________ M=48\n",
      "FINAL MODEL: Coefs:  [ 6.83732699 -5.16267301 -7.16267301]  E_in: 18.82210646484207 E_out: 18.934779491578603\n",
      "______________________________________ M=49\n",
      "FINAL MODEL: Coefs:  [-7.52475588  6.47524412  6.47524412]  E_in: 17.734068375263707 E_out: 20.30406806831921\n",
      "\n",
      "_____________________________________________________________________ AVERAGE POLYNOMIALS\n",
      "\n",
      "AVERAGE MODEL: Coefs:  [-0.26981967676638596, -0.32981967676638696, 0.830180323233611]  E_in_bar: 11.67909 E_out_bar: 12.19299\n",
      "\n",
      "_____________________________________________________________________ TESTING\n",
      "\n",
      "E_bias: 1.4490109103204705\n"
     ]
    },
    {
     "data": {
      "text/plain": [
       "(11.679086341675387, 12.192989589483538, 1.4490109103204705)"
      ]
     },
     "execution_count": 57,
     "metadata": {},
     "output_type": "execute_result"
    }
   ],
   "source": [
    "def experiment(N, d, var, M=50, details=False):\n",
    "    \n",
    "    training_data_df = getData(N,var)\n",
    "    \n",
    "    polynomials = []\n",
    "    E_ins = []\n",
    "    E_outs = []\n",
    "    \n",
    "    if details: print(\"_____________________________________________________________________ START TRIALS\\n\")\n",
    "    \n",
    "    for i in range(M):\n",
    "        if details: print(\"______________________________________ M=\"+str(i))\n",
    "        (p,ein,eout) = fitData(training_data_df, d, var, gd_type='GD', learning_rate=0.01, epochs=1500, testing_size=2000, details=False)\n",
    "        polynomials.append(p)\n",
    "        E_ins.append(ein)\n",
    "        E_outs.append(eout)\n",
    "        \n",
    "        if details: print(\"FINAL MODEL: Coefs: \", p, \" E_in: \"+ str(ein)+\" E_out: \"+str(eout))\n",
    "        \n",
    "    if details: print(\"\\n_____________________________________________________________________ AVERAGE POLYNOMIALS\\n\")\n",
    "    \n",
    "    E_in_bar = statistics.mean(E_ins)\n",
    "    E_out_bar = statistics.mean(E_outs)\n",
    "    \n",
    "    average_polynomial = []\n",
    "    transpose_coefs = np.array(polynomials).T.tolist()\n",
    "    \n",
    "    for i in range(d+1):\n",
    "        average_polynomial.append(statistics.mean(transpose_coefs[i]))\n",
    "        \n",
    "    if details: print(\"AVERAGE MODEL: Coefs: \", average_polynomial, \" E_in_bar: \"+ str(round(E_in_bar,5))+\" E_out_bar: \"+str(round(E_out_bar,5)))\n",
    "        \n",
    "        \n",
    "    if details: print(\"\\n_____________________________________________________________________ TESTING\\n\")\n",
    "        \n",
    "    testing_data_df = getData(2000, var)\n",
    "    \n",
    "    E_bias = getMSE(testing_data_df, average_polynomial)\n",
    "    \n",
    "    if details: print(\"E_bias: \"+str(E_bias))\n",
    "    \n",
    "    return (E_in_bar, E_out_bar, E_bias)\n",
    "\n",
    "experiment(200, 2, 1.0, 50, True)"
   ]
  },
  {
   "cell_type": "markdown",
   "metadata": {},
   "source": [
    "# (E)"
   ]
  },
  {
   "cell_type": "code",
   "execution_count": null,
   "metadata": {},
   "outputs": [],
   "source": [
    "Nes = [2,5,10,20,50,100,200]\n",
    "Des = [0,1,2,3,4,5,6,7,8,9,10,11,12,13,14,15,16,17,18,19,20]\n",
    "Vares = [0.01, 0.1, 1]"
   ]
  },
  {
   "cell_type": "code",
   "execution_count": null,
   "metadata": {},
   "outputs": [],
   "source": []
  },
  {
   "cell_type": "code",
   "execution_count": null,
   "metadata": {},
   "outputs": [],
   "source": []
  }
 ],
 "metadata": {
  "kernelspec": {
   "display_name": "Python 3",
   "language": "python",
   "name": "python3"
  },
  "language_info": {
   "codemirror_mode": {
    "name": "ipython",
    "version": 3
   },
   "file_extension": ".py",
   "mimetype": "text/x-python",
   "name": "python",
   "nbconvert_exporter": "python",
   "pygments_lexer": "ipython3",
   "version": "3.8.5"
  }
 },
 "nbformat": 4,
 "nbformat_minor": 4
}
