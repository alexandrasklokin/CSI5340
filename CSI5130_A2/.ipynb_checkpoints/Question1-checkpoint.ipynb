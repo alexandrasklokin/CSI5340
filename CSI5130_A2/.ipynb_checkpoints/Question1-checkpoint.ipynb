{
 "cells": [
  {
   "cell_type": "code",
   "execution_count": 1,
   "metadata": {},
   "outputs": [],
   "source": [
    "import random\n",
    "import math"
   ]
  },
  {
   "cell_type": "markdown",
   "metadata": {},
   "source": [
    "# Helper Functions"
   ]
  },
  {
   "cell_type": "code",
   "execution_count": 2,
   "metadata": {},
   "outputs": [],
   "source": [
    "def matrixVectorMultiplication(M,v):\n",
    "    \n",
    "    mult = []\n",
    "    \n",
    "    for row in M:\n",
    "        temp = 0\n",
    "        for i in range(len(v)):\n",
    "            temp += row[i] * v[i]\n",
    "        mult.append(temp)\n",
    "        \n",
    "    return mult"
   ]
  },
  {
   "cell_type": "code",
   "execution_count": 3,
   "metadata": {},
   "outputs": [
    {
     "data": {
      "text/plain": [
       "[17, 39]"
      ]
     },
     "execution_count": 3,
     "metadata": {},
     "output_type": "execute_result"
    }
   ],
   "source": [
    "# Check\n",
    "\n",
    "# Expected Answer: [17,39]\n",
    "matrixVectorMultiplication([[1,2],[3,4]],[5,6])"
   ]
  },
  {
   "cell_type": "code",
   "execution_count": 4,
   "metadata": {},
   "outputs": [],
   "source": [
    "def vectorMatrixMultiplication(v,M):\n",
    "    \n",
    "    mult = []\n",
    "    \n",
    "    for i in range(len(v)):\n",
    "        temp = 0\n",
    "        for j in range(len(v)):\n",
    "            temp += v[j] * M[j][i]\n",
    "        mult.append(temp)\n",
    "        \n",
    "    return mult"
   ]
  },
  {
   "cell_type": "code",
   "execution_count": 5,
   "metadata": {},
   "outputs": [
    {
     "data": {
      "text/plain": [
       "[23, 34]"
      ]
     },
     "execution_count": 5,
     "metadata": {},
     "output_type": "execute_result"
    }
   ],
   "source": [
    "# Check\n",
    "\n",
    "# Expected Answer: [[23,34]]\n",
    "vectorMatrixMultiplication([5,6], [[1,2],[3,4]])"
   ]
  },
  {
   "cell_type": "code",
   "execution_count": 6,
   "metadata": {},
   "outputs": [],
   "source": [
    "def sigmoid(x):\n",
    "    return 1 / (1 + math.exp(-x))"
   ]
  },
  {
   "cell_type": "code",
   "execution_count": 7,
   "metadata": {},
   "outputs": [
    {
     "name": "stdout",
     "output_type": "stream",
     "text": [
      "0.7685247834990175 0.9525741268224334 0.9933071490757153 0.2689414213699951 0.574442516811659\n"
     ]
    }
   ],
   "source": [
    "#Check \n",
    "\n",
    "print(sigmoid(1.2), sigmoid(3), sigmoid(5), sigmoid(-1), sigmoid(0.3))"
   ]
  },
  {
   "cell_type": "code",
   "execution_count": 8,
   "metadata": {},
   "outputs": [],
   "source": [
    "def sigmoidList(v):\n",
    "    temp = []\n",
    "    \n",
    "    for i in v:\n",
    "        temp.append(sigmoid(i))\n",
    "    \n",
    "    return temp"
   ]
  },
  {
   "cell_type": "code",
   "execution_count": 9,
   "metadata": {},
   "outputs": [
    {
     "data": {
      "text/plain": [
       "[0.7685247834990175,\n",
       " 0.9525741268224334,\n",
       " 0.9933071490757153,\n",
       " 0.2689414213699951,\n",
       " 0.574442516811659]"
      ]
     },
     "execution_count": 9,
     "metadata": {},
     "output_type": "execute_result"
    }
   ],
   "source": [
    "# Check\n",
    "\n",
    "sigmoidList([1.2,3,5,-1,0.3])"
   ]
  },
  {
   "cell_type": "code",
   "execution_count": 10,
   "metadata": {},
   "outputs": [],
   "source": [
    "def vectorAddition(v1,v2):\n",
    "    \n",
    "    temp = []\n",
    "    \n",
    "    for i in range(len(v1)):\n",
    "        temp.append(v1[i] + v2[i])\n",
    "        \n",
    "    return temp"
   ]
  },
  {
   "cell_type": "code",
   "execution_count": 11,
   "metadata": {},
   "outputs": [
    {
     "data": {
      "text/plain": [
       "[2, 6, 9]"
      ]
     },
     "execution_count": 11,
     "metadata": {},
     "output_type": "execute_result"
    }
   ],
   "source": [
    "# Check\n",
    "\n",
    "# Expected Answer: [2,6,9]\n",
    "vectorAddition([1,2,5],[1,4,4])"
   ]
  },
  {
   "cell_type": "code",
   "execution_count": 12,
   "metadata": {},
   "outputs": [],
   "source": [
    "def get2Norm(v):\n",
    "    \n",
    "    temp = 0\n",
    "    \n",
    "    for i in v:\n",
    "        temp += i**2\n",
    "        \n",
    "    return math.sqrt(temp)"
   ]
  },
  {
   "cell_type": "code",
   "execution_count": 13,
   "metadata": {},
   "outputs": [
    {
     "data": {
      "text/plain": [
       "5.477225575051661"
      ]
     },
     "execution_count": 13,
     "metadata": {},
     "output_type": "execute_result"
    }
   ],
   "source": [
    "# Check\n",
    "\n",
    "# Expected Answer: 1+4+9+16 = 30; sqrt(30) = 5.477\n",
    "get2Norm([1,2,3,4])"
   ]
  },
  {
   "cell_type": "code",
   "execution_count": 14,
   "metadata": {},
   "outputs": [],
   "source": [
    "def vectorscalarMultiplication(t,v):\n",
    "    \n",
    "    temp = []\n",
    "    \n",
    "    for i in v:\n",
    "        temp.append(t*i)\n",
    "        \n",
    "    return temp"
   ]
  },
  {
   "cell_type": "code",
   "execution_count": 15,
   "metadata": {},
   "outputs": [
    {
     "data": {
      "text/plain": [
       "[3, 6, -9]"
      ]
     },
     "execution_count": 15,
     "metadata": {},
     "output_type": "execute_result"
    }
   ],
   "source": [
    "# Check\n",
    "vectorscalarMultiplication(3,[1,2,-3])"
   ]
  },
  {
   "cell_type": "code",
   "execution_count": 16,
   "metadata": {},
   "outputs": [],
   "source": [
    "def vectorDotProduct(v1,v2):\n",
    "    \n",
    "    temp = []\n",
    "    \n",
    "    for i in range(len(v1)):\n",
    "        temp.append(v1[i] * v2[i])\n",
    "        \n",
    "    return temp"
   ]
  },
  {
   "cell_type": "code",
   "execution_count": 17,
   "metadata": {},
   "outputs": [
    {
     "data": {
      "text/plain": [
       "[1, 8, 20]"
      ]
     },
     "execution_count": 17,
     "metadata": {},
     "output_type": "execute_result"
    }
   ],
   "source": [
    "# Check\n",
    "\n",
    "# Expected Answer: [1,8,20]\n",
    "vectorDotProduct([1,2,5],[1,4,4])"
   ]
  },
  {
   "cell_type": "code",
   "execution_count": 18,
   "metadata": {},
   "outputs": [],
   "source": [
    "def vectorOfOnes(K):\n",
    "    temp = []\n",
    "    \n",
    "    for i in range(K):\n",
    "        temp.append(1)\n",
    "        \n",
    "    return temp"
   ]
  },
  {
   "cell_type": "code",
   "execution_count": 19,
   "metadata": {},
   "outputs": [
    {
     "data": {
      "text/plain": [
       "[1, 1, 1, 1, 1, 1, 1, 1, 1, 1]"
      ]
     },
     "execution_count": 19,
     "metadata": {},
     "output_type": "execute_result"
    }
   ],
   "source": [
    "vectorOfOnes(10)"
   ]
  },
  {
   "cell_type": "markdown",
   "metadata": {},
   "source": [
    "# Getters"
   ]
  },
  {
   "cell_type": "code",
   "execution_count": 20,
   "metadata": {},
   "outputs": [],
   "source": [
    "def getX(K):\n",
    "    \n",
    "    X = []\n",
    "    \n",
    "    for i in range(K):\n",
    "        X.append(random.uniform(-10,10))\n",
    "        #X.append(random.uniform(-100000000000, 100000000000))\n",
    "    \n",
    "    return X"
   ]
  },
  {
   "cell_type": "code",
   "execution_count": 21,
   "metadata": {},
   "outputs": [],
   "source": [
    "def getMatrix(K):\n",
    "    \n",
    "    M = []\n",
    "    \n",
    "    for i in range(K):\n",
    "        temp = []\n",
    "        for j in range(K):\n",
    "            temp.append(random.uniform(-10,10))\n",
    "        M.append(temp)\n",
    "    \n",
    "    return M"
   ]
  },
  {
   "cell_type": "code",
   "execution_count": 22,
   "metadata": {},
   "outputs": [],
   "source": [
    "def getY(A,x):\n",
    "    return matrixVectorMultiplication(A,x)"
   ]
  },
  {
   "cell_type": "code",
   "execution_count": 23,
   "metadata": {},
   "outputs": [],
   "source": [
    "def getU(y):\n",
    "    \n",
    "    u = []\n",
    "    \n",
    "    for i in y:\n",
    "        u.append(sigmoid(i))\n",
    "    \n",
    "    return u"
   ]
  },
  {
   "cell_type": "code",
   "execution_count": 24,
   "metadata": {},
   "outputs": [],
   "source": [
    "def getV(B,x):\n",
    "    return matrixVectorMultiplication(B,x)"
   ]
  },
  {
   "cell_type": "code",
   "execution_count": 25,
   "metadata": {},
   "outputs": [],
   "source": [
    "def getZ(u,v):\n",
    "    return vectorAddition(u,v)"
   ]
  },
  {
   "cell_type": "code",
   "execution_count": 26,
   "metadata": {},
   "outputs": [],
   "source": [
    "def getW(C,z):\n",
    "    return matrixVectorMultiplication(C,z)"
   ]
  },
  {
   "cell_type": "code",
   "execution_count": 27,
   "metadata": {},
   "outputs": [],
   "source": [
    "def getL(w):\n",
    "    return get2Norm(w)"
   ]
  },
  {
   "cell_type": "markdown",
   "metadata": {},
   "source": [
    "# Forward Propagation"
   ]
  },
  {
   "cell_type": "code",
   "execution_count": 28,
   "metadata": {},
   "outputs": [],
   "source": [
    "def forwardPropagation(x, A, B, C):\n",
    "   \n",
    "    print(\"________________________ INPUT\")\n",
    "    print(\"x:\" + str(x))\n",
    "    print(\"A:\" + str(A))\n",
    "    print(\"B:\" + str(B))\n",
    "    print(\"C:\" + str(C))\n",
    "    print(\"________________________ FORWARD PROPAGATION OUTPUT\")\n",
    "\n",
    "    y = getY(A,x)\n",
    "    print(\"y:\" + str(y))\n",
    "\n",
    "    u = getU(y)\n",
    "    print(\"u:\" + str(u))\n",
    "\n",
    "    v = getV(B,x)\n",
    "    print(\"v:\" + str(v))\n",
    "\n",
    "    z = getZ(u,v)\n",
    "    print(\"z:\" + str(z))\n",
    "\n",
    "    w = getW(C,z)\n",
    "    print(\"w:\" + str(w))\n",
    "\n",
    "    L = getL(w)\n",
    "    print(\"L: \" + str(L))\n",
    "    \n",
    "    return (y,u,v,z,w,L)"
   ]
  },
  {
   "cell_type": "code",
   "execution_count": 29,
   "metadata": {},
   "outputs": [
    {
     "name": "stdout",
     "output_type": "stream",
     "text": [
      "________________________ INPUT\n",
      "x:[-7.417861697653971, 1.4437873043031697]\n",
      "A:[[7.1800084535570505, 6.620774349485501], [7.873332053518201, -9.837606518103865]]\n",
      "B:[[-1.48758209880366, -0.22008120177188495], [-4.404979611169521, 5.3583229448318335]]\n",
      "C:[[7.796503980735171, -2.7782713587251218], [5.353508531443008, -9.066981901227065]]\n",
      "________________________ FORWARD PROPAGATION OUTPUT\n",
      "y:[-43.70131974602933, -72.60669966827243]\n",
      "u:[1.0489577171762921e-19, 2.9329927189589063e-32]\n",
      "v:[10.716927827797345, 40.411808176745645]\n",
      "z:[10.716927827797345, 40.411808176745645]\n",
      "w:[-28.720398741072586, -309.0399687774406]\n",
      "L: 310.3716539985694\n"
     ]
    }
   ],
   "source": [
    "K = 2\n",
    "forward = forwardPropagation(getX(K), getMatrix(K), getMatrix(K), getMatrix(K))"
   ]
  },
  {
   "cell_type": "markdown",
   "metadata": {},
   "source": [
    "# Backward Propagation"
   ]
  },
  {
   "cell_type": "code",
   "execution_count": 30,
   "metadata": {},
   "outputs": [],
   "source": [
    "def backwardPropagation(x, A, B, C):\n",
    "    \n",
    "    dL_dA = 0\n",
    "    dL_dB = 0\n",
    "    dL_dC = 0\n",
    "    \n",
    "    \n",
    "    (y,u,v,z,w,L) = forwardPropagation(x,A,B,C)\n",
    "    \n",
    "    print(\"________________________ BACKWARD PROPAGATION OUTPUT\")\n",
    "    \n",
    "    #(1)\n",
    "    dL_dw = vectorscalarMultiplication(2,w)\n",
    "    print(\"dL_dW: \" + str(dL_dw))\n",
    "    \n",
    "    #(2)\n",
    "    dw_dC = z\n",
    "    print(\"dw_dC: \" + str(dw_dC))\n",
    "    \n",
    "    #(3)\n",
    "    dL_dC = vectorDotProduct(dL_dw, dw_dC)\n",
    "    print(\"! dL_dC: \" + str(dL_dC))\n",
    "    \n",
    "    #(4)\n",
    "    dw_dz = C\n",
    "    print(\"dw_dz: \" + str(dw_dz))\n",
    "    \n",
    "    #(5)\n",
    "    dL_dz = vectorMatrixMultiplication(dL_dw,dw_dz)\n",
    "    print(\"dL_dz: \" + str(dL_dz))\n",
    "    \n",
    "    #(6)\n",
    "    dz_du = vectorOfOnes(len(x))\n",
    "    print(\"dz_du: \" + str(dz_du))\n",
    "    \n",
    "    dz_dv = vectorOfOnes(len(x))\n",
    "    print(\"dz_dv: \" + str(dz_dv))\n",
    "    \n",
    "    #(7)\n",
    "    dL_du = vectorDotProduct(dL_dz, dz_du)\n",
    "    print(\"dL_du: \" + str(dL_du))\n",
    "    \n",
    "    #(8)\n",
    "    dL_dv = vectorDotProduct(dL_dz, dz_dv)\n",
    "    print(\"dL_dv: \" + str(dL_dv))\n",
    "    \n",
    "    #(9)\n",
    "    dv_dB = x\n",
    "    print(\"dv_dB: \" + str(dv_dB))\n",
    "    \n",
    "    #(10)\n",
    "    dL_dB = vectorDotProduct(dL_dv, dv_dB)\n",
    "    print(\"! dL_dB: \" + str(dL_dB))\n",
    "    \n",
    "    #(11)\n",
    "    du_dy = vectorDotProduct(sigmoidList(y), vectorAddition(vectorOfOnes(len(x)), vectorscalarMultiplication(-1, sigmoidList(y))))\n",
    "    print(\"du_dy: \" + str(du_dy))\n",
    "    \n",
    "    #(12)\n",
    "    dL_dy = vectorDotProduct(dL_du, du_dy)\n",
    "    print(\"dL_dy: \" + str(dL_dy))\n",
    "    \n",
    "    #(13)\n",
    "    dy_dA = x\n",
    "    print(\"dy_dA: \" + str(dy_dA))\n",
    "    \n",
    "    #(14)\n",
    "    dL_dA = vectorDotProduct(dL_dy, dy_dA)\n",
    "    print(\"! dL_dA: \" + str(dL_dA))\n",
    "    \n",
    "    \n",
    "    return (dL_dA, dL_dB, dL_dC)"
   ]
  },
  {
   "cell_type": "code",
   "execution_count": 31,
   "metadata": {},
   "outputs": [
    {
     "name": "stdout",
     "output_type": "stream",
     "text": [
      "________________________ INPUT\n",
      "x:[-9.443502158725911, -9.931343374730623]\n",
      "A:[[9.845592693879041, -7.477139249271259], [5.583719834800441, -3.0813491134363513]]\n",
      "B:[[6.463285742044562, -1.696474450628891], [4.158523776023255, -9.423679353772329]]\n",
      "C:[[-0.9339308792123369, 9.218689215153848], [4.68932891894676, 7.783731600040294]]\n",
      "________________________ FORWARD PROPAGATION OUTPUT\n",
      "y:[-18.71883851339436, -22.127934210700463]\n",
      "u:[7.42184231009135e-09, 2.454484400422235e-10]\n",
      "v:[-44.18778256180721, 54.31876725968394]\n",
      "z:[-44.18778255438537, 54.31876725992939]\n",
      "w:[542.0161685310237, 215.5916585999361]\n",
      "L: 583.319200958551\n",
      "________________________ BACKWARD PROPAGATION OUTPUT\n",
      "dL_dW: [1084.0323370620474, 431.1833171998722]\n",
      "dw_dC: [-44.18778255438537, 54.31876725992939]\n",
      "! dL_dC: [-47900.98519201994, 23421.346253344167]\n",
      "dw_dz: [[-0.9339308792123369, 9.218689215153848], [4.68932891894676, 7.783731600040294]]\n",
      "dL_dz: [1009.5491250657923, 13349.57242605076]\n",
      "dz_du: [1, 1]\n",
      "dz_dv: [1, 1]\n",
      "dL_du: [1009.5491250657923, 13349.57242605076]\n",
      "dL_dv: [1009.5491250657923, 13349.57242605076]\n",
      "dv_dB: [-9.443502158725911, -9.931343374730623]\n",
      "! dL_dB: [-9533.679341898664, -132579.18766894581]\n",
      "du_dy: [7.421842255007606e-09, 2.454484399819785e-10]\n",
      "dL_dy: [7.492714354919256e-06, 3.276631726400595e-06]\n",
      "dy_dA: [-9.443502158725911, -9.931343374730623]\n",
      "! dL_dA: [-7.075746418539661e-05, -3.2541354787420714e-05]\n"
     ]
    }
   ],
   "source": [
    "N = K\n",
    "backward = backwardPropagation(getX(K), getMatrix(K), getMatrix(K), getMatrix(K))"
   ]
  },
  {
   "cell_type": "code",
   "execution_count": 32,
   "metadata": {},
   "outputs": [
    {
     "data": {
      "text/plain": [
       "([-7.075746418539661e-05, -3.2541354787420714e-05],\n",
       " [-9533.679341898664, -132579.18766894581],\n",
       " [-47900.98519201994, 23421.346253344167])"
      ]
     },
     "execution_count": 32,
     "metadata": {},
     "output_type": "execute_result"
    }
   ],
   "source": [
    "backward"
   ]
  },
  {
   "cell_type": "markdown",
   "metadata": {},
   "source": [
    "# torch.autograd"
   ]
  },
  {
   "cell_type": "code",
   "execution_count": 33,
   "metadata": {},
   "outputs": [],
   "source": [
    "import torch.autograd\n",
    "import torch"
   ]
  },
  {
   "cell_type": "code",
   "execution_count": 34,
   "metadata": {},
   "outputs": [],
   "source": [
    "K = 2\n",
    "x = getX(K)\n",
    "A = getMatrix(K)\n",
    "B = getMatrix(K)\n",
    "C = getMatrix(K)"
   ]
  },
  {
   "cell_type": "code",
   "execution_count": 35,
   "metadata": {},
   "outputs": [
    {
     "name": "stdout",
     "output_type": "stream",
     "text": [
      "________________________ INPUT\n",
      "x:[3.2325948752434073, 2.179425295556989]\n",
      "A:[[-3.6937751466240414, 6.516766509431463], [1.5860444392413076, -4.921587335961051]]\n",
      "B:[[8.450106218896526, -4.409824229595425], [-7.666429121819296, -6.413813070112933]]\n",
      "C:[[0.7214242293674609, 4.41836427057234], [-1.3469810032827958, -5.206484308219139]]\n",
      "________________________ FORWARD PROPAGATION OUTPUT\n",
      "y:[2.2623271666152096, -5.599192808086691]\n",
      "u:[0.9057085601212563, 0.003687204018900996]\n",
      "v:[17.704887583526975, -38.760885936588025]\n",
      "z:[18.61059614364823, -38.75719873256912]\n",
      "w:[-157.81728712645452, 176.72062756638962]\n",
      "L: 236.93137471304297\n",
      "________________________ BACKWARD PROPAGATION OUTPUT\n",
      "dL_dW: [-315.63457425290903, 353.44125513277925]\n",
      "dw_dC: [18.61059614364823, -38.75719873256912]\n",
      "! dL_dC: [-5874.14759039324, -13698.392965469791]\n",
      "dw_dz: [[0.7214242293674609, 4.41836427057234], [-1.3469810032827958, -5.206484308219139]]\n",
      "dL_dz: [-703.785085932413, -3234.7748741624578]\n",
      "dz_du: [1, 1]\n",
      "dz_dv: [1, 1]\n",
      "dL_du: [-703.785085932413, -3234.7748741624578]\n",
      "dL_dv: [-703.785085932413, -3234.7748741624578]\n",
      "dv_dB: [3.2325948752434073, 2.179425295556989]\n",
      "! dL_dB: [-2275.0520620578595, -7049.950186181836]\n",
      "du_dy: [0.08540056424433694, 0.0036736085454239964]\n",
      "dL_dy: [-60.10364344537723, -11.883296620246037]\n",
      "dy_dA: [3.2325948752434073, 2.179425295556989]\n",
      "! dL_dA: [-194.29072978498343, -25.898757248771087]\n"
     ]
    }
   ],
   "source": [
    "backward = backwardPropagation(x,A,B,C)"
   ]
  },
  {
   "cell_type": "code",
   "execution_count": 37,
   "metadata": {},
   "outputs": [
    {
     "data": {
      "text/plain": [
       "tensor([3.2326, 2.1794], requires_grad=True)"
      ]
     },
     "execution_count": 37,
     "metadata": {},
     "output_type": "execute_result"
    }
   ],
   "source": [
    "x_torch = torch.tensor(x, requires_grad=True)\n",
    "A_torch = torch.tensor(A, requires_grad=True)\n",
    "B_torch = torch.tensor(B, requires_grad=True)\n",
    "C_torch = torch.tensor(C, requires_grad=True)\n",
    "\n",
    "x_torch"
   ]
  },
  {
   "cell_type": "code",
   "execution_count": null,
   "metadata": {},
   "outputs": [],
   "source": [
    "m = torch.nn.Sigmoid()\n",
    "\n",
    "y_torch = torch.matmul(A_torch, x_torch)\n",
    "u_torch = m(y_torch)\n",
    "v_torch = torch.matmul(B_torch, x_torch)\n",
    "z_torch = torch.add(u_torch, v_torch)\n",
    "w_torch = torch.matmul(C_torch, z_torch)\n",
    "L_torch = torch.norm(w_torch)\n",
    "\n",
    "external_grad = torch.tensor([1., 1.])\n",
    "y_torch.backward(gradient = external_grad)\n",
    "\n",
    "print(x_torch.grad, A_torch)\n",
    "#print(A_torch.grad, x_torch)\n",
    "\n",
    "\n",
    "# Q = 3*x_torch**3\n",
    "#\n",
    "# external_grad = torch.tensor([1., 1.])\n",
    "# Q.backward(gradient=external_grad)\n",
    "#\n",
    "# print(x_torch.grad, 9 * x_torch ** 2)"
   ]
  },
  {
   "cell_type": "markdown",
   "metadata": {},
   "source": [
    "# Stochastic Gradient Descent"
   ]
  },
  {
   "cell_type": "code",
   "execution_count": 96,
   "metadata": {},
   "outputs": [
    {
     "name": "stdout",
     "output_type": "stream",
     "text": [
      "Tensor derivative: tensor([[3., 3.]])\n",
      "\n"
     ]
    }
   ],
   "source": [
    "A_torch = torch.tensor([[1.0], [2.0]], requires_grad=True)\n",
    "x_torch = torch.tensor([[5.0 , 6.0]], requires_grad=True)\n",
    "\n",
    "y_torch = torch.matmul(A_torch, x_torch)\n",
    "\n",
    "external_grad = torch.tensor([[1.0, 1.0], [1.0, 1.0]])\n",
    "y_torch.backward(gradient=external_grad)\n",
    "\n",
    "print(\"Tensor derivative: \"+ str(x_torch.grad) +\"\\n\")\n",
    "      "
   ]
  },
  {
   "cell_type": "code",
   "execution_count": 62,
   "metadata": {},
   "outputs": [
    {
     "data": {
      "text/plain": [
       "tensor([6., 8.], grad_fn=<AddBackward0>)"
      ]
     },
     "execution_count": 62,
     "metadata": {},
     "output_type": "execute_result"
    }
   ],
   "source": [
    "y_torch"
   ]
  },
  {
   "cell_type": "code",
   "execution_count": null,
   "metadata": {},
   "outputs": [],
   "source": []
  }
 ],
 "metadata": {
  "kernelspec": {
   "display_name": "Python 3",
   "language": "python",
   "name": "python3"
  },
  "language_info": {
   "codemirror_mode": {
    "name": "ipython",
    "version": 3
   },
   "file_extension": ".py",
   "mimetype": "text/x-python",
   "name": "python",
   "nbconvert_exporter": "python",
   "pygments_lexer": "ipython3",
   "version": "3.8.5"
  }
 },
 "nbformat": 4,
 "nbformat_minor": 4
}
