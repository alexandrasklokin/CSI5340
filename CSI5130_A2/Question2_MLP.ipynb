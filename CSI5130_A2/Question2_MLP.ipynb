{
 "cells": [
  {
   "cell_type": "code",
   "execution_count": 14,
   "metadata": {},
   "outputs": [],
   "source": [
    "import numpy as np\n",
    "import struct\n",
    "import matplotlib.pyplot as plt\n",
    "import pandas as pd\n",
    "import tensorflow as tf\n",
    "from torchvision import datasets, transforms\n",
    "import time"
   ]
  },
  {
   "cell_type": "code",
   "execution_count": 15,
   "metadata": {},
   "outputs": [],
   "source": [
    "mnist_training, mnist_testing = tf.keras.datasets.mnist.load_data()\n",
    "training_data = np.float16(mnist_training[0])  # Returns np.array\n",
    "training_labels = np.asarray(mnist_training[1], dtype=np.int32)\n",
    "testing_data = np.float16(mnist_testing[0])  # Returns np.array\n",
    "testing_labels = np.asarray(mnist_testing[1], dtype=np.int32)"
   ]
  },
  {
   "cell_type": "code",
   "execution_count": 16,
   "metadata": {},
   "outputs": [],
   "source": [
    "feature_columns = [tf.feature_column.numeric_column(\"images\", shape=[28, 28])]\n",
    "\n",
    "train_input_fn = tf.compat.v1.estimator.inputs.numpy_input_fn(\n",
    "    x={\"images\": training_data},\n",
    "    y= training_labels,\n",
    "    num_epochs = None,\n",
    "    batch_size = 50,\n",
    "    shuffle = True\n",
    ")\n",
    "\n",
    "test_input_fn = tf.compat.v1.estimator.inputs.numpy_input_fn(\n",
    "    x = {\"images\": testing_data},\n",
    "    y = testing_labels,\n",
    "    num_epochs = 1,\n",
    "    shuffle = False\n",
    ")"
   ]
  },
  {
   "cell_type": "code",
   "execution_count": 17,
   "metadata": {},
   "outputs": [],
   "source": [
    "def repeatedTrainingAndTesting(model_name, dropout, batch_normalization, M):\n",
    "    \n",
    "          \n",
    "    classifier = tf.estimator.DNNClassifier(\n",
    "        feature_columns = feature_columns,\n",
    "        hidden_units = [100, 100],\n",
    "        optimizer = 'Adam',\n",
    "        n_classes = 10,\n",
    "        dropout = dropout,\n",
    "        model_dir=\"./models/\"+model_name,\n",
    "        batch_norm = batch_normalization\n",
    "    )\n",
    "    \n",
    "    accuracies = []\n",
    "    totalTime = 0\n",
    "    \n",
    "    for i in range(M):\n",
    "        \n",
    "        print('_______________________________________________________________________ M='+str(i+1))\n",
    "        \n",
    "        # TRAIN\n",
    "        start_time = time.time()\n",
    "        classifier.train(input_fn = train_input_fn, steps=5000)\n",
    "        end_time = time.time()\n",
    "        duration = end_time - start_time\n",
    "        print(\"Training time: --- %s seconds ---\" % (duration))\n",
    "        totalTime += duration\n",
    "        \n",
    "        # TEST\n",
    "        start_time = time.time()\n",
    "        accuracy_score = classifier.evaluate(input_fn=test_input_fn)[\"accuracy\"]\n",
    "        end_time = time.time()\n",
    "        duration = end_time - start_time\n",
    "        print(\"Testing Accuracy: {0:f}%\\n\".format(accuracy_score*100))\n",
    "        print(\"Testing time: --- %s seconds ---\" % (duration))\n",
    "        accuracies.append(accuracy_score)\n",
    "        totalTime += duration\n",
    "        \n",
    "    return (accuracies, totalTime)"
   ]
  },
  {
   "cell_type": "markdown",
   "metadata": {},
   "source": [
    "# MLP"
   ]
  },
  {
   "cell_type": "code",
   "execution_count": 18,
   "metadata": {},
   "outputs": [],
   "source": [
    "m = 50"
   ]
  },
  {
   "cell_type": "markdown",
   "metadata": {},
   "source": [
    "## With Dropout, With Batch-Normalization"
   ]
  },
  {
   "cell_type": "code",
   "execution_count": null,
   "metadata": {},
   "outputs": [
    {
     "name": "stdout",
     "output_type": "stream",
     "text": [
      "INFO:tensorflow:Using default config.\n",
      "INFO:tensorflow:Using config: {'_model_dir': './models/mlp_DO_BN', '_tf_random_seed': None, '_save_summary_steps': 100, '_save_checkpoints_steps': None, '_save_checkpoints_secs': 600, '_session_config': allow_soft_placement: true\n",
      "graph_options {\n",
      "  rewrite_options {\n",
      "    meta_optimizer_iterations: ONE\n",
      "  }\n",
      "}\n",
      ", '_keep_checkpoint_max': 5, '_keep_checkpoint_every_n_hours': 10000, '_log_step_count_steps': 100, '_train_distribute': None, '_device_fn': None, '_protocol': None, '_eval_distribute': None, '_experimental_distribute': None, '_experimental_max_worker_delay_secs': None, '_session_creation_timeout_secs': 7200, '_checkpoint_save_graph_def': True, '_service': None, '_cluster_spec': ClusterSpec({}), '_task_type': 'worker', '_task_id': 0, '_global_id_in_cluster': 0, '_master': '', '_evaluation_master': '', '_is_chief': True, '_num_ps_replicas': 0, '_num_worker_replicas': 1}\n",
      "_______________________________________________________________________ M=1\n",
      "INFO:tensorflow:Calling model_fn.\n",
      "INFO:tensorflow:Done calling model_fn.\n",
      "INFO:tensorflow:Create CheckpointSaverHook.\n",
      "INFO:tensorflow:Graph was finalized.\n",
      "INFO:tensorflow:Restoring parameters from ./models/mlp_DO_BN\\model.ckpt-130000\n",
      "INFO:tensorflow:Running local_init_op.\n",
      "INFO:tensorflow:Done running local_init_op.\n",
      "INFO:tensorflow:Calling checkpoint listeners before saving checkpoint 130000...\n",
      "INFO:tensorflow:Saving checkpoints for 130000 into ./models/mlp_DO_BN\\model.ckpt.\n",
      "INFO:tensorflow:Calling checkpoint listeners after saving checkpoint 130000...\n",
      "INFO:tensorflow:loss = 0.06542742, step = 130000\n",
      "INFO:tensorflow:global_step/sec: 288.97\n",
      "INFO:tensorflow:loss = 0.045625284, step = 130100 (0.350 sec)\n",
      "INFO:tensorflow:global_step/sec: 391.67\n",
      "INFO:tensorflow:loss = 0.009045678, step = 130200 (0.256 sec)\n",
      "INFO:tensorflow:global_step/sec: 396.313\n",
      "INFO:tensorflow:loss = 0.0017584241, step = 130300 (0.251 sec)\n",
      "INFO:tensorflow:global_step/sec: 397.888\n",
      "INFO:tensorflow:loss = 0.09289318, step = 130400 (0.250 sec)\n",
      "INFO:tensorflow:global_step/sec: 374.131\n",
      "INFO:tensorflow:loss = 0.013899696, step = 130500 (0.267 sec)\n",
      "INFO:tensorflow:global_step/sec: 368.63\n",
      "INFO:tensorflow:loss = 0.011387408, step = 130600 (0.273 sec)\n",
      "INFO:tensorflow:global_step/sec: 366.067\n",
      "INFO:tensorflow:loss = 0.016249761, step = 130700 (0.271 sec)\n",
      "INFO:tensorflow:global_step/sec: 256.435\n",
      "INFO:tensorflow:loss = 0.005158756, step = 130800 (0.391 sec)\n"
     ]
    }
   ],
   "source": [
    "(accuracies_DO_BN, time_DO_BN) = repeatedTrainingAndTesting(model_name = \"mlp_DO_BN\", dropout = 0.2, batch_normalization = True, M=m)"
   ]
  },
  {
   "cell_type": "markdown",
   "metadata": {},
   "source": [
    "# Without Dropout, With Batch-Normalization"
   ]
  },
  {
   "cell_type": "code",
   "execution_count": null,
   "metadata": {},
   "outputs": [],
   "source": [
    "(accuracies_BN, time_BN) = repeatedTrainingAndTesting(model_name = \"mlp_BN\", dropout = None, batch_normalization = True, M=m)"
   ]
  },
  {
   "cell_type": "markdown",
   "metadata": {},
   "source": [
    "# With Dropout, Without Batch-Normalization"
   ]
  },
  {
   "cell_type": "code",
   "execution_count": null,
   "metadata": {},
   "outputs": [],
   "source": [
    "(accuracies_DO, time_DO) = repeatedTrainingAndTesting(model_name = \"mlp_DO\", dropout = 0.2, batch_normalization = False, M=m)"
   ]
  },
  {
   "cell_type": "markdown",
   "metadata": {},
   "source": [
    "# Without Dropout, Without Batch-Normalization"
   ]
  },
  {
   "cell_type": "code",
   "execution_count": null,
   "metadata": {},
   "outputs": [],
   "source": [
    "(accuracies_none, time_none) = repeatedTrainingAndTesting(model_name = \"mlp_none\", dropout = None, batch_normalization = False, M=m)"
   ]
  },
  {
   "cell_type": "markdown",
   "metadata": {},
   "source": [
    "# Save Results"
   ]
  },
  {
   "cell_type": "code",
   "execution_count": null,
   "metadata": {},
   "outputs": [],
   "source": [
    "data = {'Accuracy_DO_BN': accuracies_DO_BN, 'Time_DO_BN': time_DO_BN } , \n",
    "        'Accuracy_BN' : accuracies_BN, 'Time_BN' : time_BN, \n",
    "        'Accuracy_DO' : accuracies_DO, 'Time_DO': time_DO, \n",
    "        'Accuracy_NONE': accuracies_none, 'Time_NONE': time_none}\n",
    "\n",
    "df = pd.DataFrame(data)\n",
    "\n",
    "df.to_csv('outputs/MLP.csv')"
   ]
  },
  {
   "cell_type": "code",
   "execution_count": null,
   "metadata": {},
   "outputs": [],
   "source": []
  }
 ],
 "metadata": {
  "kernelspec": {
   "display_name": "Python 3",
   "language": "python",
   "name": "python3"
  },
  "language_info": {
   "codemirror_mode": {
    "name": "ipython",
    "version": 3
   },
   "file_extension": ".py",
   "mimetype": "text/x-python",
   "name": "python",
   "nbconvert_exporter": "python",
   "pygments_lexer": "ipython3",
   "version": "3.8.5"
  }
 },
 "nbformat": 4,
 "nbformat_minor": 4
}
